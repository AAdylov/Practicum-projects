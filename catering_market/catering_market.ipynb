{
 "cells": [
  {
   "cell_type": "markdown",
   "metadata": {},
   "source": [
    "# Исследование рынка заведений общественного питания Москвы.\n",
    "___\n",
    "<h3> Описание исследования. </h3> \n",
    "    \n",
    "В данном исследовании мы поставим себя на место аналитика исследующего рынок общепита в Москве. Мы хотим открыть небольшое кафе в Москве. Вместе с партнёрами мы решились обратиться к инвесторам. Их интересует текущее положение дел на рынке.\n",
    "\n",
    "<h3> Цель исследования. </h3> \n",
    "\n",
    "**Провести исследование рынка заведений общественного питания Москвы, дать рекомендации о виде будущего заведения, вместимости и приоритетном расположении.**\n",
    "    \n",
    "Суть исследования: Проанализировать рынок общепита столицы по параметрам: геолокация, вместимость, тип заведения, сетевое оно или нет.\n",
    "\n",
    "<h3>  Задачи исследования.</h3> \n",
    "\n",
    "В нашем исследовании мы ознакомимся с входными данными, подготовим их для исследования, проанализируем их по параметрам, найдём закономерности и взаимосвязи в параметрах. Определим оптимальные параметры для нашего будущего заведения и составим презентацию по результатам анализа для предоставления инвесторам.\n",
    "\n",
    "<h3> Исходные данные. </h3>\n",
    "\n",
    "У нас в распоряжении таблица с данными о заведениях общественного питания в Москве.\n",
    "\n",
    "<h3>Содержание</h3>\n",
    "\n",
    "##### Часть 1. Знакомство с данными:\n",
    "* [1. Загрузка библиотек, изучение и описание файлов с данными.](#part1.1)\n",
    "* [2. Вывод.](#part1.2)\n",
    "\n",
    "##### Часть 2. Подготовка данных для исследования:\n",
    "* [1. Работа с названиями заведений.](#part2.1)\n",
    "* [2. Обработка дубликатов.](#part2.2)\n",
    "* [3. Вывод.](#part2.3)\n",
    "\n",
    "\n",
    "##### Часть 3. Анализ данных:\n",
    "* [1. Анализ соотношения видов объектов общественного питания по количеству.](#part3.1)\n",
    "* [2. Анализ соотношения сетевых и несетевых заведений по количеству.](#part3.2)\n",
    "* [3. Анализ заведений с сетевым распространением: виды объектов, вместимость.](#part3.3)\n",
    "* [4. Анализ соотношения видов объектов общественного питания по количеству посадочных мест.](#part3.4)\n",
    "* [5. Анализ расположения заведений общепита, определение районов столицы с максимальным и минимальным количеством заведений.](#part3.5)\n",
    "* [6. Анализ распределения количества посадочных мест для улиц с большим количеством объектов общественного питания.](#part3.6)\n",
    "* [7. Вывод.](#part3.7)\n",
    "\n",
    "##### Часть 4. Подготовка презентации:\n",
    "* [Презентация.](#part4)\n",
    "\n",
    "##### Часть 5. Формирование общего вывода:\n",
    "* [Вывод.](#part5)\n",
    "___"
   ]
  },
  {
   "cell_type": "markdown",
   "metadata": {},
   "source": [
    "<a id='part1.1'></a>"
   ]
  },
  {
   "cell_type": "markdown",
   "metadata": {},
   "source": [
    "## Часть 1. Знакомство с данными.\n",
    "### Загрузка библиотек, изучение и описание файлов с данными."
   ]
  },
  {
   "cell_type": "code",
   "execution_count": 1,
   "metadata": {},
   "outputs": [],
   "source": [
    "import pandas as pd\n",
    "from matplotlib import pyplot as plt\n",
    "import seaborn as sns\n",
    "import numpy as np\n",
    "import re\n",
    "from io import BytesIO\n",
    "import requests"
   ]
  },
  {
   "cell_type": "code",
   "execution_count": 2,
   "metadata": {},
   "outputs": [],
   "source": [
    "df = pd.read_csv('catering.csv')"
   ]
  },
  {
   "cell_type": "code",
   "execution_count": 3,
   "metadata": {},
   "outputs": [
    {
     "data": {
      "text/html": [
       "<div>\n",
       "<style scoped>\n",
       "    .dataframe tbody tr th:only-of-type {\n",
       "        vertical-align: middle;\n",
       "    }\n",
       "\n",
       "    .dataframe tbody tr th {\n",
       "        vertical-align: top;\n",
       "    }\n",
       "\n",
       "    .dataframe thead th {\n",
       "        text-align: right;\n",
       "    }\n",
       "</style>\n",
       "<table border=\"1\" class=\"dataframe\">\n",
       "  <thead>\n",
       "    <tr style=\"text-align: right;\">\n",
       "      <th></th>\n",
       "      <th>id</th>\n",
       "      <th>object_name</th>\n",
       "      <th>chain</th>\n",
       "      <th>object_type</th>\n",
       "      <th>address</th>\n",
       "      <th>number</th>\n",
       "    </tr>\n",
       "  </thead>\n",
       "  <tbody>\n",
       "    <tr>\n",
       "      <th>0</th>\n",
       "      <td>151635</td>\n",
       "      <td>СМЕТАНА</td>\n",
       "      <td>нет</td>\n",
       "      <td>кафе</td>\n",
       "      <td>город Москва, улица Егора Абакумова, дом 9</td>\n",
       "      <td>48</td>\n",
       "    </tr>\n",
       "    <tr>\n",
       "      <th>1</th>\n",
       "      <td>77874</td>\n",
       "      <td>Родник</td>\n",
       "      <td>нет</td>\n",
       "      <td>кафе</td>\n",
       "      <td>город Москва, улица Талалихина, дом 2/1, корпус 1</td>\n",
       "      <td>35</td>\n",
       "    </tr>\n",
       "    <tr>\n",
       "      <th>2</th>\n",
       "      <td>24309</td>\n",
       "      <td>Кафе «Академия»</td>\n",
       "      <td>нет</td>\n",
       "      <td>кафе</td>\n",
       "      <td>город Москва, Абельмановская улица, дом 6</td>\n",
       "      <td>95</td>\n",
       "    </tr>\n",
       "    <tr>\n",
       "      <th>3</th>\n",
       "      <td>21894</td>\n",
       "      <td>ПИЦЦЕТОРИЯ</td>\n",
       "      <td>да</td>\n",
       "      <td>кафе</td>\n",
       "      <td>город Москва, Абрамцевская улица, дом 1</td>\n",
       "      <td>40</td>\n",
       "    </tr>\n",
       "    <tr>\n",
       "      <th>4</th>\n",
       "      <td>119365</td>\n",
       "      <td>Кафе «Вишневая метель»</td>\n",
       "      <td>нет</td>\n",
       "      <td>кафе</td>\n",
       "      <td>город Москва, Абрамцевская улица, дом 9, корпус 1</td>\n",
       "      <td>50</td>\n",
       "    </tr>\n",
       "  </tbody>\n",
       "</table>\n",
       "</div>"
      ],
      "text/plain": [
       "       id             object_name chain object_type  \\\n",
       "0  151635                 СМЕТАНА   нет        кафе   \n",
       "1   77874                  Родник   нет        кафе   \n",
       "2   24309         Кафе «Академия»   нет        кафе   \n",
       "3   21894              ПИЦЦЕТОРИЯ    да        кафе   \n",
       "4  119365  Кафе «Вишневая метель»   нет        кафе   \n",
       "\n",
       "                                             address  number  \n",
       "0         город Москва, улица Егора Абакумова, дом 9      48  \n",
       "1  город Москва, улица Талалихина, дом 2/1, корпус 1      35  \n",
       "2          город Москва, Абельмановская улица, дом 6      95  \n",
       "3            город Москва, Абрамцевская улица, дом 1      40  \n",
       "4  город Москва, Абрамцевская улица, дом 9, корпус 1      50  "
      ]
     },
     "metadata": {},
     "output_type": "display_data"
    },
    {
     "name": "stdout",
     "output_type": "stream",
     "text": [
      "<class 'pandas.core.frame.DataFrame'>\n",
      "RangeIndex: 15366 entries, 0 to 15365\n",
      "Data columns (total 6 columns):\n",
      " #   Column       Non-Null Count  Dtype \n",
      "---  ------       --------------  ----- \n",
      " 0   id           15366 non-null  int64 \n",
      " 1   object_name  15366 non-null  object\n",
      " 2   chain        15366 non-null  object\n",
      " 3   object_type  15366 non-null  object\n",
      " 4   address      15366 non-null  object\n",
      " 5   number       15366 non-null  int64 \n",
      "dtypes: int64(2), object(4)\n",
      "memory usage: 720.4+ KB\n"
     ]
    }
   ],
   "source": [
    "display(df.head())\n",
    "df.info()"
   ]
  },
  {
   "cell_type": "markdown",
   "metadata": {},
   "source": [
    "- Количество строк в таблице - 15366\n",
    "- Количество столбцов -  6\n",
    "\n",
    "Распределение столбцов по типам:\n",
    "- целочисленный - 2 столбца\n",
    "- строковый\t- 4 столбца\n",
    "\n",
    "Согласно документации к данным:\n",
    "- `id` — идентификатор объекта;\n",
    "- `object_name` — название объекта общественного питания;\n",
    "- `chain` — сетевой ресторан;\n",
    "- `object_type` — тип объекта общественного питания;\n",
    "- `address` — адрес;\n",
    "- `number` — количество посадочных мест."
   ]
  },
  {
   "cell_type": "markdown",
   "metadata": {},
   "source": [
    "<a id='part1.2'></a>"
   ]
  },
  {
   "cell_type": "markdown",
   "metadata": {},
   "source": [
    "### Вывод."
   ]
  },
  {
   "cell_type": "markdown",
   "metadata": {},
   "source": [
    "В таблице с данными имеется 15366 строк, в каждой строке информация об одном заведении общественного питания - название, тип, адрес, вместимость, сетевое или нет. На первый взгляд данные чистые, пропусков нет, столбцы названы как подобает, типы данных в порядке. Посмотрим более детально на данные, в т.ч. на дубликаты на следующем этапе. "
   ]
  },
  {
   "cell_type": "markdown",
   "metadata": {},
   "source": [
    "<a id='part2.1'></a>"
   ]
  },
  {
   "cell_type": "markdown",
   "metadata": {},
   "source": [
    "## Часть 2. Подготовка данных для исследования.\n",
    "### Работа с названиями заведений."
   ]
  },
  {
   "cell_type": "markdown",
   "metadata": {},
   "source": [
    "Посмотрим, какие названия заведений встречаются чаще."
   ]
  },
  {
   "cell_type": "code",
   "execution_count": 4,
   "metadata": {},
   "outputs": [
    {
     "data": {
      "text/plain": [
       "Столовая                    267\n",
       "Кафе                        236\n",
       "Шаурма                      234\n",
       "KFC                         155\n",
       "Шоколадница                 142\n",
       "Макдоналдс                  122\n",
       "Бургер Кинг                 122\n",
       "Домино'с Пицца               86\n",
       "Теремок                      84\n",
       "Крошка Картошка              82\n",
       "Пекарня                      76\n",
       "Милти                        65\n",
       "Суши Wok                     61\n",
       "Буфет                        59\n",
       "СТОЛОВАЯ                     52\n",
       "Папа Джонс                   50\n",
       "Кофе с собой                 44\n",
       "Школьно-базовая столовая     44\n",
       "Чайхона №1                   42\n",
       "КАФЕ                         41\n",
       "Name: object_name, dtype: int64"
      ]
     },
     "execution_count": 4,
     "metadata": {},
     "output_type": "execute_result"
    }
   ],
   "source": [
    "df['object_name'].value_counts().head(20)"
   ]
  },
  {
   "cell_type": "markdown",
   "metadata": {},
   "source": [
    "Имеются много заведений без названия, обозначенные как Кафе и Столовая и такие же только в верхнем регистре. Так же в топе есть известные сети: Шоколадница, KFC, Бургер Кинг и т.д.. \n",
    "\n",
    "Проверим так же, есть ли в таблице строки где обозначены сетевые кафе, но такие строки в единичном экземпляре."
   ]
  },
  {
   "cell_type": "code",
   "execution_count": 5,
   "metadata": {},
   "outputs": [
    {
     "data": {
      "text/html": [
       "<div>\n",
       "<style scoped>\n",
       "    .dataframe tbody tr th:only-of-type {\n",
       "        vertical-align: middle;\n",
       "    }\n",
       "\n",
       "    .dataframe tbody tr th {\n",
       "        vertical-align: top;\n",
       "    }\n",
       "\n",
       "    .dataframe thead th {\n",
       "        text-align: right;\n",
       "    }\n",
       "</style>\n",
       "<table border=\"1\" class=\"dataframe\">\n",
       "  <thead>\n",
       "    <tr style=\"text-align: right;\">\n",
       "      <th></th>\n",
       "      <th>id</th>\n",
       "    </tr>\n",
       "    <tr>\n",
       "      <th>object_name</th>\n",
       "      <th></th>\n",
       "    </tr>\n",
       "  </thead>\n",
       "  <tbody>\n",
       "    <tr>\n",
       "      <th>Beverly Hills Diner</th>\n",
       "      <td>1</td>\n",
       "    </tr>\n",
       "    <tr>\n",
       "      <th>Bierloga</th>\n",
       "      <td>1</td>\n",
       "    </tr>\n",
       "    <tr>\n",
       "      <th>Black &amp; White</th>\n",
       "      <td>1</td>\n",
       "    </tr>\n",
       "    <tr>\n",
       "      <th>BooBo</th>\n",
       "      <td>1</td>\n",
       "    </tr>\n",
       "    <tr>\n",
       "      <th>Bubbleology</th>\n",
       "      <td>1</td>\n",
       "    </tr>\n",
       "    <tr>\n",
       "      <th>...</th>\n",
       "      <td>...</td>\n",
       "    </tr>\n",
       "    <tr>\n",
       "      <th>кафе «Нияма»</th>\n",
       "      <td>1</td>\n",
       "    </tr>\n",
       "    <tr>\n",
       "      <th>кафе «Папа Джонс»</th>\n",
       "      <td>1</td>\n",
       "    </tr>\n",
       "    <tr>\n",
       "      <th>кафе «Шоколадница»</th>\n",
       "      <td>1</td>\n",
       "    </tr>\n",
       "    <tr>\n",
       "      <th>ресторан «Брудер»</th>\n",
       "      <td>1</td>\n",
       "    </tr>\n",
       "    <tr>\n",
       "      <th>ресторан «Якитория»</th>\n",
       "      <td>1</td>\n",
       "    </tr>\n",
       "  </tbody>\n",
       "</table>\n",
       "<p>450 rows × 1 columns</p>\n",
       "</div>"
      ],
      "text/plain": [
       "                     id\n",
       "object_name            \n",
       "Beverly Hills Diner   1\n",
       "Bierloga              1\n",
       "Black & White         1\n",
       "BooBo                 1\n",
       "Bubbleology           1\n",
       "...                  ..\n",
       "кафе «Нияма»          1\n",
       "кафе «Папа Джонс»     1\n",
       "кафе «Шоколадница»    1\n",
       "ресторан «Брудер»     1\n",
       "ресторан «Якитория»   1\n",
       "\n",
       "[450 rows x 1 columns]"
      ]
     },
     "execution_count": 5,
     "metadata": {},
     "output_type": "execute_result"
    }
   ],
   "source": [
    "df.query('chain == \"да\"').groupby('object_name').agg({'id':'count'}).query('id == 1')"
   ]
  },
  {
   "cell_type": "markdown",
   "metadata": {},
   "source": [
    "Есть и таких строк 450! Но так же обнаружился нюанс, некоторые названия заведений отображены неправильно, например: Якитория, Папа Джонс, Шоколадница - из-за кавычек и дополнительного слова с  типом заведения эти заведения не попадают каждый в свою сеть. Наверняка таких строк будет много. Поправим эту ситуацию:\n",
    "- приведём названия в нижний регистр;\n",
    "- удалим из названий заведений все символы, кроме букв, цифр и пробелов\n",
    "- удалим дополнительные слова с типом заведения хотя бы у топовых сетей"
   ]
  },
  {
   "cell_type": "code",
   "execution_count": 6,
   "metadata": {},
   "outputs": [
    {
     "data": {
      "text/plain": [
       "Index(['шоколадница', 'kfc', 'макдоналдс', 'бургер кинг', 'теремок',\n",
       "       'крошка картошка', 'домино'с пицца', 'милти', 'суши wok', 'папа джонс',\n",
       "       'додо пицца', 'кофе с собой', 'чайхона №1', 'якитория', 'хинкальная',\n",
       "       'кофе хаус', 'subway', 'тануки', 'хлеб насущный', 'starbucks',\n",
       "       'прайм стар', 'иль патио', 'cofix', 'мята lounge', 'му-му', 'старбакс',\n",
       "       'сабвей', 'андерсон', 'пицца хат', 'кафе «шоколадница»'],\n",
       "      dtype='object', name='object_name')"
      ]
     },
     "execution_count": 6,
     "metadata": {},
     "output_type": "execute_result"
    }
   ],
   "source": [
    "df['object_name'] = [x.lower() for x in df['object_name'].values]\n",
    "\n",
    "top_chain_objects = df.query('chain == \"да\"').groupby('object_name').agg(\n",
    "    {'id':'count'}).sort_values(by='id', ascending=False).head(30).index\n",
    "\n",
    "top_chain_objects"
   ]
  },
  {
   "cell_type": "code",
   "execution_count": 7,
   "metadata": {},
   "outputs": [],
   "source": [
    "def name_change(row):\n",
    "    new_row = re.sub(\"[^a-zа-я0-9\\s]\", \"\", row)\n",
    "    for name in top_chain_objects:\n",
    "        if name in new_row:\n",
    "            return name\n",
    "    return new_row"
   ]
  },
  {
   "cell_type": "code",
   "execution_count": 8,
   "metadata": {},
   "outputs": [],
   "source": [
    "df['object_name'] = df['object_name'].apply(name_change)"
   ]
  },
  {
   "cell_type": "code",
   "execution_count": 9,
   "metadata": {},
   "outputs": [
    {
     "name": "stdout",
     "output_type": "stream",
     "text": [
      "Количество единичных заведений, указанных как сетевые после обработки названий - 227\n"
     ]
    }
   ],
   "source": [
    "fake_chains = df.query('chain == \"да\"').groupby('object_name').agg({'id':'count'}).query('id == 1').reset_index()\n",
    "\n",
    "print('Количество единичных заведений, указанных как сетевые после обработки названий -', \n",
    "      len(fake_chains))"
   ]
  },
  {
   "cell_type": "markdown",
   "metadata": {},
   "source": [
    "Посмотрим изменился ли список часто встречающихся названий."
   ]
  },
  {
   "cell_type": "code",
   "execution_count": 10,
   "metadata": {},
   "outputs": [
    {
     "data": {
      "text/plain": [
       "столовая           321\n",
       "кафе               278\n",
       "шаурма             250\n",
       "kfc                190\n",
       "шоколадница        189\n",
       "макдоналдс         173\n",
       "бургер кинг        161\n",
       "теремок            116\n",
       "крошка картошка     96\n",
       "хинкальная          94\n",
       "доминос пицца       91\n",
       "милти               83\n",
       "буфет               82\n",
       "пекарня             82\n",
       "суши wok            76\n",
       "папа джонс          68\n",
       "кофе с собой        60\n",
       "додо пицца          54\n",
       "якитория            51\n",
       "тануки              47\n",
       "Name: object_name, dtype: int64"
      ]
     },
     "execution_count": 10,
     "metadata": {},
     "output_type": "execute_result"
    }
   ],
   "source": [
    "df['object_name'].value_counts().head(20)"
   ]
  },
  {
   "cell_type": "markdown",
   "metadata": {},
   "source": [
    "Изменилось, по всем названиям прибавление в количестве. \n",
    "\n",
    "Дальше переведём \"неправильные\" сетевые заведения переведём в \"правильные\" не сетевые. "
   ]
  },
  {
   "cell_type": "code",
   "execution_count": 11,
   "metadata": {},
   "outputs": [
    {
     "name": "stdout",
     "output_type": "stream",
     "text": [
      "Количество \"неправильных\" сетевых заведений =  0\n"
     ]
    }
   ],
   "source": [
    "df.loc[df['object_name'].isin(fake_chains['object_name']), 'chain'] = 'нет'\n",
    "\n",
    "print('Количество \"неправильных\" сетевых заведений = ',\n",
    "      len(df.query('chain == \"да\"').groupby('object_name').agg({'id':'count'}).query('id == 1')))"
   ]
  },
  {
   "cell_type": "markdown",
   "metadata": {},
   "source": [
    "<a id='part2.2'></a>"
   ]
  },
  {
   "cell_type": "markdown",
   "metadata": {},
   "source": [
    "### Обработка дубликатов.\n",
    "\n",
    "Как мы убедились ранее работать с названиями столбцов, пропусками и типами данных не нужно. Проверим данные на наличие дубликатов, для начала посмотрим на полные дубликаты."
   ]
  },
  {
   "cell_type": "code",
   "execution_count": 12,
   "metadata": {},
   "outputs": [
    {
     "data": {
      "text/plain": [
       "0"
      ]
     },
     "execution_count": 12,
     "metadata": {},
     "output_type": "execute_result"
    }
   ],
   "source": [
    "df.duplicated().sum()"
   ]
  },
  {
   "cell_type": "markdown",
   "metadata": {},
   "source": [
    "Полных дубликатов нет, проверим еще нет ли полных дубликатов не учитывая столбец `id`."
   ]
  },
  {
   "cell_type": "code",
   "execution_count": 13,
   "metadata": {},
   "outputs": [
    {
     "name": "stdout",
     "output_type": "stream",
     "text": [
      "Количество неполных дубликатов без id - 85\n",
      "Доля неполных дубликатов от общего количества заведений - 0.55\n"
     ]
    }
   ],
   "source": [
    "print('Количество неполных дубликатов без id -', len(df[df.loc[:, \"object_name\":\"number\"].duplicated()]))\n",
    "print('Доля неполных дубликатов от общего количества заведений -', round(100 * len(df[df.loc[:, \"object_name\":\"number\"].duplicated()])/len(df), 2))"
   ]
  },
  {
   "cell_type": "markdown",
   "metadata": {},
   "source": [
    "В целом, доля их невелика и они не окажут на картину анализа существенного влияния. Учитывая, что избавиться от них можно легко, очистим таблицу от не полных дубликатов."
   ]
  },
  {
   "cell_type": "code",
   "execution_count": 14,
   "metadata": {
    "scrolled": true
   },
   "outputs": [
    {
     "name": "stdout",
     "output_type": "stream",
     "text": [
      "Количество строк до удаления дубликатов - 15366\n",
      "Количество строк после удаления дубликатов - 15281\n"
     ]
    }
   ],
   "source": [
    "full_duplicate_id = df[df.loc[:, 'object_name':'number'].duplicated()]['id']\n",
    "print('Количество строк до удаления дубликатов -', len(df))\n",
    "df = df.loc[~df['id'].isin(full_duplicate_id)]\n",
    "print('Количество строк после удаления дубликатов -', len(df))"
   ]
  },
  {
   "cell_type": "markdown",
   "metadata": {},
   "source": [
    "<a id='part2.3'></a>"
   ]
  },
  {
   "cell_type": "markdown",
   "metadata": {},
   "source": [
    "### Вывод."
   ]
  },
  {
   "cell_type": "markdown",
   "metadata": {},
   "source": [
    "Данные подготовлены для исследования, выполнена работа с названиями заведений, крупные сети заведений дополнены филиалами, которые были неправильно названы. Удалены неявные дубликаты. В названиях заведений конечно еще есть ошибки, но самые значительные мы исправили, незначительные не должны повлиять на результаты исследования."
   ]
  },
  {
   "cell_type": "markdown",
   "metadata": {},
   "source": [
    "<a id='part3.1'></a>"
   ]
  },
  {
   "cell_type": "markdown",
   "metadata": {},
   "source": [
    "## Часть 3. Анализ данных.\n",
    "### Анализ соотношения видов объектов общественного питания по количеству."
   ]
  },
  {
   "cell_type": "markdown",
   "metadata": {},
   "source": [
    "Посмотрим, какие вообще существуют виды заведений в данных и их распределение по количеству. "
   ]
  },
  {
   "cell_type": "code",
   "execution_count": 15,
   "metadata": {},
   "outputs": [
    {
     "data": {
      "text/plain": [
       "кафе                                 6071\n",
       "столовая                             2584\n",
       "ресторан                             2282\n",
       "предприятие быстрого обслуживания    1897\n",
       "бар                                   855\n",
       "буфет                                 576\n",
       "кафетерий                             395\n",
       "закусочная                            348\n",
       "магазин (отдел кулинарии)             273\n",
       "Name: object_type, dtype: int64"
      ]
     },
     "execution_count": 15,
     "metadata": {},
     "output_type": "execute_result"
    }
   ],
   "source": [
    "df['object_type'].value_counts()"
   ]
  },
  {
   "cell_type": "markdown",
   "metadata": {},
   "source": [
    "Чтобы строить вертикальные графики для более привычной визуализации стоит изменить длинные названия типов заведений на более короткие, переименуем: магазин (отдел кулинарии) на магазин(ок) и предприятие быстрого обслуживания на аббревиатуру пбо."
   ]
  },
  {
   "cell_type": "code",
   "execution_count": 16,
   "metadata": {},
   "outputs": [],
   "source": [
    "df.loc[df['object_type'] == 'магазин (отдел кулинарии)', 'object_type'] = 'магазин(ок)'\n",
    "df.loc[df['object_type'] == 'предприятие быстрого обслуживания', 'object_type'] = 'пбо'"
   ]
  },
  {
   "cell_type": "markdown",
   "metadata": {},
   "source": [
    "Исследуем **соотношение видов объектов общественного питания по количеству**. Построим график."
   ]
  },
  {
   "cell_type": "code",
   "execution_count": 17,
   "metadata": {
    "scrolled": false
   },
   "outputs": [
    {
     "data": {
      "image/png": "[encoded data removed]",
      "text/plain": [
       "<Figure size 864x432 with 1 Axes>"
      ]
     },
     "metadata": {
      "needs_background": "light"
     },
     "output_type": "display_data"
    },
    {
     "data": {
      "text/html": [
       "<div>\n",
       "<style scoped>\n",
       "    .dataframe tbody tr th:only-of-type {\n",
       "        vertical-align: middle;\n",
       "    }\n",
       "\n",
       "    .dataframe tbody tr th {\n",
       "        vertical-align: top;\n",
       "    }\n",
       "\n",
       "    .dataframe thead th {\n",
       "        text-align: right;\n",
       "    }\n",
       "</style>\n",
       "<table border=\"1\" class=\"dataframe\">\n",
       "  <thead>\n",
       "    <tr style=\"text-align: right;\">\n",
       "      <th></th>\n",
       "      <th></th>\n",
       "    </tr>\n",
       "  </thead>\n",
       "  <tbody>\n",
       "    <tr>\n",
       "      <th>кафе</th>\n",
       "      <td>6071</td>\n",
       "    </tr>\n",
       "    <tr>\n",
       "      <th>столовая</th>\n",
       "      <td>2584</td>\n",
       "    </tr>\n",
       "    <tr>\n",
       "      <th>ресторан</th>\n",
       "      <td>2282</td>\n",
       "    </tr>\n",
       "    <tr>\n",
       "      <th>пбо</th>\n",
       "      <td>1897</td>\n",
       "    </tr>\n",
       "    <tr>\n",
       "      <th>бар</th>\n",
       "      <td>855</td>\n",
       "    </tr>\n",
       "    <tr>\n",
       "      <th>буфет</th>\n",
       "      <td>576</td>\n",
       "    </tr>\n",
       "    <tr>\n",
       "      <th>кафетерий</th>\n",
       "      <td>395</td>\n",
       "    </tr>\n",
       "    <tr>\n",
       "      <th>закусочная</th>\n",
       "      <td>348</td>\n",
       "    </tr>\n",
       "    <tr>\n",
       "      <th>магазин(ок)</th>\n",
       "      <td>273</td>\n",
       "    </tr>\n",
       "  </tbody>\n",
       "</table>\n",
       "</div>"
      ],
      "text/plain": [
       "                 \n",
       "кафе         6071\n",
       "столовая     2584\n",
       "ресторан     2282\n",
       "пбо          1897\n",
       "бар           855\n",
       "буфет         576\n",
       "кафетерий     395\n",
       "закусочная    348\n",
       "магазин(ок)   273"
      ]
     },
     "execution_count": 17,
     "metadata": {},
     "output_type": "execute_result"
    }
   ],
   "source": [
    "df.groupby('object_type').agg({'object_name':'count'}).sort_values(\n",
    "    'object_name', ascending=False).rename(columns={'object_name':'objects'}).plot(\n",
    "    kind='bar', y='objects', grid=True, rot=0, figsize=(12, 6), legend=None)\n",
    "plt.title('Виды объектов общественного питания по количеству', fontsize=12, fontweight='bold')\n",
    "plt.ylabel('Количество заведений')\n",
    "plt.xlabel('')\n",
    "plt.show()\n",
    "\n",
    "df['object_type'].value_counts().to_frame().rename(columns={'object_type':''})"
   ]
  },
  {
   "cell_type": "markdown",
   "metadata": {},
   "source": [
    "По графику и таблице можно выделить три группы типов заведений по распространённости:\n",
    "- самое большое количество заведений это формат кафе - 6 тыс. из 15 тыс.\n",
    "- на втором месте группа заведений примерно от 2 до 2.5 тыс штук - предприятие быстрого обслуживания, ресторан, столовая\n",
    "- на третьем месте все остальные - до тысячи заведений - 855 баров, 576 буфетов и менее 400 кафетериев, закусочных и магазинов(отделов кулинарии)"
   ]
  },
  {
   "cell_type": "markdown",
   "metadata": {},
   "source": [
    "<a id='part3.2'></a>"
   ]
  },
  {
   "cell_type": "markdown",
   "metadata": {},
   "source": [
    "###  Анализ соотношения сетевых и несетевых заведений по количеству."
   ]
  },
  {
   "cell_type": "markdown",
   "metadata": {},
   "source": [
    "Исследуем **соотношение сетевых и несетевых заведений по количеству**. Построим график."
   ]
  },
  {
   "cell_type": "code",
   "execution_count": 18,
   "metadata": {},
   "outputs": [
    {
     "data": {
      "image/png": "[encoded data removed]",
      "text/plain": [
       "<Figure size 720x288 with 1 Axes>"
      ]
     },
     "metadata": {
      "needs_background": "light"
     },
     "output_type": "display_data"
    }
   ],
   "source": [
    "objects_by_chain = df.groupby('chain').agg({'object_name':'count'}).sort_values(\n",
    "    'object_name', ascending=False).rename(columns={'object_name':'objects'})\n",
    "\n",
    "objects_by_chain.plot(kind='bar', y='objects', rot='0', figsize=(10, 4), legend=None, color='teal')\n",
    "plt.title('Cоотношение сетевых и несетевых заведений', fontsize=12, fontweight='bold')\n",
    "plt.xticks([0,1], ['не сетевое', 'сетевое'], fontsize=12) \n",
    "plt.ylabel('Количество заведений', fontsize=12)\n",
    "plt.xlabel('')\n",
    "plt.text(-0.1, 1700, f'{objects_by_chain[\"objects\"][0]} шт.', size='large', color='azure')\n",
    "plt.text(0.9, 1700, f'{objects_by_chain[\"objects\"][1]} шт.', size='large', color='azure')\n",
    "plt.show()"
   ]
  },
  {
   "cell_type": "markdown",
   "metadata": {},
   "source": [
    "В наших данных не сетевых заведений значительно больше, чем сетевых. Посмотрим распределение сетевых заведений по типам заведений и их соотношение с не сетевыми."
   ]
  },
  {
   "cell_type": "code",
   "execution_count": 19,
   "metadata": {},
   "outputs": [
    {
     "data": {
      "image/png": "[encoded data removed]",
      "text/plain": [
       "<Figure size 864x432 with 1 Axes>"
      ]
     },
     "metadata": {
      "needs_background": "light"
     },
     "output_type": "display_data"
    }
   ],
   "source": [
    "objects_by_chain_and_type = df.pivot_table(index='object_type', columns='chain', \n",
    "                                           values='id', aggfunc='count')\n",
    "\n",
    "objects_by_chain_and_type.sort_values(by='да', ascending=False).plot(kind='bar', figsize=(12, 6),\n",
    "                                                                     stacked=True, rot=0)\n",
    "\n",
    "plt.title('Cоотношение сетевых и несетевых заведений в разбивке по типу заведения', \n",
    "          fontsize=14, fontweight='bold')\n",
    "plt.ylabel('Количество заведений')\n",
    "plt.xlabel('')\n",
    "plt.legend(('сетевое', 'не сетевое'), fontsize=12)\n",
    "plt.show()"
   ]
  },
  {
   "cell_type": "markdown",
   "metadata": {},
   "source": [
    "По графику видно, что большая часть сетевых заведений приходится на кафе, предприятия быстрого обслуживания и рестораны и значительно меньше на всё остальное. Столовых и буфетов в сетевом формате вообще практически нет.\n",
    "\n",
    "\n",
    "Посмотрим, для какого вида объекта общественного питания характерно сетевое распространение."
   ]
  },
  {
   "cell_type": "code",
   "execution_count": 20,
   "metadata": {},
   "outputs": [
    {
     "data": {
      "image/png": "[encoded data removed]",
      "text/plain": [
       "<Figure size 864x432 with 1 Axes>"
      ]
     },
     "metadata": {
      "needs_background": "light"
     },
     "output_type": "display_data"
    }
   ],
   "source": [
    "objects_by_chain_and_type['доля сетевых заведений к общему количеству'] = round(\n",
    "    100 * objects_by_chain_and_type['да'] / (objects_by_chain_and_type['да'] + \n",
    "                                             objects_by_chain_and_type['нет'])\n",
    ")\n",
    "\n",
    "objects_by_chain_and_type.sort_values(by='доля сетевых заведений к общему количеству', ascending=False).plot(\n",
    "    kind='bar', y='доля сетевых заведений к общему количеству', figsize=(12, 6), grid=True, rot=0)\n",
    "\n",
    "plt.title('Доля сетевых заведений к общему количеству заведений каждого типа', \n",
    "          fontsize=14, fontweight='bold')\n",
    "plt.yticks(np.arange(0, 101, 10))\n",
    "plt.ylabel('% от общего количества заведений')\n",
    "plt.xlabel('')\n",
    "plt.legend('')\n",
    "plt.show()"
   ]
  },
  {
   "cell_type": "markdown",
   "metadata": {},
   "source": [
    "По диаграмме выше видно, что:\n",
    "- сетевое распространение наиболее характерно для предприятий быстрого обслуживания - 40%; \n",
    "- около четверти всех отделов кулинарии в магазинах, кафе и ресторанов так же приходится на сетевые заведения;\n",
    "- от 10% до 15% всех закусочных и кафетериев сетевые\n",
    "- сетевой формат не характерен для баров, буфетов и столовых - менее 5%"
   ]
  },
  {
   "cell_type": "markdown",
   "metadata": {},
   "source": [
    "<a id='part3.3'></a>"
   ]
  },
  {
   "cell_type": "markdown",
   "metadata": {},
   "source": [
    "### Анализ заведений с сетевым распространением: виды объектов, вместимость."
   ]
  },
  {
   "cell_type": "markdown",
   "metadata": {},
   "source": [
    "Cделаем срез сетевых заведений сгруппируем по сетям, посчитаем количество объектов в сети и среднюю вместимость заведений сети."
   ]
  },
  {
   "cell_type": "code",
   "execution_count": 21,
   "metadata": {},
   "outputs": [
    {
     "name": "stdout",
     "output_type": "stream",
     "text": [
      "\n",
      "Всего получилось 204 сети.\n"
     ]
    },
    {
     "data": {
      "text/html": [
       "<div>\n",
       "<style scoped>\n",
       "    .dataframe tbody tr th:only-of-type {\n",
       "        vertical-align: middle;\n",
       "    }\n",
       "\n",
       "    .dataframe tbody tr th {\n",
       "        vertical-align: top;\n",
       "    }\n",
       "\n",
       "    .dataframe thead th {\n",
       "        text-align: right;\n",
       "    }\n",
       "</style>\n",
       "<table border=\"1\" class=\"dataframe\">\n",
       "  <thead>\n",
       "    <tr style=\"text-align: right;\">\n",
       "      <th></th>\n",
       "      <th>chain</th>\n",
       "      <th>objects</th>\n",
       "      <th>avg_seats</th>\n",
       "    </tr>\n",
       "  </thead>\n",
       "  <tbody>\n",
       "    <tr>\n",
       "      <th>0</th>\n",
       "      <td>bocconcino</td>\n",
       "      <td>3</td>\n",
       "      <td>66.666667</td>\n",
       "    </tr>\n",
       "    <tr>\n",
       "      <th>1</th>\n",
       "      <td>burger club</td>\n",
       "      <td>3</td>\n",
       "      <td>20.333333</td>\n",
       "    </tr>\n",
       "    <tr>\n",
       "      <th>2</th>\n",
       "      <td>coffeeshop company</td>\n",
       "      <td>4</td>\n",
       "      <td>47.250000</td>\n",
       "    </tr>\n",
       "    <tr>\n",
       "      <th>3</th>\n",
       "      <td>cofix</td>\n",
       "      <td>25</td>\n",
       "      <td>9.600000</td>\n",
       "    </tr>\n",
       "    <tr>\n",
       "      <th>4</th>\n",
       "      <td>correas</td>\n",
       "      <td>3</td>\n",
       "      <td>44.000000</td>\n",
       "    </tr>\n",
       "  </tbody>\n",
       "</table>\n",
       "</div>"
      ],
      "text/plain": [
       "                chain  objects  avg_seats\n",
       "0          bocconcino        3  66.666667\n",
       "1         burger club        3  20.333333\n",
       "2  coffeeshop company        4  47.250000\n",
       "3               cofix       25   9.600000\n",
       "4             correas        3  44.000000"
      ]
     },
     "execution_count": 21,
     "metadata": {},
     "output_type": "execute_result"
    }
   ],
   "source": [
    "df_chains = df.query('chain == \"да\"').groupby('object_name').agg({'id':'count', 'number':'mean'\n",
    "    }).reset_index().rename(columns={'object_name':'chain', 'id':'objects', 'number':'avg_seats'})\n",
    "print('\\nВсего получилось', len(df_chains), 'сети.')\n",
    "df_chains.head()"
   ]
  },
  {
   "cell_type": "markdown",
   "metadata": {},
   "source": [
    "Чтобы ответить на вопрос - что характерно для сетевых заведений: много заведений с небольшим числом посадочных мест в каждом или мало заведений с большим количеством посадочных мест, разобьём все сети на 4 группы: \n",
    "- много заведений - много мест; \n",
    "- много заведений - мало мест; \n",
    "- мало заведений - много мест;\n",
    "- мало заведений - мало мест.\n",
    "\n",
    "За \"мало\" возьмем первые 25% значений."
   ]
  },
  {
   "cell_type": "code",
   "execution_count": 22,
   "metadata": {},
   "outputs": [
    {
     "name": "stdout",
     "output_type": "stream",
     "text": [
      "Посадочных мест мало, если их количество меньше либо равно -  20\n",
      "Заведений в сети мало, если их количество меньше либо равно -  2\n"
     ]
    }
   ],
   "source": [
    "print('Посадочных мест мало, если их количество меньше либо равно - ', int(np.percentile(df_chains['avg_seats'], [25])))\n",
    "print('Заведений в сети мало, если их количество меньше либо равно - ', int(np.percentile(df_chains['objects'], [25])))"
   ]
  },
  {
   "cell_type": "code",
   "execution_count": 23,
   "metadata": {},
   "outputs": [
    {
     "data": {
      "text/html": [
       "<div>\n",
       "<style scoped>\n",
       "    .dataframe tbody tr th:only-of-type {\n",
       "        vertical-align: middle;\n",
       "    }\n",
       "\n",
       "    .dataframe tbody tr th {\n",
       "        vertical-align: top;\n",
       "    }\n",
       "\n",
       "    .dataframe thead th {\n",
       "        text-align: right;\n",
       "    }\n",
       "</style>\n",
       "<table border=\"1\" class=\"dataframe\">\n",
       "  <thead>\n",
       "    <tr style=\"text-align: right;\">\n",
       "      <th></th>\n",
       "      <th>Число сетей</th>\n",
       "      <th>Медианное количество заведений</th>\n",
       "      <th>Медианное количество посадочных мест</th>\n",
       "    </tr>\n",
       "    <tr>\n",
       "      <th>Группа</th>\n",
       "      <th></th>\n",
       "      <th></th>\n",
       "      <th></th>\n",
       "    </tr>\n",
       "  </thead>\n",
       "  <tbody>\n",
       "    <tr>\n",
       "      <th>мало заведений - мало мест</th>\n",
       "      <td>16</td>\n",
       "      <td>2.0</td>\n",
       "      <td>11.500</td>\n",
       "    </tr>\n",
       "    <tr>\n",
       "      <th>мало заведений - много мест</th>\n",
       "      <td>47</td>\n",
       "      <td>2.0</td>\n",
       "      <td>70.000</td>\n",
       "    </tr>\n",
       "    <tr>\n",
       "      <th>много заведений - мало мест</th>\n",
       "      <td>35</td>\n",
       "      <td>6.0</td>\n",
       "      <td>15.000</td>\n",
       "    </tr>\n",
       "    <tr>\n",
       "      <th>много заведений - много мест</th>\n",
       "      <td>106</td>\n",
       "      <td>6.0</td>\n",
       "      <td>66.125</td>\n",
       "    </tr>\n",
       "  </tbody>\n",
       "</table>\n",
       "</div>"
      ],
      "text/plain": [
       "                              Число сетей  Медианное количество заведений  \\\n",
       "Группа                                                                      \n",
       "мало заведений - мало мест             16                             2.0   \n",
       "мало заведений - много мест            47                             2.0   \n",
       "много заведений - мало мест            35                             6.0   \n",
       "много заведений - много мест          106                             6.0   \n",
       "\n",
       "                              Медианное количество посадочных мест  \n",
       "Группа                                                              \n",
       "мало заведений - мало мест                                  11.500  \n",
       "мало заведений - много мест                                 70.000  \n",
       "много заведений - мало мест                                 15.000  \n",
       "много заведений - много мест                                66.125  "
      ]
     },
     "execution_count": 23,
     "metadata": {},
     "output_type": "execute_result"
    }
   ],
   "source": [
    "df_chains['chain_size'] = 'много заведений'\n",
    "df_chains.loc[df_chains['objects'] <= 2, 'chain_size'] = 'мало заведений'\n",
    "\n",
    "df_chains['avg_seats_size'] = 'много мест'\n",
    "df_chains.loc[df_chains['avg_seats'] <= 20, 'avg_seats_size'] = 'мало мест'\n",
    "\n",
    "df_chains['Группа'] = df_chains['chain_size'] + ' - ' + df_chains['avg_seats_size']\n",
    "\n",
    "df_chains.groupby('Группа').agg({'chain':'nunique', 'objects':'median', 'avg_seats':'median'})\\\n",
    "                           .rename(columns={'chain':'Число сетей', 'objects':'Медианное количество заведений', \n",
    "                                            'avg_seats':'Медианное количество посадочных мест'})"
   ]
  },
  {
   "cell_type": "code",
   "execution_count": 24,
   "metadata": {},
   "outputs": [
    {
     "data": {
      "image/png": "[encoded data removed]",
      "text/plain": [
       "<Figure size 864x432 with 1 Axes>"
      ]
     },
     "metadata": {
      "needs_background": "light"
     },
     "output_type": "display_data"
    }
   ],
   "source": [
    "plt.figure(figsize=(12, 6))\n",
    "sns.scatterplot(x='objects', y='avg_seats', data=df_chains, hue='Группа', alpha=0.7) \n",
    "\n",
    "plt.title('Распределение сетевых заведений по количеству посадочных мест', \n",
    "          fontsize=14)\n",
    "plt.ylabel('Среднее количество посадочных мест')\n",
    "plt.xlabel('Cреднее количество заведений в сети')\n",
    "plt.show()"
   ]
  },
  {
   "cell_type": "markdown",
   "metadata": {},
   "source": [
    "По диаграмме можно заключить: что для сетевых заведений характерно малое количество заведений в сети, но с большим количеством посадочных мест. Если разделять сетевые заведения условно не на две, а на три группы по количеству заведений в сети, то ответ бы был, что для малого и среднего количества заведений в сети характерно большое количество посадочных мест."
   ]
  },
  {
   "cell_type": "markdown",
   "metadata": {},
   "source": [
    "<a id='part3.4'></a>"
   ]
  },
  {
   "cell_type": "markdown",
   "metadata": {},
   "source": [
    "### Анализ соотношения видов объектов общественного питания по количеству посадочных мест."
   ]
  },
  {
   "cell_type": "markdown",
   "metadata": {},
   "source": [
    "Проанализируем соотношение видов заведений по средней вместимости."
   ]
  },
  {
   "cell_type": "code",
   "execution_count": 25,
   "metadata": {},
   "outputs": [
    {
     "data": {
      "image/png": "[encoded data removed]",
      "text/plain": [
       "<Figure size 864x432 with 1 Axes>"
      ]
     },
     "metadata": {
      "needs_background": "light"
     },
     "output_type": "display_data"
    }
   ],
   "source": [
    "df_type_by_number = df.groupby('object_type').agg({'number':'mean'}).sort_values(\n",
    "    by='number', ascending=False).reset_index()\n",
    "\n",
    "plt.figure(figsize=(12, 6))\n",
    "sns.set_style('whitegrid')\n",
    "sns.barplot(data=df_type_by_number, x='object_type', y='number')\n",
    "plt.title('Распределение видов объектов общественного питания по количеству посадочных мест', \n",
    "          fontsize=14)\n",
    "plt.ylabel('Среднее количество посадочных мест')\n",
    "plt.xlabel('')\n",
    "plt.show()"
   ]
  },
  {
   "cell_type": "markdown",
   "metadata": {},
   "source": [
    "Среднее количество посадочных мест по видам заведений распределено так:\n",
    "- больше всего вместимость у столовых - порядка 130 посадочных мест в среднем\n",
    "- на втором месте рестораны с посадкой около 100 человек\n",
    "- на третьем месте группа: буфеты, бары и кафе со средним количеством посадочных мест от 40 до 50\n",
    "- на четвертом месте предприятия быстрого обслуживания, которые вмещают в среднем 20 человек\n",
    "- на последнем месте группа видов заведений: кафетерий, закусочная и магазины(отделы кулинарии) - менее 10 посадочных мест в среднем \n",
    "\n",
    "Посмотрим схоже ли распределение типов заведений по вместимости в разбивке по сетевым/не сетевым."
   ]
  },
  {
   "cell_type": "code",
   "execution_count": 26,
   "metadata": {},
   "outputs": [
    {
     "data": {
      "image/png": "[encoded data removed]",
      "text/plain": [
       "<Figure size 864x432 with 1 Axes>"
      ]
     },
     "metadata": {},
     "output_type": "display_data"
    }
   ],
   "source": [
    "df_type_by_number_by_chain = df.pivot_table(index='object_type', columns='chain', \n",
    "                                            values='number').reset_index()\n",
    "df_type_by_number_by_chain_final = df_type_by_number.merge(df_type_by_number_by_chain, \\\n",
    "                                   how='left', on='object_type').set_index('object_type')\n",
    "df_type_by_number_by_chain_final.plot(kind='bar', figsize=(12, 6), grid=True, rot=0)\n",
    "\n",
    "plt.title('Распределение видов объектов общественного питания по количеству посадочных мест\\n \\\n",
    "          в разбивке по сетевым/не сетевым', fontsize=14)\n",
    "plt.ylabel('Среднее количество посадочных мест')\n",
    "plt.xlabel('')\n",
    "plt.legend(('все заведения', 'сетевые', 'не сетевые'), fontsize=12)\n",
    "plt.show()"
   ]
  },
  {
   "cell_type": "markdown",
   "metadata": {},
   "source": [
    "Значимые отличия от общих данных:\n",
    "- в сетевых буфетах значительно меньше вместимость, чем в не сетевых\n",
    "- в сетевых предприятиях быстрого обслуживания значительно больше посадочных мест, чем в не сетевых"
   ]
  },
  {
   "cell_type": "markdown",
   "metadata": {},
   "source": [
    "<a id='part3.5'></a>"
   ]
  },
  {
   "cell_type": "markdown",
   "metadata": {},
   "source": [
    "### Анализ расположения заведений общепита, определение районов столицы с максимальным и минимальным количеством заведений."
   ]
  },
  {
   "cell_type": "markdown",
   "metadata": {},
   "source": [
    "Для определения расположения заведений общественного питания добавим новый столбец в таблицу, в нем будет храниться информация об улице из адреса объекта."
   ]
  },
  {
   "cell_type": "code",
   "execution_count": 27,
   "metadata": {
    "scrolled": true
   },
   "outputs": [
    {
     "data": {
      "text/html": [
       "<div>\n",
       "<style scoped>\n",
       "    .dataframe tbody tr th:only-of-type {\n",
       "        vertical-align: middle;\n",
       "    }\n",
       "\n",
       "    .dataframe tbody tr th {\n",
       "        vertical-align: top;\n",
       "    }\n",
       "\n",
       "    .dataframe thead th {\n",
       "        text-align: right;\n",
       "    }\n",
       "</style>\n",
       "<table border=\"1\" class=\"dataframe\">\n",
       "  <thead>\n",
       "    <tr style=\"text-align: right;\">\n",
       "      <th></th>\n",
       "      <th>id</th>\n",
       "      <th>object_name</th>\n",
       "      <th>chain</th>\n",
       "      <th>object_type</th>\n",
       "      <th>address</th>\n",
       "      <th>number</th>\n",
       "      <th>street</th>\n",
       "    </tr>\n",
       "  </thead>\n",
       "  <tbody>\n",
       "    <tr>\n",
       "      <th>0</th>\n",
       "      <td>151635</td>\n",
       "      <td>сметана</td>\n",
       "      <td>нет</td>\n",
       "      <td>кафе</td>\n",
       "      <td>город Москва, улица Егора Абакумова, дом 9</td>\n",
       "      <td>48</td>\n",
       "      <td>улица Егора Абакумова</td>\n",
       "    </tr>\n",
       "    <tr>\n",
       "      <th>1</th>\n",
       "      <td>77874</td>\n",
       "      <td>родник</td>\n",
       "      <td>нет</td>\n",
       "      <td>кафе</td>\n",
       "      <td>город Москва, улица Талалихина, дом 2/1, корпус 1</td>\n",
       "      <td>35</td>\n",
       "      <td>улица Талалихина</td>\n",
       "    </tr>\n",
       "    <tr>\n",
       "      <th>2</th>\n",
       "      <td>24309</td>\n",
       "      <td>кафе академия</td>\n",
       "      <td>нет</td>\n",
       "      <td>кафе</td>\n",
       "      <td>город Москва, Абельмановская улица, дом 6</td>\n",
       "      <td>95</td>\n",
       "      <td>Абельмановская улица</td>\n",
       "    </tr>\n",
       "  </tbody>\n",
       "</table>\n",
       "</div>"
      ],
      "text/plain": [
       "       id    object_name chain object_type  \\\n",
       "0  151635        сметана   нет        кафе   \n",
       "1   77874         родник   нет        кафе   \n",
       "2   24309  кафе академия   нет        кафе   \n",
       "\n",
       "                                             address  number  \\\n",
       "0         город Москва, улица Егора Абакумова, дом 9      48   \n",
       "1  город Москва, улица Талалихина, дом 2/1, корпус 1      35   \n",
       "2          город Москва, Абельмановская улица, дом 6      95   \n",
       "\n",
       "                  street  \n",
       "0  улица Егора Абакумова  \n",
       "1       улица Талалихина  \n",
       "2   Абельмановская улица  "
      ]
     },
     "execution_count": 27,
     "metadata": {},
     "output_type": "execute_result"
    }
   ],
   "source": [
    "df['street'] = df['address'].apply(lambda x: x.split(',')[1])\n",
    "df['street'] = df['street'].str.strip()\n",
    "df.head(3)"
   ]
  },
  {
   "cell_type": "markdown",
   "metadata": {},
   "source": [
    "Построим график **топ-10 улиц по количеству объектов общественного питания**. \n",
    "\n",
    "В топ-10 попадут город Зеленоград и поселение Сосенское это части Москвы, которые сами по себе улицами не являются, не будем их учитывать в анализе."
   ]
  },
  {
   "cell_type": "code",
   "execution_count": 28,
   "metadata": {},
   "outputs": [
    {
     "data": {
      "text/html": [
       "<div>\n",
       "<style scoped>\n",
       "    .dataframe tbody tr th:only-of-type {\n",
       "        vertical-align: middle;\n",
       "    }\n",
       "\n",
       "    .dataframe tbody tr th {\n",
       "        vertical-align: top;\n",
       "    }\n",
       "\n",
       "    .dataframe thead th {\n",
       "        text-align: right;\n",
       "    }\n",
       "</style>\n",
       "<table border=\"1\" class=\"dataframe\">\n",
       "  <thead>\n",
       "    <tr style=\"text-align: right;\">\n",
       "      <th></th>\n",
       "      <th>street</th>\n",
       "      <th>id</th>\n",
       "    </tr>\n",
       "  </thead>\n",
       "  <tbody>\n",
       "    <tr>\n",
       "      <th>1</th>\n",
       "      <td>проспект Мира</td>\n",
       "      <td>203</td>\n",
       "    </tr>\n",
       "    <tr>\n",
       "      <th>2</th>\n",
       "      <td>Профсоюзная улица</td>\n",
       "      <td>181</td>\n",
       "    </tr>\n",
       "    <tr>\n",
       "      <th>3</th>\n",
       "      <td>Ленинградский проспект</td>\n",
       "      <td>170</td>\n",
       "    </tr>\n",
       "    <tr>\n",
       "      <th>4</th>\n",
       "      <td>Пресненская набережная</td>\n",
       "      <td>167</td>\n",
       "    </tr>\n",
       "    <tr>\n",
       "      <th>5</th>\n",
       "      <td>Варшавское шоссе</td>\n",
       "      <td>161</td>\n",
       "    </tr>\n",
       "    <tr>\n",
       "      <th>6</th>\n",
       "      <td>Ленинский проспект</td>\n",
       "      <td>147</td>\n",
       "    </tr>\n",
       "    <tr>\n",
       "      <th>8</th>\n",
       "      <td>проспект Вернадского</td>\n",
       "      <td>128</td>\n",
       "    </tr>\n",
       "    <tr>\n",
       "      <th>9</th>\n",
       "      <td>Кутузовский проспект</td>\n",
       "      <td>114</td>\n",
       "    </tr>\n",
       "    <tr>\n",
       "      <th>10</th>\n",
       "      <td>Каширское шоссе</td>\n",
       "      <td>111</td>\n",
       "    </tr>\n",
       "    <tr>\n",
       "      <th>11</th>\n",
       "      <td>Кировоградская улица</td>\n",
       "      <td>108</td>\n",
       "    </tr>\n",
       "  </tbody>\n",
       "</table>\n",
       "</div>"
      ],
      "text/plain": [
       "                    street   id\n",
       "1            проспект Мира  203\n",
       "2        Профсоюзная улица  181\n",
       "3   Ленинградский проспект  170\n",
       "4   Пресненская набережная  167\n",
       "5         Варшавское шоссе  161\n",
       "6       Ленинский проспект  147\n",
       "8     проспект Вернадского  128\n",
       "9     Кутузовский проспект  114\n",
       "10         Каширское шоссе  111\n",
       "11    Кировоградская улица  108"
      ]
     },
     "execution_count": 28,
     "metadata": {},
     "output_type": "execute_result"
    }
   ],
   "source": [
    "top_10 = df.groupby('street').agg({'id':'count'}).sort_values('id', ascending=False).reset_index().head(12)\n",
    "top_10 = top_10.query('street != \"город Зеленоград\" & street != \"поселение Сосенское\"')\n",
    "top_10"
   ]
  },
  {
   "cell_type": "code",
   "execution_count": 29,
   "metadata": {},
   "outputs": [
    {
     "data": {
      "image/png": "[encoded data removed]",
      "text/plain": [
       "<Figure size 864x432 with 1 Axes>"
      ]
     },
     "metadata": {},
     "output_type": "display_data"
    }
   ],
   "source": [
    "plt.figure(figsize=(12, 6))\n",
    "sns.set_style('whitegrid')\n",
    "\n",
    "sns.barplot(data=top_10, x='id', y='street')\n",
    "plt.title('Топ-10 улиц Москвы по количеству заведений', fontsize=14)\n",
    "plt.ylabel('')\n",
    "plt.xlabel('Количество заведений')\n",
    "plt.show()"
   ]
  },
  {
   "cell_type": "markdown",
   "metadata": {},
   "source": [
    "В топ-10 улиц по количеству заведений попали улицы от максимального количества заведений на проспекте Мира - чуть более 200 заведений до минимального на Кировоградской улице - порядка 110 заведений. В целом количество заведений от большего к меньшему достаточно равномерно уменьшается.\n",
    "\n",
    "Воспользуемся внешней информацией и ответим на вопрос — **в каких районах Москвы находятся улицы с максимальным числом заведений**. Внешнюю информацию возьмём <a href=\"https://docs.google.com/spreadsheets/d/1CPDYDGjKCb6jGoQt9KR5WOvTspK-dHS3NUrVeqsyqJs/edit#gid=2139935940\">с сайта Мосгаз</a>."
   ]
  },
  {
   "cell_type": "code",
   "execution_count": 30,
   "metadata": {},
   "outputs": [
    {
     "data": {
      "text/html": [
       "<div>\n",
       "<style scoped>\n",
       "    .dataframe tbody tr th:only-of-type {\n",
       "        vertical-align: middle;\n",
       "    }\n",
       "\n",
       "    .dataframe tbody tr th {\n",
       "        vertical-align: top;\n",
       "    }\n",
       "\n",
       "    .dataframe thead th {\n",
       "        text-align: right;\n",
       "    }\n",
       "</style>\n",
       "<table border=\"1\" class=\"dataframe\">\n",
       "  <thead>\n",
       "    <tr style=\"text-align: right;\">\n",
       "      <th></th>\n",
       "      <th>streetname</th>\n",
       "      <th>areaid</th>\n",
       "      <th>okrug</th>\n",
       "      <th>area</th>\n",
       "    </tr>\n",
       "  </thead>\n",
       "  <tbody>\n",
       "    <tr>\n",
       "      <th>0</th>\n",
       "      <td>Выставочный переулок</td>\n",
       "      <td>17</td>\n",
       "      <td>ЦАО</td>\n",
       "      <td>Пресненский район</td>\n",
       "    </tr>\n",
       "    <tr>\n",
       "      <th>1</th>\n",
       "      <td>улица Гашека</td>\n",
       "      <td>17</td>\n",
       "      <td>ЦАО</td>\n",
       "      <td>Пресненский район</td>\n",
       "    </tr>\n",
       "    <tr>\n",
       "      <th>2</th>\n",
       "      <td>Большая Никитская улица</td>\n",
       "      <td>17</td>\n",
       "      <td>ЦАО</td>\n",
       "      <td>Пресненский район</td>\n",
       "    </tr>\n",
       "    <tr>\n",
       "      <th>3</th>\n",
       "      <td>Глубокий переулок</td>\n",
       "      <td>17</td>\n",
       "      <td>ЦАО</td>\n",
       "      <td>Пресненский район</td>\n",
       "    </tr>\n",
       "    <tr>\n",
       "      <th>4</th>\n",
       "      <td>Глубокий переулок</td>\n",
       "      <td>17</td>\n",
       "      <td>ЦАО</td>\n",
       "      <td>Пресненский район</td>\n",
       "    </tr>\n",
       "  </tbody>\n",
       "</table>\n",
       "</div>"
      ],
      "text/plain": [
       "                streetname  areaid okrug               area\n",
       "0     Выставочный переулок      17   ЦАО  Пресненский район\n",
       "1             улица Гашека      17   ЦАО  Пресненский район\n",
       "2  Большая Никитская улица      17   ЦАО  Пресненский район\n",
       "3        Глубокий переулок      17   ЦАО  Пресненский район\n",
       "4        Глубокий переулок      17   ЦАО  Пресненский район"
      ]
     },
     "execution_count": 30,
     "metadata": {},
     "output_type": "execute_result"
    }
   ],
   "source": [
    "spreadsheet_id = '16kRKr06iLUUv5bN79dtuv_8OG2K1kMaS0SOhpgVhLQ0'\n",
    "file_name = 'https://docs.google.com/spreadsheets/d/{}/export?format=csv'.format(spreadsheet_id)\n",
    "r = requests.get(file_name)\n",
    "streets_msk = pd.read_csv(BytesIO(r.content))\n",
    "\n",
    "streets_msk.head()"
   ]
  },
  {
   "cell_type": "markdown",
   "metadata": {},
   "source": [
    "Получим список названий десяти топовых улиц. Посмотрим через какое количество районов проходит каждая такая улица."
   ]
  },
  {
   "cell_type": "code",
   "execution_count": 31,
   "metadata": {},
   "outputs": [
    {
     "data": {
      "text/html": [
       "<div>\n",
       "<style scoped>\n",
       "    .dataframe tbody tr th:only-of-type {\n",
       "        vertical-align: middle;\n",
       "    }\n",
       "\n",
       "    .dataframe tbody tr th {\n",
       "        vertical-align: top;\n",
       "    }\n",
       "\n",
       "    .dataframe thead th {\n",
       "        text-align: right;\n",
       "    }\n",
       "</style>\n",
       "<table border=\"1\" class=\"dataframe\">\n",
       "  <thead>\n",
       "    <tr style=\"text-align: right;\">\n",
       "      <th></th>\n",
       "      <th>area</th>\n",
       "    </tr>\n",
       "    <tr>\n",
       "      <th>streetname</th>\n",
       "      <th></th>\n",
       "    </tr>\n",
       "  </thead>\n",
       "  <tbody>\n",
       "    <tr>\n",
       "      <th>Варшавское шоссе</th>\n",
       "      <td>8</td>\n",
       "    </tr>\n",
       "    <tr>\n",
       "      <th>Ленинский проспект</th>\n",
       "      <td>8</td>\n",
       "    </tr>\n",
       "    <tr>\n",
       "      <th>проспект Мира</th>\n",
       "      <td>7</td>\n",
       "    </tr>\n",
       "    <tr>\n",
       "      <th>Профсоюзная улица</th>\n",
       "      <td>6</td>\n",
       "    </tr>\n",
       "    <tr>\n",
       "      <th>проспект Вернадского</th>\n",
       "      <td>5</td>\n",
       "    </tr>\n",
       "    <tr>\n",
       "      <th>Каширское шоссе</th>\n",
       "      <td>4</td>\n",
       "    </tr>\n",
       "    <tr>\n",
       "      <th>Ленинградский проспект</th>\n",
       "      <td>4</td>\n",
       "    </tr>\n",
       "    <tr>\n",
       "      <th>Кировоградская улица</th>\n",
       "      <td>3</td>\n",
       "    </tr>\n",
       "    <tr>\n",
       "      <th>Кутузовский проспект</th>\n",
       "      <td>2</td>\n",
       "    </tr>\n",
       "    <tr>\n",
       "      <th>Пресненская набережная</th>\n",
       "      <td>1</td>\n",
       "    </tr>\n",
       "  </tbody>\n",
       "</table>\n",
       "</div>"
      ],
      "text/plain": [
       "                        area\n",
       "streetname                  \n",
       "Варшавское шоссе           8\n",
       "Ленинский проспект         8\n",
       "проспект Мира              7\n",
       "Профсоюзная улица          6\n",
       "проспект Вернадского       5\n",
       "Каширское шоссе            4\n",
       "Ленинградский проспект     4\n",
       "Кировоградская улица       3\n",
       "Кутузовский проспект       2\n",
       "Пресненская набережная     1"
      ]
     },
     "execution_count": 31,
     "metadata": {},
     "output_type": "execute_result"
    }
   ],
   "source": [
    "top_10_street_names = top_10['street']\n",
    "streets_msk.query('streetname in @top_10_street_names').groupby('streetname').agg({'area':'count'})\\\n",
    "    .sort_values('area', ascending=False)"
   ]
  },
  {
   "cell_type": "markdown",
   "metadata": {},
   "source": [
    "Мы видим, что половина улиц проходит через 5 и более районов, так же из таблицы ясно, что улиц, для которых не нашлось района - нет."
   ]
  },
  {
   "cell_type": "code",
   "execution_count": 32,
   "metadata": {},
   "outputs": [
    {
     "data": {
      "image/png": "[encoded data removed]",
      "text/plain": [
       "<Figure size 576x864 with 1 Axes>"
      ]
     },
     "metadata": {},
     "output_type": "display_data"
    }
   ],
   "source": [
    "streets_msk.query('streetname in @top_10_street_names').groupby('area').agg({'streetname':'count'})\\\n",
    "    .sort_values(by='streetname').plot(kind='barh', figsize=(8, 12))\n",
    "\n",
    "plt.title('Районы Москвы с улицами из топ-10') \n",
    "plt.xticks(np.arange(0, 2.1, 1))\n",
    "plt.ylabel('')\n",
    "plt.xlabel('Количество улиц из топ-10')\n",
    "plt.legend('')\n",
    "plt.show()"
   ]
  },
  {
   "cell_type": "markdown",
   "metadata": {},
   "source": [
    "По диаграмме можно скзать только одно: из 37 районов с расположенными в них улицами из топ-10(с самым большим числом заведений) только в 11 расположены по 2 улицы, в остальных по одной. \n",
    "\n",
    "При этом есть интересное наблюдение - все районы с двумя топовыми улицами расположены в южной половине Москвы. Непонятно с чем это связано, возможно с тем, что \"южные\" улицы из топ-10 длинее и расположены на карте с меньшим расстоянием друг от друга. И поэтому такие улицы попадают в несколько районов чаще чем \"северные\".\n",
    "\n",
    "Теперь найдём **число улиц с одним объектом общественного питания**."
   ]
  },
  {
   "cell_type": "code",
   "execution_count": 33,
   "metadata": {},
   "outputs": [
    {
     "name": "stdout",
     "output_type": "stream",
     "text": [
      "\n",
      "Улиц с единственным заведением - 579 шт.\n"
     ]
    }
   ],
   "source": [
    "streets_with_one_object = df.groupby('street').agg({'id':'count'}).query('id == 1').index\n",
    "print('\\nУлиц с единственным заведением -', len(streets_with_one_object), 'шт.')"
   ]
  },
  {
   "cell_type": "markdown",
   "metadata": {},
   "source": [
    "Так же как и на предыдущем шаге, воспользовавшись внешней информацией, ответим на вопрос — **в каких районах Москвы находятся улицы с одним заведением**."
   ]
  },
  {
   "cell_type": "code",
   "execution_count": 34,
   "metadata": {},
   "outputs": [
    {
     "name": "stdout",
     "output_type": "stream",
     "text": [
      "Районов, в которых есть улицы с единственным заведением - 99 шт.\n"
     ]
    }
   ],
   "source": [
    "# районы с улицами, где есть только одно заведение назовём условно \"плохими\"\n",
    "bad_areas = streets_msk.query('streetname in @streets_with_one_object').groupby('area').agg({'streetname':'count'})\\\n",
    "    .sort_values(by='streetname').index\n",
    "bad_areas\n",
    "print('Районов, в которых есть улицы с единственным заведением -', len(bad_areas), 'шт.')"
   ]
  },
  {
   "cell_type": "markdown",
   "metadata": {},
   "source": [
    "В таком случае стоит найти районы в которых есть улицы с большим количеством заведений и нет улиц с единственным заведением."
   ]
  },
  {
   "cell_type": "code",
   "execution_count": 35,
   "metadata": {},
   "outputs": [
    {
     "data": {
      "text/plain": [
       "Index(['Академический район', 'Район Орехово-Борисово Северное',\n",
       "       'Район Орехово-Борисово Южное', 'Район Проспект Вернадского',\n",
       "       'Район Тропарево-Никулино', 'Район Чертаново Центральное',\n",
       "       'Ломоносовский район', 'Район Теплый Стан'],\n",
       "      dtype='object', name='area')"
      ]
     },
     "execution_count": 35,
     "metadata": {},
     "output_type": "execute_result"
    }
   ],
   "source": [
    "# назовём такие районы условно \"хорошими\"\n",
    "good_areas = streets_msk.query('streetname in @top_10_street_names').groupby('area')\\\n",
    "            .agg({'streetname':'count'}).sort_values(by='streetname').reset_index()\n",
    "good_areas = good_areas.query('area not in @bad_areas').set_index('area').index\n",
    "good_areas"
   ]
  },
  {
   "cell_type": "markdown",
   "metadata": {},
   "source": [
    "Определим какие улицы из топ-10 расположены в \"хороших\" районах и посмотрим сколько таких районов приходится на каждую такую улицу, эти улицы будем считать перспективными. В таком случае районы, включающие одновременно и улицы из топ-10 и улицы с единственным заведением общественного питания в выборку не попадут."
   ]
  },
  {
   "cell_type": "code",
   "execution_count": 36,
   "metadata": {},
   "outputs": [
    {
     "data": {
      "image/png": "[encoded data removed]",
      "text/plain": [
       "<Figure size 1008x360 with 1 Axes>"
      ]
     },
     "metadata": {},
     "output_type": "display_data"
    }
   ],
   "source": [
    "top_streets = streets_msk.query('streetname in @top_10_street_names').rename(columns={\n",
    "    'streetname':'Улица', 'area':'Район'})\n",
    "prospect_streets = top_streets.query('Район in @good_areas').groupby('Улица').agg({'Район':'count'})\\\n",
    "                    .reset_index().rename(columns={'Район':'Количество районов'})\\\n",
    "                    .sort_values('Количество районов', ascending=False)\n",
    "\n",
    "plt.figure(figsize=(14, 5))\n",
    "sns.set_style('whitegrid')\n",
    "\n",
    "sns.barplot(data=prospect_streets, y='Количество районов', x='Улица')\n",
    "plt.title('Распределение \"хороших\" районов по перспективным улицам', \n",
    "          fontsize=14, fontweight='bold')\n",
    "plt.yticks(np.arange(0, 4.1, 1))\n",
    "plt.ylabel('Количество районов')\n",
    "plt.xlabel('')\n",
    "plt.legend('')\n",
    "plt.show()"
   ]
  },
  {
   "cell_type": "markdown",
   "metadata": {},
   "source": [
    "Вот, что из этого вышло:\n",
    "- есть 6 улиц, которые расположены в районах, в которых нет улиц с единственным объектом размещения\n",
    "- 1 улица - Ленинский проспект - пересекает целых 4 таких района\n",
    "- 1 улица - проспект Вернадского - пересекает 3 таких района\n",
    "- 2 улицы - Профсоюзная и Каширское шоссе - пересекают по 2 таких района\n",
    "- 2 улицы - Кировоградская и Варшавское шоссе - расположены в одном таком районе\n",
    "\n",
    "Части улиц, расположенные в \"хороших\" районах могут стать перспективными местами для открытия кафе. Улицы и районы им соответствующие внесены в таблицу ниже. Вновь можно заметить, что в выборку попали улицы расположены в южной части столицы."
   ]
  },
  {
   "cell_type": "code",
   "execution_count": 37,
   "metadata": {},
   "outputs": [
    {
     "data": {
      "text/html": [
       "<div>\n",
       "<style scoped>\n",
       "    .dataframe tbody tr th:only-of-type {\n",
       "        vertical-align: middle;\n",
       "    }\n",
       "\n",
       "    .dataframe tbody tr th {\n",
       "        vertical-align: top;\n",
       "    }\n",
       "\n",
       "    .dataframe thead th {\n",
       "        text-align: right;\n",
       "    }\n",
       "</style>\n",
       "<table border=\"1\" class=\"dataframe\">\n",
       "  <thead>\n",
       "    <tr style=\"text-align: right;\">\n",
       "      <th></th>\n",
       "      <th>Улица</th>\n",
       "      <th>Район</th>\n",
       "    </tr>\n",
       "  </thead>\n",
       "  <tbody>\n",
       "    <tr>\n",
       "      <th>0</th>\n",
       "      <td>Варшавское шоссе</td>\n",
       "      <td>Район Чертаново Центральное</td>\n",
       "    </tr>\n",
       "    <tr>\n",
       "      <th>1</th>\n",
       "      <td>Каширское шоссе</td>\n",
       "      <td>Район Орехово-Борисово Северное</td>\n",
       "    </tr>\n",
       "    <tr>\n",
       "      <th>2</th>\n",
       "      <td>Каширское шоссе</td>\n",
       "      <td>Район Орехово-Борисово Южное</td>\n",
       "    </tr>\n",
       "    <tr>\n",
       "      <th>3</th>\n",
       "      <td>Кировоградская улица</td>\n",
       "      <td>Район Чертаново Центральное</td>\n",
       "    </tr>\n",
       "    <tr>\n",
       "      <th>4</th>\n",
       "      <td>Ленинский проспект</td>\n",
       "      <td>Ломоносовский район</td>\n",
       "    </tr>\n",
       "    <tr>\n",
       "      <th>5</th>\n",
       "      <td>Ленинский проспект</td>\n",
       "      <td>Район Проспект Вернадского</td>\n",
       "    </tr>\n",
       "    <tr>\n",
       "      <th>6</th>\n",
       "      <td>Ленинский проспект</td>\n",
       "      <td>Район Теплый Стан</td>\n",
       "    </tr>\n",
       "    <tr>\n",
       "      <th>7</th>\n",
       "      <td>Ленинский проспект</td>\n",
       "      <td>Район Тропарево-Никулино</td>\n",
       "    </tr>\n",
       "    <tr>\n",
       "      <th>8</th>\n",
       "      <td>Профсоюзная улица</td>\n",
       "      <td>Академический район</td>\n",
       "    </tr>\n",
       "    <tr>\n",
       "      <th>9</th>\n",
       "      <td>Профсоюзная улица</td>\n",
       "      <td>Район Теплый Стан</td>\n",
       "    </tr>\n",
       "    <tr>\n",
       "      <th>10</th>\n",
       "      <td>проспект Вернадского</td>\n",
       "      <td>Ломоносовский район</td>\n",
       "    </tr>\n",
       "    <tr>\n",
       "      <th>11</th>\n",
       "      <td>проспект Вернадского</td>\n",
       "      <td>Район Проспект Вернадского</td>\n",
       "    </tr>\n",
       "    <tr>\n",
       "      <th>12</th>\n",
       "      <td>проспект Вернадского</td>\n",
       "      <td>Район Тропарево-Никулино</td>\n",
       "    </tr>\n",
       "  </tbody>\n",
       "</table>\n",
       "</div>"
      ],
      "text/plain": [
       "                   Улица                            Район\n",
       "0       Варшавское шоссе      Район Чертаново Центральное\n",
       "1        Каширское шоссе  Район Орехово-Борисово Северное\n",
       "2        Каширское шоссе     Район Орехово-Борисово Южное\n",
       "3   Кировоградская улица      Район Чертаново Центральное\n",
       "4     Ленинский проспект              Ломоносовский район\n",
       "5     Ленинский проспект       Район Проспект Вернадского\n",
       "6     Ленинский проспект                Район Теплый Стан\n",
       "7     Ленинский проспект         Район Тропарево-Никулино\n",
       "8      Профсоюзная улица              Академический район\n",
       "9      Профсоюзная улица                Район Теплый Стан\n",
       "10  проспект Вернадского              Ломоносовский район\n",
       "11  проспект Вернадского       Район Проспект Вернадского\n",
       "12  проспект Вернадского         Район Тропарево-Никулино"
      ]
     },
     "execution_count": 37,
     "metadata": {},
     "output_type": "execute_result"
    }
   ],
   "source": [
    "prospect_streets_and_areas = top_streets.query('Район in @good_areas').groupby(['Улица', 'Район'])\\\n",
    "                              .agg({'areaid':'count'}).reset_index()\n",
    "prospect_streets_and_areas = prospect_streets_and_areas.drop('areaid', axis=1)\n",
    "prospect_streets_and_areas"
   ]
  },
  {
   "cell_type": "markdown",
   "metadata": {},
   "source": [
    "<a id='part3.6'></a>"
   ]
  },
  {
   "cell_type": "markdown",
   "metadata": {},
   "source": [
    "### Анализ распределения количества посадочных мест для улиц с большим количеством объектов общественного питания."
   ]
  },
  {
   "cell_type": "markdown",
   "metadata": {},
   "source": [
    "Посмотрим на распределение количества посадочных мест для улиц с большим количеством объектов общественного питания. Попробуем выявить закономерности на графике."
   ]
  },
  {
   "cell_type": "code",
   "execution_count": 38,
   "metadata": {},
   "outputs": [
    {
     "data": {
      "image/png": "[encoded data removed]",
      "text/plain": [
       "<Figure size 1008x576 with 1 Axes>"
      ]
     },
     "metadata": {},
     "output_type": "display_data"
    }
   ],
   "source": [
    "df_top_10 = df.query('street in @top_10_street_names')\n",
    "\n",
    "plt.figure(figsize=(14, 8))\n",
    "ax = sns.boxplot(y='street', x='number', data=df_top_10)\n",
    "\n",
    "ax.set_title('Распределение количества посадочных мест для улиц с большим количеством заведений', fontdict={'fontsize':14})\n",
    "ax.set_xlabel('Количество посадочных мест')\n",
    "ax.set_ylabel('')\n",
    "ax.set_xticks(np.arange(0, 501, 20))\n",
    "ax.set(xlim=(0, 500))\n",
    "ax.axvline(25, color='r')\n",
    "ax.axvline(50, color='r')\n",
    "\n",
    "plt.show()"
   ]
  },
  {
   "cell_type": "markdown",
   "metadata": {},
   "source": [
    "Для улиц с большим количеством заведений характерно следующее:\n",
    "- медиана по вместимости составляет 25-50 человек по всем улицам\n",
    "- по каждой улице имеются выбросы, очень крупные заведения\n",
    "- заведений с маленьким количеством посадочных мест больше всего на Профсоюзной, Кировоградской улице, Пресненской набережной, Варшавском и Каширском шоссе\n",
    "- заведений с большим количеством посадочных мест больше всего на всех проспектах: Мира, Ленинском, Ленинградском, Кутузовском и Вернадского\n",
    "\n",
    "По выделенным на предыдущем шаге перспективным улицам можно сделать следующую рекомендацию:\n",
    "- на Варшавском и Каширском шоссе, Кировоградской и Профсоюзной улице имеет смысл открывать кафе вместимостью 25-30 человек\n",
    "- на проспектах Вернадского и Ленинском вместимостью 40-45 человек"
   ]
  },
  {
   "cell_type": "markdown",
   "metadata": {},
   "source": [
    "<a id='part3.7'></a>"
   ]
  },
  {
   "cell_type": "markdown",
   "metadata": {},
   "source": [
    "### Вывод."
   ]
  },
  {
   "cell_type": "markdown",
   "metadata": {},
   "source": [
    "Проведён анализ данных, по результатам котолого можно вывести следующие заключения:\n",
    "- по оценке распространённости по типам можно выделить три группы типов заведений:\n",
    "    - самое большое количество заведений это формат кафе - 6 тыс. из 15 тыс.\n",
    "    - на втором месте группа заведений примерно от 2 до 2.5 тыс штук - предприятие быстрого обслуживания, ресторан, столовая\n",
    "    - на третьем месте все остальные - до тысячи заведений - 855 баров, 576 буфетов и менее 400 кафетериев, закусочных и магазинов(отделов кулинарии)\n",
    "    \n",
    "**Промежуточные рекомендации по типу будущего объекта: предпочтительный тип заведения - кафе.**\n",
    "\n",
    "- по анализу заведений в разбивке по сетевым/не сетевым:\n",
    "    - в наших данных не сетевых заведений значительно больше, чем сетевых\n",
    "    - большая часть сетевых заведений приходится на кафе, предприятия быстрого обслуживания и рестораны и значительно меньше на всё остальное. \n",
    "    - сетевое распространение наиболее характерно для предприятий быстрого обслуживания - 40%;\n",
    "    - на втором месте - отделы кулинарии в магазинах, кафе и рестораны - около четверти приходится на сетевые заведения;\n",
    "    - от 10% до 15% всех закусочных и кафетериев сетевые\n",
    "    - сетевой формат не характерен для баров, буфетов и столовых - менее 5%\n",
    "    - для сетевых заведений характерно малое(или среднее, если разделять на три группы) количество заведений в сети, но с большим количеством посадочных мест\n",
    "    \n",
    "**Промежуточные рекомендации по формату будущего объекта: для кафе лучше планировать малую сеть заведений с большим количеством посадочных мест**\n",
    "    \n",
    "- по оценке вместимости заведений:\n",
    "    - больше всего вместимость у столовых - порядка 130 посадочных мест в среднем\n",
    "    - на втором месте рестораны с посадкой около 100 человек\n",
    "    - на третьем месте группа: буфеты, бары и кафе со средним количеством посадочных мест от 40 до 50\n",
    "    - на четвертом месте предприятия быстрого обслуживания, которые вмещают в среднем 20 человек\n",
    "    - на последнем месте группа видов заведений: кафетерий, закусочная и магазины(отделы кулинарии) - менее 10 посадочных мест в среднем\n",
    "    - отличия от общих данных при анализе распределения типов заведений по вместимости в разбивке по сетевым/не сетевым:\n",
    "        - в сетевых буфетах значительно меньше вместимость, чем в не сетевых\n",
    "        - в сетевых предприятиях быстрого обслуживания значительно больше посадочных мест, чем в не сетевых\n",
    "        \n",
    "**Промежуточные рекомендации по вместимости будущего объекта: оптимальная вместимость кафе - 40-50 человек**\n",
    "        \n",
    "- по анализу локации заведений:\n",
    "    - выделены топ-10 улиц по количеству заведений, в них попали улицы от максимального количества заведений на проспекте Мира - чуть более 200 заведений до минимального на Кировоградской улице - порядка 110 заведений. В целом количество заведений от большего к меньшему достаточно равномерно уменьшается.\n",
    "    - из 37 районов столицы с расположенными в них улицами из топ-10 только в 11 районах расположены по 2 улицы, в остальных по одной.\n",
    "    - все районы с двумя топовыми улицами расположены в южной половине Москвы\n",
    "    - улиц с единственным заведением - 579 шт, эти улицы распределены по 99 районам Москвы\n",
    "    - есть 6 улиц из топ-10, которые расположены в районах, в которых нет улиц с единственным объектом размещения\n",
    "    - части улиц, расположенные в \"хороших\" районах могут стать перспективными местами для открытия кафе. Улицы и районы им соответствующие внесены в таблицу ниже.\n",
    "\n",
    "\n",
    "| Перспективная улица             |В каком районе расположена перспективная часть улицы      |\n",
    "|:--------------------------------|:---------------------------------------------------------|\n",
    "| Ленинский проспект              |Ломоносовский                                             |\n",
    "|                                 |Проспект Вернадского                                      |\n",
    "|                                 |Тропарево-Никулино                                        |\n",
    "|                                 |Теплый Стан                                               |\n",
    "|                                 |                                                          |\n",
    "| проспект Вернадского            |Ломоносовский                                             |\n",
    "|                                 |Проспект Вернадского                                      |\n",
    "|                                 |Тропарево-Никулино                                        |\n",
    "|                                 |                                                          |\n",
    "| Профсоюзная улица               |Теплый Стан                                               |\n",
    "|                                 |Академический                                             |\n",
    "|                                 |                                                          |\n",
    "| Каширское шоссе                 |Орехово-Борисово Северное                                 |\n",
    "|                                 |Орехово-Борисово Южное                                    |\n",
    "|                                 |                                                          |\n",
    "| Варшавское шоссе                |Чертаново Центральное                                     |\n",
    "|                                 |                                                          |\n",
    "| Кировоградская улица            |Чертаново Центральное                                     |\n",
    "\n",
    "- при анализе улиц с большим количеством заведений:\n",
    "    - медиана по вместимости составляет 25-50 человек по всем улицам\n",
    "    - по каждой улице имеются выбросы, очень крупные заведения\n",
    "    - заведений с маленьким количеством посадочных мест больше всего на Профсоюзной, Кировоградской улице, Пресненской набережной, Варшавском и Каширском шоссе\n",
    "    - заведений с большим количеством посадочных мест больше всего на всех проспектах: Мира, Ленинском, Ленинградском, Кутузовском и Вернадского\n",
    "\n",
    "**Промежуточные рекомендации по локации и вместимости будущего объекта:**\n",
    "- **на Варшавском и Каширском шоссе, Кировоградской и Профсоюзной улице имеет смысл открывать кафе вместимостью 25-30 человек**\n",
    "- **на проспектах Вернадского и Ленинском вместимостью 40-45 человек**"
   ]
  },
  {
   "cell_type": "markdown",
   "metadata": {},
   "source": [
    "<a id='part4'></a>"
   ]
  },
  {
   "cell_type": "markdown",
   "metadata": {},
   "source": [
    "## Часть 4. Подготовка презентации."
   ]
  },
  {
   "cell_type": "markdown",
   "metadata": {},
   "source": [
    "Презентация для инвесторов: \n",
    "\n",
    "<https://drive.google.com/file/d/1UT0ZobzYoKVk_EjLcbLpU57cVteOvYT8/view?usp=sharing>\n",
    "\n"
   ]
  },
  {
   "cell_type": "markdown",
   "metadata": {},
   "source": [
    "<a id='part5'></a>"
   ]
  },
  {
   "cell_type": "markdown",
   "metadata": {},
   "source": [
    "## Часть 5. Формирование общего вывода."
   ]
  },
  {
   "cell_type": "markdown",
   "metadata": {},
   "source": [
    "Итак, поставив себя на место аналитика исследующего рынок общепита в Москве, мы закончили исследование.\n",
    "___\n",
    "На входе были получены чистые данные без пропусков и полных дубликатов, которые были подготовлены:\n",
    "- выполнена работа с названиями заведений, крупные сети заведений дополнены филиалами, которые были неправильно названы\n",
    "- удалены неявные дубликаты\n",
    "___\n",
    "Проведён анализ данных:\n",
    "- по оценке распространённости по типам можно выделить три группы типов заведений:\n",
    "    - самое большое количество заведений это формат кафе\n",
    "    - на втором месте группа заведений - предприятие быстрого обслуживания, ресторан, столовая\n",
    "    - на третьем месте все остальные\n",
    "- по анализу заведений в разбивке по сетевым/не сетевым:\n",
    "    - сетевых заведений значительно больше, чем сетевых\n",
    "    - большая часть сетевых заведений приходится на кафе, предприятия быстрого обслуживания и рестораны и значительно меньше на всё остальное. \n",
    "    - сетевое распространение наиболее характерно для предприятий быстрого обслуживания, отделов кулинарии в магазинах, кафе и ресторанов, менее характерно для закусочных и кафетериев и совсем не характерно для баров, буфетов и столовых\n",
    "    - для сетевых заведений характерно относительно малое количество заведений в сети, но с большим количеством посадочных мест\n",
    "- по оценке вместимости заведений:\n",
    "    - больше всего вместимость у столовых и ресторанов - 100-130 человек\n",
    "    - средняя вместимость буфетов, баров и кафе от 40 до 50 человек\n",
    "    - предприятия быстрого обслуживания, кафетерий, закусочная и магазины(отделы кулинарии) - менее 20 посадочных мест в среднем\n",
    "- по анализу локации заведений:\n",
    "    - выделены топ-10 улиц по количеству заведений, из 37 районов столицы с расположенными в них улицами из топ-10 только в 11 районах расположены по 2 улицы, в остальных по одной\n",
    "    - улиц с единственным заведением - 579 шт, эти улицы распределены по 99 районам Москвы\n",
    "    - есть 6 улиц из топ-10, которые расположены в районах, в которых нет улиц с единственным объектом размещения\n",
    "- при анализе улиц с большим количеством заведений(из топ-10):\n",
    "    - медиана по вместимости составляет 25-50 человек по всем улицам\n",
    "    - заведений с маленьким количеством посадочных мест больше всего на Профсоюзной, Кировоградской улице, Пресненской набережной, Варшавском и Каширском шоссе\n",
    "    - заведений с большим количеством посадочных мест больше всего на всех проспектах: Мира, Ленинском, Ленинградском, Кутузовском и Вернадского\n",
    "___\n",
    "Полученные результаты исследования оформлены в презентаци, где описаны сформированные рекомендации для инвесторов по открытию кафе.\n",
    "___\n",
    "**Можно сформировать финальные рекомендации по открытию заведения:**\n",
    "- **предпочтительный тип объекта общественного питания - кафе.**\n",
    "- **для кафе лучше планировать малую сеть заведений с большим количеством посадочных мест**\n",
    "- **оптимальная вместимость кафе без привязки к локации - 40-50 человек**\n",
    "- **кафе вместимостью 25-30 человек имеет смысл открывать в районе Чертаново Центральное - на Варшавском шоссе и Кировоградской улице, в Орехово-Борисово Северное и Южное - на Каширском шоссе, в районе Теплый Стан и Академическом - на Профсоюзной улице**\n",
    "- **кафе вместимостью 40-45 человек имеет смысл открывать в районе Тёплый стан на Ленинском проспекте, а так же в районах Проспект Вернадского, Тропарево-Никулино и Ломоносовский на том же Леннинском проспекте и на проспекте Вернадского**\n",
    "___"
   ]
  },
  {
   "cell_type": "code",
   "execution_count": null,
   "metadata": {},
   "outputs": [],
   "source": []
  }
 ],
 "metadata": {
  "ExecuteTimeLog": [
   {
    "duration": 736,
    "start_time": "2022-03-07T14:28:02.583Z"
   },
   {
    "duration": 61,
    "start_time": "2022-03-07T14:28:21.036Z"
   },
   {
    "duration": 22,
    "start_time": "2022-03-07T14:28:32.043Z"
   },
   {
    "duration": 17,
    "start_time": "2022-03-07T14:28:36.717Z"
   },
   {
    "duration": 15,
    "start_time": "2022-03-07T14:29:09.116Z"
   },
   {
    "duration": 15,
    "start_time": "2022-03-07T14:29:30.476Z"
   },
   {
    "duration": 14,
    "start_time": "2022-03-07T14:29:34.776Z"
   },
   {
    "duration": 4,
    "start_time": "2022-03-07T15:17:55.784Z"
   },
   {
    "duration": 80,
    "start_time": "2022-03-07T15:17:56.211Z"
   },
   {
    "duration": 22,
    "start_time": "2022-03-07T15:18:31.737Z"
   },
   {
    "duration": 3,
    "start_time": "2022-03-08T09:11:06.102Z"
   },
   {
    "duration": 38,
    "start_time": "2022-03-08T09:11:06.117Z"
   },
   {
    "duration": 12,
    "start_time": "2022-03-08T09:11:06.157Z"
   },
   {
    "duration": 13,
    "start_time": "2022-03-08T09:16:08.451Z"
   },
   {
    "duration": 18,
    "start_time": "2022-03-08T09:18:52.851Z"
   },
   {
    "duration": 15,
    "start_time": "2022-03-08T09:19:01.654Z"
   },
   {
    "duration": 9,
    "start_time": "2022-03-08T09:20:42.928Z"
   },
   {
    "duration": 77,
    "start_time": "2022-03-08T09:22:21.432Z"
   },
   {
    "duration": 300,
    "start_time": "2022-03-08T09:22:33.653Z"
   },
   {
    "duration": 272,
    "start_time": "2022-03-08T09:22:41.933Z"
   },
   {
    "duration": 12,
    "start_time": "2022-03-08T09:33:14.204Z"
   },
   {
    "duration": 9,
    "start_time": "2022-03-08T09:33:21.636Z"
   },
   {
    "duration": 9,
    "start_time": "2022-03-08T09:33:47.875Z"
   },
   {
    "duration": 12,
    "start_time": "2022-03-08T09:33:54.036Z"
   },
   {
    "duration": 17,
    "start_time": "2022-03-08T09:34:11.254Z"
   },
   {
    "duration": 17,
    "start_time": "2022-03-08T09:34:24.536Z"
   },
   {
    "duration": 17,
    "start_time": "2022-03-08T09:34:31.177Z"
   },
   {
    "duration": 23,
    "start_time": "2022-03-08T09:34:59.268Z"
   },
   {
    "duration": 21,
    "start_time": "2022-03-08T09:36:24.896Z"
   },
   {
    "duration": 16,
    "start_time": "2022-03-08T09:36:34.627Z"
   },
   {
    "duration": 24,
    "start_time": "2022-03-08T09:36:38.868Z"
   },
   {
    "duration": 16,
    "start_time": "2022-03-08T09:37:25.337Z"
   },
   {
    "duration": 221,
    "start_time": "2022-03-08T09:38:27.679Z"
   },
   {
    "duration": 254,
    "start_time": "2022-03-08T09:39:07.528Z"
   },
   {
    "duration": 266,
    "start_time": "2022-03-08T09:40:58.628Z"
   },
   {
    "duration": 24,
    "start_time": "2022-03-08T09:42:21.901Z"
   },
   {
    "duration": 16,
    "start_time": "2022-03-08T09:48:10.832Z"
   },
   {
    "duration": 238,
    "start_time": "2022-03-08T09:48:27.792Z"
   },
   {
    "duration": 19,
    "start_time": "2022-03-08T09:48:44.720Z"
   },
   {
    "duration": 213,
    "start_time": "2022-03-08T09:48:51.232Z"
   },
   {
    "duration": 252,
    "start_time": "2022-03-08T09:48:57.100Z"
   },
   {
    "duration": 237,
    "start_time": "2022-03-08T09:49:52.720Z"
   },
   {
    "duration": 214,
    "start_time": "2022-03-08T09:53:14.509Z"
   },
   {
    "duration": 236,
    "start_time": "2022-03-08T09:53:24.967Z"
   },
   {
    "duration": 226,
    "start_time": "2022-03-08T09:56:48.980Z"
   },
   {
    "duration": 216,
    "start_time": "2022-03-08T09:57:02.531Z"
   },
   {
    "duration": 223,
    "start_time": "2022-03-08T09:57:24.312Z"
   },
   {
    "duration": 217,
    "start_time": "2022-03-08T09:57:30.292Z"
   },
   {
    "duration": 17,
    "start_time": "2022-03-08T09:59:26.819Z"
   },
   {
    "duration": 263,
    "start_time": "2022-03-08T10:00:00.739Z"
   },
   {
    "duration": 12,
    "start_time": "2022-03-08T10:01:49.160Z"
   },
   {
    "duration": 15,
    "start_time": "2022-03-08T10:04:16.932Z"
   },
   {
    "duration": 25,
    "start_time": "2022-03-08T10:06:15.476Z"
   },
   {
    "duration": 16,
    "start_time": "2022-03-08T10:06:29.017Z"
   },
   {
    "duration": 16,
    "start_time": "2022-03-08T10:06:42.000Z"
   },
   {
    "duration": 17,
    "start_time": "2022-03-08T10:06:56.872Z"
   },
   {
    "duration": 75,
    "start_time": "2022-03-08T10:07:56.034Z"
   },
   {
    "duration": 70,
    "start_time": "2022-03-08T10:08:49.034Z"
   },
   {
    "duration": 587,
    "start_time": "2022-03-08T10:09:11.954Z"
   },
   {
    "duration": 554,
    "start_time": "2022-03-08T10:09:47.368Z"
   },
   {
    "duration": 72,
    "start_time": "2022-03-08T10:10:53.385Z"
   },
   {
    "duration": 16,
    "start_time": "2022-03-08T10:11:02.973Z"
   },
   {
    "duration": 14,
    "start_time": "2022-03-08T10:11:09.415Z"
   },
   {
    "duration": 16,
    "start_time": "2022-03-08T10:39:53.886Z"
   },
   {
    "duration": 88,
    "start_time": "2022-03-08T10:42:22.218Z"
   },
   {
    "duration": 20,
    "start_time": "2022-03-08T10:42:56.297Z"
   },
   {
    "duration": 17,
    "start_time": "2022-03-08T10:45:43.913Z"
   },
   {
    "duration": 15,
    "start_time": "2022-03-08T10:45:55.132Z"
   },
   {
    "duration": 221,
    "start_time": "2022-03-08T10:46:18.369Z"
   },
   {
    "duration": 14,
    "start_time": "2022-03-08T10:46:50.820Z"
   },
   {
    "duration": 11,
    "start_time": "2022-03-08T10:47:50.253Z"
   },
   {
    "duration": 16,
    "start_time": "2022-03-08T10:48:17.713Z"
   },
   {
    "duration": 14,
    "start_time": "2022-03-08T11:07:55.221Z"
   },
   {
    "duration": 8,
    "start_time": "2022-03-08T11:08:28.729Z"
   },
   {
    "duration": 19,
    "start_time": "2022-03-08T11:09:16.477Z"
   },
   {
    "duration": 736,
    "start_time": "2022-03-08T13:25:10.675Z"
   },
   {
    "duration": 51,
    "start_time": "2022-03-08T13:25:11.413Z"
   },
   {
    "duration": 34,
    "start_time": "2022-03-08T13:25:11.467Z"
   },
   {
    "duration": 27,
    "start_time": "2022-03-08T13:25:11.504Z"
   },
   {
    "duration": 49,
    "start_time": "2022-03-08T13:25:11.533Z"
   },
   {
    "duration": 23,
    "start_time": "2022-03-08T13:25:11.585Z"
   },
   {
    "duration": 5,
    "start_time": "2022-03-08T13:25:11.610Z"
   },
   {
    "duration": 293,
    "start_time": "2022-03-08T13:26:30.003Z"
   },
   {
    "duration": 15,
    "start_time": "2022-03-08T13:27:28.094Z"
   },
   {
    "duration": 8,
    "start_time": "2022-03-08T13:38:27.137Z"
   },
   {
    "duration": 29,
    "start_time": "2022-03-08T13:38:41.623Z"
   },
   {
    "duration": 16,
    "start_time": "2022-03-08T13:39:08.683Z"
   },
   {
    "duration": 28,
    "start_time": "2022-03-08T13:41:02.335Z"
   },
   {
    "duration": 10,
    "start_time": "2022-03-08T13:41:57.797Z"
   },
   {
    "duration": 19,
    "start_time": "2022-03-08T13:42:34.313Z"
   },
   {
    "duration": 21,
    "start_time": "2022-03-08T13:43:07.305Z"
   },
   {
    "duration": 16,
    "start_time": "2022-03-08T13:43:28.408Z"
   },
   {
    "duration": 21,
    "start_time": "2022-03-08T13:43:47.813Z"
   },
   {
    "duration": 19,
    "start_time": "2022-03-08T13:43:58.721Z"
   },
   {
    "duration": 17,
    "start_time": "2022-03-08T13:44:08.483Z"
   },
   {
    "duration": 18,
    "start_time": "2022-03-08T13:44:36.286Z"
   },
   {
    "duration": 12,
    "start_time": "2022-03-08T13:48:14.255Z"
   },
   {
    "duration": 18,
    "start_time": "2022-03-08T13:48:30.224Z"
   },
   {
    "duration": 21,
    "start_time": "2022-03-08T13:48:34.586Z"
   },
   {
    "duration": 15,
    "start_time": "2022-03-08T13:49:56.792Z"
   },
   {
    "duration": 21,
    "start_time": "2022-03-08T13:50:10.683Z"
   },
   {
    "duration": 21,
    "start_time": "2022-03-08T13:50:22.226Z"
   },
   {
    "duration": 15,
    "start_time": "2022-03-08T13:51:25.792Z"
   },
   {
    "duration": 76,
    "start_time": "2022-03-08T13:51:56.894Z"
   },
   {
    "duration": 15,
    "start_time": "2022-03-08T13:52:02.237Z"
   },
   {
    "duration": 18,
    "start_time": "2022-03-08T13:52:31.792Z"
   },
   {
    "duration": 20,
    "start_time": "2022-03-08T13:56:28.515Z"
   },
   {
    "duration": 2283,
    "start_time": "2022-03-08T13:57:22.004Z"
   },
   {
    "duration": 15,
    "start_time": "2022-03-08T14:06:40.757Z"
   },
   {
    "duration": 6,
    "start_time": "2022-03-08T14:15:31.892Z"
   },
   {
    "duration": 7,
    "start_time": "2022-03-08T14:15:45.106Z"
   },
   {
    "duration": 16,
    "start_time": "2022-03-08T14:16:59.204Z"
   },
   {
    "duration": 7,
    "start_time": "2022-03-08T14:17:02.060Z"
   },
   {
    "duration": 448,
    "start_time": "2022-03-08T14:17:46.004Z"
   },
   {
    "duration": 411,
    "start_time": "2022-03-08T14:26:06.420Z"
   },
   {
    "duration": 88,
    "start_time": "2022-03-08T14:27:05.456Z"
   },
   {
    "duration": 24,
    "start_time": "2022-03-08T14:27:11.538Z"
   },
   {
    "duration": 7,
    "start_time": "2022-03-08T14:27:13.672Z"
   },
   {
    "duration": 15,
    "start_time": "2022-03-08T14:28:17.131Z"
   },
   {
    "duration": 3,
    "start_time": "2022-03-08T14:38:11.369Z"
   },
   {
    "duration": 50,
    "start_time": "2022-03-08T14:38:11.377Z"
   },
   {
    "duration": 21,
    "start_time": "2022-03-08T14:38:11.430Z"
   },
   {
    "duration": 47,
    "start_time": "2022-03-08T14:38:11.454Z"
   },
   {
    "duration": 22,
    "start_time": "2022-03-08T14:38:11.503Z"
   },
   {
    "duration": 57,
    "start_time": "2022-03-08T14:38:11.527Z"
   },
   {
    "duration": 24,
    "start_time": "2022-03-08T14:38:11.586Z"
   },
   {
    "duration": 16,
    "start_time": "2022-03-08T14:38:11.612Z"
   },
   {
    "duration": 6,
    "start_time": "2022-03-08T14:46:39.990Z"
   },
   {
    "duration": 752,
    "start_time": "2022-03-08T14:46:45.943Z"
   },
   {
    "duration": 51,
    "start_time": "2022-03-08T14:46:46.698Z"
   },
   {
    "duration": 42,
    "start_time": "2022-03-08T14:46:46.752Z"
   },
   {
    "duration": 26,
    "start_time": "2022-03-08T14:46:46.798Z"
   },
   {
    "duration": 23,
    "start_time": "2022-03-08T14:46:46.827Z"
   },
   {
    "duration": 26,
    "start_time": "2022-03-08T14:46:46.883Z"
   },
   {
    "duration": 24,
    "start_time": "2022-03-08T14:46:46.911Z"
   },
   {
    "duration": 48,
    "start_time": "2022-03-08T14:46:46.939Z"
   },
   {
    "duration": 7,
    "start_time": "2022-03-08T14:46:46.990Z"
   },
   {
    "duration": 684,
    "start_time": "2022-03-08T14:47:58.682Z"
   },
   {
    "duration": 6,
    "start_time": "2022-03-08T14:48:32.093Z"
   },
   {
    "duration": 5,
    "start_time": "2022-03-08T14:49:06.594Z"
   },
   {
    "duration": 627,
    "start_time": "2022-03-08T14:49:07.387Z"
   },
   {
    "duration": 8,
    "start_time": "2022-03-08T14:49:56.295Z"
   },
   {
    "duration": 79,
    "start_time": "2022-03-08T14:50:44.594Z"
   },
   {
    "duration": 16,
    "start_time": "2022-03-08T14:50:48.230Z"
   },
   {
    "duration": 4,
    "start_time": "2022-03-08T14:51:03.262Z"
   },
   {
    "duration": 65,
    "start_time": "2022-03-08T14:51:03.269Z"
   },
   {
    "duration": 23,
    "start_time": "2022-03-08T14:51:03.337Z"
   },
   {
    "duration": 37,
    "start_time": "2022-03-08T14:51:03.363Z"
   },
   {
    "duration": 26,
    "start_time": "2022-03-08T14:51:03.403Z"
   },
   {
    "duration": 62,
    "start_time": "2022-03-08T14:51:03.432Z"
   },
   {
    "duration": 21,
    "start_time": "2022-03-08T14:51:03.499Z"
   },
   {
    "duration": 18,
    "start_time": "2022-03-08T14:51:03.523Z"
   },
   {
    "duration": 7,
    "start_time": "2022-03-08T14:51:03.544Z"
   },
   {
    "duration": 42,
    "start_time": "2022-03-08T14:51:03.553Z"
   },
   {
    "duration": 5,
    "start_time": "2022-03-08T14:51:13.001Z"
   },
   {
    "duration": 513,
    "start_time": "2022-03-08T14:51:17.411Z"
   },
   {
    "duration": 6,
    "start_time": "2022-03-08T15:01:27.512Z"
   },
   {
    "duration": 6,
    "start_time": "2022-03-08T15:01:37.313Z"
   },
   {
    "duration": 6,
    "start_time": "2022-03-08T15:02:34.243Z"
   },
   {
    "duration": 5,
    "start_time": "2022-03-08T15:02:53.231Z"
   },
   {
    "duration": 18,
    "start_time": "2022-03-08T15:02:55.409Z"
   },
   {
    "duration": 20,
    "start_time": "2022-03-08T15:03:15.868Z"
   },
   {
    "duration": 23,
    "start_time": "2022-03-08T15:03:48.254Z"
   },
   {
    "duration": 5,
    "start_time": "2022-03-08T15:03:58.647Z"
   },
   {
    "duration": 5,
    "start_time": "2022-03-08T15:03:59.747Z"
   },
   {
    "duration": 24,
    "start_time": "2022-03-08T15:04:01.074Z"
   },
   {
    "duration": 23,
    "start_time": "2022-03-08T15:04:14.346Z"
   },
   {
    "duration": 20,
    "start_time": "2022-03-08T15:04:18.874Z"
   },
   {
    "duration": 5,
    "start_time": "2022-03-08T15:04:58.488Z"
   },
   {
    "duration": 6,
    "start_time": "2022-03-08T15:05:00.045Z"
   },
   {
    "duration": 13,
    "start_time": "2022-03-08T15:05:01.303Z"
   },
   {
    "duration": 3,
    "start_time": "2022-03-08T15:08:16.258Z"
   },
   {
    "duration": 56,
    "start_time": "2022-03-08T15:08:16.267Z"
   },
   {
    "duration": 20,
    "start_time": "2022-03-08T15:08:16.326Z"
   },
   {
    "duration": 45,
    "start_time": "2022-03-08T15:08:16.349Z"
   },
   {
    "duration": 19,
    "start_time": "2022-03-08T15:08:16.397Z"
   },
   {
    "duration": 24,
    "start_time": "2022-03-08T15:08:16.418Z"
   },
   {
    "duration": 51,
    "start_time": "2022-03-08T15:08:16.444Z"
   },
   {
    "duration": 14,
    "start_time": "2022-03-08T15:08:16.497Z"
   },
   {
    "duration": 15,
    "start_time": "2022-03-08T15:10:26.084Z"
   },
   {
    "duration": 20,
    "start_time": "2022-03-08T15:10:40.391Z"
   },
   {
    "duration": 21,
    "start_time": "2022-03-08T15:10:45.767Z"
   },
   {
    "duration": 17,
    "start_time": "2022-03-08T15:10:47.054Z"
   },
   {
    "duration": 23,
    "start_time": "2022-03-08T15:10:51.640Z"
   },
   {
    "duration": 4,
    "start_time": "2022-03-08T15:11:51.285Z"
   },
   {
    "duration": 58,
    "start_time": "2022-03-08T15:11:51.295Z"
   },
   {
    "duration": 26,
    "start_time": "2022-03-08T15:11:51.356Z"
   },
   {
    "duration": 23,
    "start_time": "2022-03-08T15:11:51.385Z"
   },
   {
    "duration": 20,
    "start_time": "2022-03-08T15:11:51.410Z"
   },
   {
    "duration": 26,
    "start_time": "2022-03-08T15:11:51.892Z"
   },
   {
    "duration": 20,
    "start_time": "2022-03-08T15:11:51.921Z"
   },
   {
    "duration": 15,
    "start_time": "2022-03-08T15:11:52.215Z"
   },
   {
    "duration": 3,
    "start_time": "2022-03-08T15:11:52.233Z"
   },
   {
    "duration": 5,
    "start_time": "2022-03-08T15:11:52.239Z"
   },
   {
    "duration": 13,
    "start_time": "2022-03-08T15:11:52.247Z"
   },
   {
    "duration": 92,
    "start_time": "2022-03-08T15:11:52.262Z"
   },
   {
    "duration": 16,
    "start_time": "2022-03-08T15:11:56.518Z"
   },
   {
    "duration": 22,
    "start_time": "2022-03-08T15:12:03.477Z"
   },
   {
    "duration": 25,
    "start_time": "2022-03-08T15:12:11.263Z"
   },
   {
    "duration": 15,
    "start_time": "2022-03-08T15:12:13.392Z"
   },
   {
    "duration": 21,
    "start_time": "2022-03-08T15:12:19.326Z"
   },
   {
    "duration": 3,
    "start_time": "2022-03-08T15:12:46.782Z"
   },
   {
    "duration": 54,
    "start_time": "2022-03-08T15:12:46.790Z"
   },
   {
    "duration": 46,
    "start_time": "2022-03-08T15:12:46.847Z"
   },
   {
    "duration": 23,
    "start_time": "2022-03-08T15:12:46.896Z"
   },
   {
    "duration": 19,
    "start_time": "2022-03-08T15:12:46.922Z"
   },
   {
    "duration": 63,
    "start_time": "2022-03-08T15:12:46.943Z"
   },
   {
    "duration": 21,
    "start_time": "2022-03-08T15:12:47.008Z"
   },
   {
    "duration": 13,
    "start_time": "2022-03-08T15:12:47.032Z"
   },
   {
    "duration": 36,
    "start_time": "2022-03-08T15:12:47.048Z"
   },
   {
    "duration": 5,
    "start_time": "2022-03-08T15:12:47.088Z"
   },
   {
    "duration": 9,
    "start_time": "2022-03-08T15:12:47.096Z"
   },
   {
    "duration": 188,
    "start_time": "2022-03-08T15:12:47.108Z"
   },
   {
    "duration": -863,
    "start_time": "2022-03-08T15:12:48.162Z"
   },
   {
    "duration": -871,
    "start_time": "2022-03-08T15:12:48.171Z"
   },
   {
    "duration": -878,
    "start_time": "2022-03-08T15:12:48.180Z"
   },
   {
    "duration": 40,
    "start_time": "2022-03-08T15:13:01.593Z"
   },
   {
    "duration": 22,
    "start_time": "2022-03-08T15:13:02.879Z"
   },
   {
    "duration": 26,
    "start_time": "2022-03-08T15:13:18.996Z"
   },
   {
    "duration": 3,
    "start_time": "2022-03-08T15:14:02.480Z"
   },
   {
    "duration": 58,
    "start_time": "2022-03-08T15:14:02.492Z"
   },
   {
    "duration": 29,
    "start_time": "2022-03-08T15:14:02.553Z"
   },
   {
    "duration": 25,
    "start_time": "2022-03-08T15:14:02.585Z"
   },
   {
    "duration": 21,
    "start_time": "2022-03-08T15:14:02.613Z"
   },
   {
    "duration": 61,
    "start_time": "2022-03-08T15:14:02.637Z"
   },
   {
    "duration": 21,
    "start_time": "2022-03-08T15:14:02.700Z"
   },
   {
    "duration": 14,
    "start_time": "2022-03-08T15:14:02.723Z"
   },
   {
    "duration": 3,
    "start_time": "2022-03-08T15:14:03.128Z"
   },
   {
    "duration": 6,
    "start_time": "2022-03-08T15:14:03.134Z"
   },
   {
    "duration": 5,
    "start_time": "2022-03-08T15:14:03.143Z"
   },
   {
    "duration": 25,
    "start_time": "2022-03-08T15:14:03.151Z"
   },
   {
    "duration": 16,
    "start_time": "2022-03-08T15:14:04.962Z"
   },
   {
    "duration": 21,
    "start_time": "2022-03-08T15:14:06.049Z"
   },
   {
    "duration": 17,
    "start_time": "2022-03-08T15:15:03.903Z"
   },
   {
    "duration": 16,
    "start_time": "2022-03-08T15:15:10.857Z"
   },
   {
    "duration": 15,
    "start_time": "2022-03-08T15:15:16.960Z"
   },
   {
    "duration": 22,
    "start_time": "2022-03-08T15:15:44.012Z"
   },
   {
    "duration": 4,
    "start_time": "2022-03-08T15:16:52.533Z"
   },
   {
    "duration": 51,
    "start_time": "2022-03-08T15:16:52.540Z"
   },
   {
    "duration": 21,
    "start_time": "2022-03-08T15:16:52.593Z"
   },
   {
    "duration": 26,
    "start_time": "2022-03-08T15:16:52.617Z"
   },
   {
    "duration": 48,
    "start_time": "2022-03-08T15:16:52.645Z"
   },
   {
    "duration": 24,
    "start_time": "2022-03-08T15:16:52.695Z"
   },
   {
    "duration": 20,
    "start_time": "2022-03-08T15:16:52.722Z"
   },
   {
    "duration": 43,
    "start_time": "2022-03-08T15:16:52.744Z"
   },
   {
    "duration": 3,
    "start_time": "2022-03-08T15:16:52.792Z"
   },
   {
    "duration": 5,
    "start_time": "2022-03-08T15:16:52.799Z"
   },
   {
    "duration": 5,
    "start_time": "2022-03-08T15:16:52.807Z"
   },
   {
    "duration": 20,
    "start_time": "2022-03-08T15:16:52.815Z"
   },
   {
    "duration": 56,
    "start_time": "2022-03-08T15:16:52.838Z"
   },
   {
    "duration": 27,
    "start_time": "2022-03-08T15:16:52.897Z"
   },
   {
    "duration": 4,
    "start_time": "2022-03-08T15:41:06.751Z"
   },
   {
    "duration": 65,
    "start_time": "2022-03-08T15:41:06.760Z"
   },
   {
    "duration": 25,
    "start_time": "2022-03-08T15:41:06.827Z"
   },
   {
    "duration": 50,
    "start_time": "2022-03-08T15:41:06.856Z"
   },
   {
    "duration": 119,
    "start_time": "2022-03-08T15:41:12.589Z"
   },
   {
    "duration": 46,
    "start_time": "2022-03-08T15:41:24.489Z"
   },
   {
    "duration": 26,
    "start_time": "2022-03-08T15:41:32.763Z"
   },
   {
    "duration": 25,
    "start_time": "2022-03-08T15:41:42.177Z"
   },
   {
    "duration": 791,
    "start_time": "2022-03-08T16:49:29.235Z"
   },
   {
    "duration": 57,
    "start_time": "2022-03-08T16:49:30.029Z"
   },
   {
    "duration": 31,
    "start_time": "2022-03-08T16:49:30.089Z"
   },
   {
    "duration": 24,
    "start_time": "2022-03-08T16:49:30.123Z"
   },
   {
    "duration": 52,
    "start_time": "2022-03-08T16:49:30.150Z"
   },
   {
    "duration": 28,
    "start_time": "2022-03-08T16:49:30.205Z"
   },
   {
    "duration": 55,
    "start_time": "2022-03-08T16:49:30.236Z"
   },
   {
    "duration": 49,
    "start_time": "2022-03-08T16:49:30.294Z"
   },
   {
    "duration": 19,
    "start_time": "2022-03-08T16:49:58.206Z"
   },
   {
    "duration": 329,
    "start_time": "2022-03-08T16:51:36.974Z"
   },
   {
    "duration": 264,
    "start_time": "2022-03-08T16:52:38.690Z"
   },
   {
    "duration": 260,
    "start_time": "2022-03-08T16:53:02.203Z"
   },
   {
    "duration": 7,
    "start_time": "2022-03-08T16:53:32.955Z"
   },
   {
    "duration": 8,
    "start_time": "2022-03-08T17:00:19.879Z"
   },
   {
    "duration": 10,
    "start_time": "2022-03-08T17:00:26.076Z"
   },
   {
    "duration": 5,
    "start_time": "2022-03-08T17:02:27.471Z"
   },
   {
    "duration": 5,
    "start_time": "2022-03-08T17:02:29.162Z"
   },
   {
    "duration": 1017,
    "start_time": "2022-03-08T17:02:30.810Z"
   },
   {
    "duration": 4,
    "start_time": "2022-03-08T17:03:26.095Z"
   },
   {
    "duration": 5,
    "start_time": "2022-03-08T17:03:27.501Z"
   },
   {
    "duration": 1534,
    "start_time": "2022-03-08T17:03:28.997Z"
   },
   {
    "duration": 5,
    "start_time": "2022-03-08T17:04:01.227Z"
   },
   {
    "duration": 5,
    "start_time": "2022-03-08T17:04:01.575Z"
   },
   {
    "duration": 55,
    "start_time": "2022-03-08T17:04:02.342Z"
   },
   {
    "duration": 8,
    "start_time": "2022-03-08T17:04:10.513Z"
   },
   {
    "duration": 5,
    "start_time": "2022-03-08T17:04:35.367Z"
   },
   {
    "duration": 6,
    "start_time": "2022-03-08T17:04:35.748Z"
   },
   {
    "duration": 65,
    "start_time": "2022-03-08T17:04:36.847Z"
   },
   {
    "duration": 7,
    "start_time": "2022-03-08T17:04:36.914Z"
   },
   {
    "duration": 4,
    "start_time": "2022-03-08T17:05:04.462Z"
   },
   {
    "duration": 55,
    "start_time": "2022-03-08T17:05:04.472Z"
   },
   {
    "duration": 24,
    "start_time": "2022-03-08T17:05:04.531Z"
   },
   {
    "duration": 45,
    "start_time": "2022-03-08T17:05:04.558Z"
   },
   {
    "duration": 21,
    "start_time": "2022-03-08T17:05:04.606Z"
   },
   {
    "duration": 56,
    "start_time": "2022-03-08T17:05:04.629Z"
   },
   {
    "duration": 20,
    "start_time": "2022-03-08T17:05:04.688Z"
   },
   {
    "duration": 14,
    "start_time": "2022-03-08T17:05:04.710Z"
   },
   {
    "duration": 21,
    "start_time": "2022-03-08T17:05:04.727Z"
   },
   {
    "duration": 37,
    "start_time": "2022-03-08T17:05:04.750Z"
   },
   {
    "duration": 9,
    "start_time": "2022-03-08T17:05:04.790Z"
   },
   {
    "duration": 8,
    "start_time": "2022-03-08T17:05:04.801Z"
   },
   {
    "duration": 9,
    "start_time": "2022-03-08T17:05:04.811Z"
   },
   {
    "duration": 60,
    "start_time": "2022-03-08T17:05:04.822Z"
   },
   {
    "duration": 35,
    "start_time": "2022-03-08T17:05:05.830Z"
   },
   {
    "duration": 8,
    "start_time": "2022-03-08T17:05:06.425Z"
   },
   {
    "duration": 19,
    "start_time": "2022-03-08T17:05:46.246Z"
   },
   {
    "duration": 6,
    "start_time": "2022-03-08T17:08:46.640Z"
   },
   {
    "duration": 6,
    "start_time": "2022-03-08T17:09:01.144Z"
   },
   {
    "duration": 1305,
    "start_time": "2022-03-08T17:09:05.107Z"
   },
   {
    "duration": 7,
    "start_time": "2022-03-08T17:09:30.839Z"
   },
   {
    "duration": 35,
    "start_time": "2022-03-08T17:09:31.195Z"
   },
   {
    "duration": 6,
    "start_time": "2022-03-08T17:09:34.498Z"
   },
   {
    "duration": 4,
    "start_time": "2022-03-08T17:16:53.746Z"
   },
   {
    "duration": 7,
    "start_time": "2022-03-08T17:17:13.668Z"
   },
   {
    "duration": 4,
    "start_time": "2022-03-08T17:17:22.691Z"
   },
   {
    "duration": 48,
    "start_time": "2022-03-08T17:17:22.703Z"
   },
   {
    "duration": 30,
    "start_time": "2022-03-08T17:17:22.754Z"
   },
   {
    "duration": 23,
    "start_time": "2022-03-08T17:17:22.787Z"
   },
   {
    "duration": 20,
    "start_time": "2022-03-08T17:17:22.812Z"
   },
   {
    "duration": 54,
    "start_time": "2022-03-08T17:17:22.834Z"
   },
   {
    "duration": 20,
    "start_time": "2022-03-08T17:17:22.890Z"
   },
   {
    "duration": 14,
    "start_time": "2022-03-08T17:17:22.912Z"
   },
   {
    "duration": 55,
    "start_time": "2022-03-08T17:17:22.930Z"
   },
   {
    "duration": 7,
    "start_time": "2022-03-08T17:17:22.987Z"
   },
   {
    "duration": 5,
    "start_time": "2022-03-08T17:17:22.997Z"
   },
   {
    "duration": 7,
    "start_time": "2022-03-08T17:17:27.785Z"
   },
   {
    "duration": 11,
    "start_time": "2022-03-08T17:18:47.071Z"
   },
   {
    "duration": 8,
    "start_time": "2022-03-08T17:18:48.659Z"
   },
   {
    "duration": 1335,
    "start_time": "2022-03-08T17:19:15.718Z"
   },
   {
    "duration": 4,
    "start_time": "2022-03-08T17:19:32.463Z"
   },
   {
    "duration": 42,
    "start_time": "2022-03-08T17:19:35.153Z"
   },
   {
    "duration": 34,
    "start_time": "2022-03-08T17:19:44.115Z"
   },
   {
    "duration": 35,
    "start_time": "2022-03-08T17:20:03.308Z"
   },
   {
    "duration": 4,
    "start_time": "2022-03-08T17:20:56.766Z"
   },
   {
    "duration": 55,
    "start_time": "2022-03-08T17:20:56.772Z"
   },
   {
    "duration": 19,
    "start_time": "2022-03-08T17:20:56.830Z"
   },
   {
    "duration": 43,
    "start_time": "2022-03-08T17:20:56.852Z"
   },
   {
    "duration": 19,
    "start_time": "2022-03-08T17:20:56.898Z"
   },
   {
    "duration": 24,
    "start_time": "2022-03-08T17:20:56.920Z"
   },
   {
    "duration": 48,
    "start_time": "2022-03-08T17:20:56.946Z"
   },
   {
    "duration": 13,
    "start_time": "2022-03-08T17:20:56.997Z"
   },
   {
    "duration": 19,
    "start_time": "2022-03-08T17:20:57.013Z"
   },
   {
    "duration": 7,
    "start_time": "2022-03-08T17:20:57.034Z"
   },
   {
    "duration": 42,
    "start_time": "2022-03-08T17:20:57.043Z"
   },
   {
    "duration": 21,
    "start_time": "2022-03-08T17:20:57.087Z"
   },
   {
    "duration": 13,
    "start_time": "2022-03-08T17:20:59.094Z"
   },
   {
    "duration": 42,
    "start_time": "2022-03-08T17:21:00.251Z"
   },
   {
    "duration": 23,
    "start_time": "2022-03-08T17:23:06.834Z"
   },
   {
    "duration": 4,
    "start_time": "2022-03-08T17:25:56.574Z"
   },
   {
    "duration": 62,
    "start_time": "2022-03-08T17:25:56.584Z"
   },
   {
    "duration": 42,
    "start_time": "2022-03-08T17:25:56.648Z"
   },
   {
    "duration": 24,
    "start_time": "2022-03-08T17:25:56.693Z"
   },
   {
    "duration": 22,
    "start_time": "2022-03-08T17:25:56.720Z"
   },
   {
    "duration": 60,
    "start_time": "2022-03-08T17:25:56.744Z"
   },
   {
    "duration": 22,
    "start_time": "2022-03-08T17:25:56.807Z"
   },
   {
    "duration": 49,
    "start_time": "2022-03-08T17:25:56.833Z"
   },
   {
    "duration": 24,
    "start_time": "2022-03-08T17:25:56.887Z"
   },
   {
    "duration": 8,
    "start_time": "2022-03-08T17:25:56.914Z"
   },
   {
    "duration": 5,
    "start_time": "2022-03-08T17:25:56.925Z"
   },
   {
    "duration": 1363,
    "start_time": "2022-03-08T17:26:03.872Z"
   },
   {
    "duration": 5,
    "start_time": "2022-03-08T17:27:47.407Z"
   },
   {
    "duration": 7,
    "start_time": "2022-03-08T17:27:56.802Z"
   },
   {
    "duration": 1200,
    "start_time": "2022-03-08T17:28:00.858Z"
   },
   {
    "duration": 4,
    "start_time": "2022-03-08T17:34:10.552Z"
   },
   {
    "duration": 1378,
    "start_time": "2022-03-08T17:34:14.221Z"
   },
   {
    "duration": 19,
    "start_time": "2022-03-08T17:37:12.298Z"
   },
   {
    "duration": 21,
    "start_time": "2022-03-08T17:37:41.516Z"
   },
   {
    "duration": 19,
    "start_time": "2022-03-08T17:38:06.955Z"
   },
   {
    "duration": 18,
    "start_time": "2022-03-08T17:38:37.949Z"
   },
   {
    "duration": 3,
    "start_time": "2022-03-08T17:39:54.330Z"
   },
   {
    "duration": 54,
    "start_time": "2022-03-08T17:39:54.339Z"
   },
   {
    "duration": 25,
    "start_time": "2022-03-08T17:39:54.396Z"
   },
   {
    "duration": 59,
    "start_time": "2022-03-08T17:39:54.425Z"
   },
   {
    "duration": 22,
    "start_time": "2022-03-08T17:39:54.487Z"
   },
   {
    "duration": 34,
    "start_time": "2022-03-08T17:39:54.512Z"
   },
   {
    "duration": 58,
    "start_time": "2022-03-08T17:39:54.550Z"
   },
   {
    "duration": 15,
    "start_time": "2022-03-08T17:39:54.610Z"
   },
   {
    "duration": 20,
    "start_time": "2022-03-08T17:39:54.630Z"
   },
   {
    "duration": 23,
    "start_time": "2022-03-08T17:39:54.684Z"
   },
   {
    "duration": 26,
    "start_time": "2022-03-08T17:39:54.710Z"
   },
   {
    "duration": 13,
    "start_time": "2022-03-08T17:41:18.867Z"
   },
   {
    "duration": 15,
    "start_time": "2022-03-08T17:41:51.481Z"
   },
   {
    "duration": 741,
    "start_time": "2022-03-09T09:59:42.647Z"
   },
   {
    "duration": 58,
    "start_time": "2022-03-09T09:59:43.391Z"
   },
   {
    "duration": 33,
    "start_time": "2022-03-09T09:59:43.453Z"
   },
   {
    "duration": 12,
    "start_time": "2022-03-09T10:01:57.826Z"
   },
   {
    "duration": 20,
    "start_time": "2022-03-09T10:03:07.884Z"
   },
   {
    "duration": 3,
    "start_time": "2022-03-09T10:08:21.938Z"
   },
   {
    "duration": 7,
    "start_time": "2022-03-09T10:09:24.266Z"
   },
   {
    "duration": 4,
    "start_time": "2022-03-09T10:09:33.597Z"
   },
   {
    "duration": 37,
    "start_time": "2022-03-09T10:09:34.135Z"
   },
   {
    "duration": 8,
    "start_time": "2022-03-09T10:09:35.832Z"
   },
   {
    "duration": 33,
    "start_time": "2022-03-09T10:09:56.861Z"
   },
   {
    "duration": 7,
    "start_time": "2022-03-09T10:09:58.088Z"
   },
   {
    "duration": 3,
    "start_time": "2022-03-09T10:10:07.559Z"
   },
   {
    "duration": 40,
    "start_time": "2022-03-09T10:10:08.022Z"
   },
   {
    "duration": 8,
    "start_time": "2022-03-09T10:10:08.495Z"
   },
   {
    "duration": 4,
    "start_time": "2022-03-09T10:11:07.970Z"
   },
   {
    "duration": 95,
    "start_time": "2022-03-09T10:11:07.979Z"
   },
   {
    "duration": 22,
    "start_time": "2022-03-09T10:11:08.077Z"
   },
   {
    "duration": 23,
    "start_time": "2022-03-09T10:11:11.771Z"
   },
   {
    "duration": 16,
    "start_time": "2022-03-09T10:11:20.037Z"
   },
   {
    "duration": 13,
    "start_time": "2022-03-09T10:11:26.771Z"
   },
   {
    "duration": 7,
    "start_time": "2022-03-09T10:11:32.448Z"
   },
   {
    "duration": 36,
    "start_time": "2022-03-09T10:11:34.734Z"
   },
   {
    "duration": 16,
    "start_time": "2022-03-09T10:11:50.702Z"
   },
   {
    "duration": 6,
    "start_time": "2022-03-09T10:11:58.024Z"
   },
   {
    "duration": 28,
    "start_time": "2022-03-09T10:12:05.329Z"
   },
   {
    "duration": 21,
    "start_time": "2022-03-09T10:20:08.564Z"
   },
   {
    "duration": 4,
    "start_time": "2022-03-09T10:25:25.249Z"
   },
   {
    "duration": 294,
    "start_time": "2022-03-09T10:26:04.307Z"
   },
   {
    "duration": 20,
    "start_time": "2022-03-09T10:26:19.062Z"
   },
   {
    "duration": 15,
    "start_time": "2022-03-09T10:27:33.342Z"
   },
   {
    "duration": 5,
    "start_time": "2022-03-09T10:33:18.053Z"
   },
   {
    "duration": 4,
    "start_time": "2022-03-09T10:33:23.643Z"
   },
   {
    "duration": 70,
    "start_time": "2022-03-09T10:33:23.651Z"
   },
   {
    "duration": 20,
    "start_time": "2022-03-09T10:33:23.724Z"
   },
   {
    "duration": 3,
    "start_time": "2022-03-09T10:33:23.747Z"
   },
   {
    "duration": 9,
    "start_time": "2022-03-09T10:33:23.753Z"
   },
   {
    "duration": 10,
    "start_time": "2022-03-09T10:33:23.765Z"
   },
   {
    "duration": 23,
    "start_time": "2022-03-09T10:33:23.778Z"
   },
   {
    "duration": 16,
    "start_time": "2022-03-09T10:33:23.832Z"
   },
   {
    "duration": 11,
    "start_time": "2022-03-09T10:33:23.851Z"
   },
   {
    "duration": 4,
    "start_time": "2022-03-09T10:33:25.991Z"
   },
   {
    "duration": 17,
    "start_time": "2022-03-09T10:33:49.427Z"
   },
   {
    "duration": 251,
    "start_time": "2022-03-09T10:34:03.546Z"
   },
   {
    "duration": 6,
    "start_time": "2022-03-09T10:34:15.529Z"
   },
   {
    "duration": 21,
    "start_time": "2022-03-09T10:34:49.880Z"
   },
   {
    "duration": 17,
    "start_time": "2022-03-09T10:37:23.464Z"
   },
   {
    "duration": 15,
    "start_time": "2022-03-09T10:38:02.527Z"
   },
   {
    "duration": 21,
    "start_time": "2022-03-09T10:39:37.779Z"
   },
   {
    "duration": 4,
    "start_time": "2022-03-09T10:39:42.762Z"
   },
   {
    "duration": 82,
    "start_time": "2022-03-09T10:39:42.772Z"
   },
   {
    "duration": 21,
    "start_time": "2022-03-09T10:39:42.856Z"
   },
   {
    "duration": 3,
    "start_time": "2022-03-09T10:39:42.881Z"
   },
   {
    "duration": 14,
    "start_time": "2022-03-09T10:39:42.886Z"
   },
   {
    "duration": 8,
    "start_time": "2022-03-09T10:39:42.903Z"
   },
   {
    "duration": 23,
    "start_time": "2022-03-09T10:41:49.988Z"
   },
   {
    "duration": 22,
    "start_time": "2022-03-09T10:47:05.441Z"
   },
   {
    "duration": 12,
    "start_time": "2022-03-09T10:47:32.829Z"
   },
   {
    "duration": 21,
    "start_time": "2022-03-09T10:47:34.761Z"
   },
   {
    "duration": 4,
    "start_time": "2022-03-09T10:48:01.038Z"
   },
   {
    "duration": 67,
    "start_time": "2022-03-09T10:48:01.047Z"
   },
   {
    "duration": 21,
    "start_time": "2022-03-09T10:48:01.116Z"
   },
   {
    "duration": 3,
    "start_time": "2022-03-09T10:48:01.140Z"
   },
   {
    "duration": 19,
    "start_time": "2022-03-09T10:48:01.145Z"
   },
   {
    "duration": 12,
    "start_time": "2022-03-09T10:48:01.166Z"
   },
   {
    "duration": 34,
    "start_time": "2022-03-09T10:48:01.181Z"
   },
   {
    "duration": 40,
    "start_time": "2022-03-09T10:48:01.217Z"
   },
   {
    "duration": 17,
    "start_time": "2022-03-09T10:50:26.621Z"
   },
   {
    "duration": 25,
    "start_time": "2022-03-09T10:51:03.274Z"
   },
   {
    "duration": 3,
    "start_time": "2022-03-09T10:51:42.868Z"
   },
   {
    "duration": 25,
    "start_time": "2022-03-09T10:52:08.430Z"
   },
   {
    "duration": 4,
    "start_time": "2022-03-09T10:52:22.856Z"
   },
   {
    "duration": 291,
    "start_time": "2022-03-09T10:53:01.277Z"
   },
   {
    "duration": 287,
    "start_time": "2022-03-09T10:53:29.910Z"
   },
   {
    "duration": 279,
    "start_time": "2022-03-09T10:53:43.092Z"
   },
   {
    "duration": 288,
    "start_time": "2022-03-09T10:55:29.820Z"
   },
   {
    "duration": 294,
    "start_time": "2022-03-09T10:56:04.345Z"
   },
   {
    "duration": 300,
    "start_time": "2022-03-09T10:57:52.852Z"
   },
   {
    "duration": 121,
    "start_time": "2022-03-09T10:58:51.628Z"
   },
   {
    "duration": 18,
    "start_time": "2022-03-09T10:58:59.360Z"
   },
   {
    "duration": 3,
    "start_time": "2022-03-09T11:01:59.668Z"
   },
   {
    "duration": 62,
    "start_time": "2022-03-09T11:01:59.677Z"
   },
   {
    "duration": 20,
    "start_time": "2022-03-09T11:01:59.742Z"
   },
   {
    "duration": 3,
    "start_time": "2022-03-09T11:01:59.764Z"
   },
   {
    "duration": 13,
    "start_time": "2022-03-09T11:01:59.770Z"
   },
   {
    "duration": 16,
    "start_time": "2022-03-09T11:01:59.785Z"
   },
   {
    "duration": 41,
    "start_time": "2022-03-09T11:01:59.804Z"
   },
   {
    "duration": 22,
    "start_time": "2022-03-09T11:01:59.847Z"
   },
   {
    "duration": 23,
    "start_time": "2022-03-09T11:01:59.873Z"
   },
   {
    "duration": 34,
    "start_time": "2022-03-09T11:01:59.899Z"
   },
   {
    "duration": 289,
    "start_time": "2022-03-09T11:01:59.936Z"
   },
   {
    "duration": 16,
    "start_time": "2022-03-09T11:02:00.227Z"
   },
   {
    "duration": 18,
    "start_time": "2022-03-09T11:02:00.245Z"
   },
   {
    "duration": 12,
    "start_time": "2022-03-09T11:03:16.291Z"
   },
   {
    "duration": 26,
    "start_time": "2022-03-09T11:05:12.351Z"
   },
   {
    "duration": 22,
    "start_time": "2022-03-09T11:05:27.742Z"
   },
   {
    "duration": 34,
    "start_time": "2022-03-09T11:05:45.370Z"
   },
   {
    "duration": 7,
    "start_time": "2022-03-09T11:06:15.095Z"
   },
   {
    "duration": 19,
    "start_time": "2022-03-09T11:07:12.444Z"
   },
   {
    "duration": 15,
    "start_time": "2022-03-09T11:07:19.957Z"
   },
   {
    "duration": 4,
    "start_time": "2022-03-09T11:08:02.244Z"
   },
   {
    "duration": 7,
    "start_time": "2022-03-09T11:08:07.881Z"
   },
   {
    "duration": 24,
    "start_time": "2022-03-09T11:14:36.069Z"
   },
   {
    "duration": 8,
    "start_time": "2022-03-09T11:17:21.682Z"
   },
   {
    "duration": 22,
    "start_time": "2022-03-09T11:17:36.756Z"
   },
   {
    "duration": 24,
    "start_time": "2022-03-09T11:18:07.772Z"
   },
   {
    "duration": 24,
    "start_time": "2022-03-09T11:18:22.893Z"
   },
   {
    "duration": 26,
    "start_time": "2022-03-09T11:18:39.180Z"
   },
   {
    "duration": 7,
    "start_time": "2022-03-09T11:18:49.607Z"
   },
   {
    "duration": 22,
    "start_time": "2022-03-09T11:18:58.134Z"
   },
   {
    "duration": 611,
    "start_time": "2022-03-09T15:18:16.904Z"
   },
   {
    "duration": 50,
    "start_time": "2022-03-09T15:18:17.517Z"
   },
   {
    "duration": 24,
    "start_time": "2022-03-09T15:18:17.569Z"
   },
   {
    "duration": 3,
    "start_time": "2022-03-09T15:18:17.596Z"
   },
   {
    "duration": 25,
    "start_time": "2022-03-09T15:18:17.600Z"
   },
   {
    "duration": 21,
    "start_time": "2022-03-09T15:18:17.626Z"
   },
   {
    "duration": 37,
    "start_time": "2022-03-09T15:18:17.649Z"
   },
   {
    "duration": 18,
    "start_time": "2022-03-09T15:18:17.688Z"
   },
   {
    "duration": 17,
    "start_time": "2022-03-09T15:18:17.708Z"
   },
   {
    "duration": 3,
    "start_time": "2022-03-09T15:18:17.727Z"
   },
   {
    "duration": 203,
    "start_time": "2022-03-09T15:18:17.732Z"
   },
   {
    "duration": 12,
    "start_time": "2022-03-09T15:18:17.937Z"
   },
   {
    "duration": 27,
    "start_time": "2022-03-09T15:18:17.950Z"
   },
   {
    "duration": 5,
    "start_time": "2022-03-09T15:18:17.978Z"
   },
   {
    "duration": 19,
    "start_time": "2022-03-09T15:18:17.985Z"
   },
   {
    "duration": 334,
    "start_time": "2022-03-09T15:18:28.328Z"
   },
   {
    "duration": 6,
    "start_time": "2022-03-09T15:18:32.921Z"
   },
   {
    "duration": 20,
    "start_time": "2022-03-09T15:18:36.623Z"
   },
   {
    "duration": 16,
    "start_time": "2022-03-09T15:18:44.274Z"
   },
   {
    "duration": 18,
    "start_time": "2022-03-09T15:18:50.540Z"
   },
   {
    "duration": 9,
    "start_time": "2022-03-09T15:19:50.644Z"
   },
   {
    "duration": 8,
    "start_time": "2022-03-09T15:23:01.205Z"
   },
   {
    "duration": 18,
    "start_time": "2022-03-09T15:23:21.627Z"
   },
   {
    "duration": 6,
    "start_time": "2022-03-09T15:23:40.573Z"
   },
   {
    "duration": 16,
    "start_time": "2022-03-09T15:23:54.771Z"
   },
   {
    "duration": 6,
    "start_time": "2022-03-09T15:24:16.580Z"
   },
   {
    "duration": 8,
    "start_time": "2022-03-09T15:24:29.434Z"
   },
   {
    "duration": 18,
    "start_time": "2022-03-09T15:24:39.015Z"
   },
   {
    "duration": 7,
    "start_time": "2022-03-09T15:24:52.258Z"
   },
   {
    "duration": 7,
    "start_time": "2022-03-09T15:24:59.804Z"
   },
   {
    "duration": 12,
    "start_time": "2022-03-09T15:25:03.401Z"
   },
   {
    "duration": 22,
    "start_time": "2022-03-09T15:25:08.188Z"
   },
   {
    "duration": 14,
    "start_time": "2022-03-09T15:25:14.994Z"
   },
   {
    "duration": 3,
    "start_time": "2022-03-09T15:26:53.301Z"
   },
   {
    "duration": 53,
    "start_time": "2022-03-09T15:26:53.308Z"
   },
   {
    "duration": 14,
    "start_time": "2022-03-09T15:26:53.363Z"
   },
   {
    "duration": 4,
    "start_time": "2022-03-09T15:26:53.379Z"
   },
   {
    "duration": 23,
    "start_time": "2022-03-09T15:26:53.385Z"
   },
   {
    "duration": 19,
    "start_time": "2022-03-09T15:26:53.410Z"
   },
   {
    "duration": 10,
    "start_time": "2022-03-09T15:26:53.431Z"
   },
   {
    "duration": 45,
    "start_time": "2022-03-09T15:26:53.443Z"
   },
   {
    "duration": 17,
    "start_time": "2022-03-09T15:26:53.490Z"
   },
   {
    "duration": 3,
    "start_time": "2022-03-09T15:26:53.509Z"
   },
   {
    "duration": 210,
    "start_time": "2022-03-09T15:26:53.514Z"
   },
   {
    "duration": 12,
    "start_time": "2022-03-09T15:26:53.726Z"
   },
   {
    "duration": 12,
    "start_time": "2022-03-09T15:26:53.740Z"
   },
   {
    "duration": 35,
    "start_time": "2022-03-09T15:26:53.754Z"
   },
   {
    "duration": 7,
    "start_time": "2022-03-09T15:26:53.791Z"
   },
   {
    "duration": 19,
    "start_time": "2022-03-09T15:26:53.800Z"
   },
   {
    "duration": 17,
    "start_time": "2022-03-09T15:28:32.064Z"
   },
   {
    "duration": 15,
    "start_time": "2022-03-09T15:28:44.108Z"
   },
   {
    "duration": 16,
    "start_time": "2022-03-09T15:33:51.570Z"
   },
   {
    "duration": 18,
    "start_time": "2022-03-09T15:34:09.727Z"
   },
   {
    "duration": 3,
    "start_time": "2022-03-09T15:34:21.245Z"
   },
   {
    "duration": 53,
    "start_time": "2022-03-09T15:34:21.252Z"
   },
   {
    "duration": 19,
    "start_time": "2022-03-09T15:34:21.307Z"
   },
   {
    "duration": 12,
    "start_time": "2022-03-09T15:34:21.328Z"
   },
   {
    "duration": 44,
    "start_time": "2022-03-09T15:34:21.342Z"
   },
   {
    "duration": 18,
    "start_time": "2022-03-09T15:34:21.388Z"
   },
   {
    "duration": 4,
    "start_time": "2022-03-09T15:34:21.407Z"
   },
   {
    "duration": 196,
    "start_time": "2022-03-09T15:34:21.413Z"
   },
   {
    "duration": 13,
    "start_time": "2022-03-09T15:34:21.611Z"
   },
   {
    "duration": 12,
    "start_time": "2022-03-09T15:34:21.626Z"
   },
   {
    "duration": 37,
    "start_time": "2022-03-09T15:34:21.640Z"
   },
   {
    "duration": 19,
    "start_time": "2022-03-09T15:34:21.679Z"
   },
   {
    "duration": 23,
    "start_time": "2022-03-09T15:34:21.700Z"
   },
   {
    "duration": 19,
    "start_time": "2022-03-09T15:34:27.406Z"
   },
   {
    "duration": 21,
    "start_time": "2022-03-09T15:34:53.008Z"
   },
   {
    "duration": 264,
    "start_time": "2022-03-09T15:44:41.940Z"
   },
   {
    "duration": 14,
    "start_time": "2022-03-09T15:44:44.981Z"
   },
   {
    "duration": 6,
    "start_time": "2022-03-09T15:45:13.949Z"
   },
   {
    "duration": 345708,
    "start_time": "2022-03-09T15:45:21.933Z"
   },
   {
    "duration": 3,
    "start_time": "2022-03-09T16:10:09.354Z"
   },
   {
    "duration": 447,
    "start_time": "2022-03-09T16:13:07.073Z"
   },
   {
    "duration": 3,
    "start_time": "2022-03-09T16:13:20.890Z"
   },
   {
    "duration": 11,
    "start_time": "2022-03-09T16:17:02.450Z"
   },
   {
    "duration": 12,
    "start_time": "2022-03-09T16:19:16.001Z"
   },
   {
    "duration": 11,
    "start_time": "2022-03-09T16:19:43.566Z"
   },
   {
    "duration": 12,
    "start_time": "2022-03-09T16:21:10.780Z"
   },
   {
    "duration": 13,
    "start_time": "2022-03-09T16:22:31.804Z"
   },
   {
    "duration": 11,
    "start_time": "2022-03-09T16:27:11.111Z"
   },
   {
    "duration": 14,
    "start_time": "2022-03-09T16:27:39.923Z"
   },
   {
    "duration": 16,
    "start_time": "2022-03-09T16:29:13.996Z"
   },
   {
    "duration": 18,
    "start_time": "2022-03-09T16:30:15.880Z"
   },
   {
    "duration": 19,
    "start_time": "2022-03-09T16:31:14.052Z"
   },
   {
    "duration": 325,
    "start_time": "2022-03-09T19:04:23.819Z"
   },
   {
    "duration": 1126,
    "start_time": "2022-03-09T19:04:32.924Z"
   },
   {
    "duration": 43,
    "start_time": "2022-03-09T19:04:34.052Z"
   },
   {
    "duration": 18,
    "start_time": "2022-03-09T19:04:34.097Z"
   },
   {
    "duration": 21,
    "start_time": "2022-03-09T19:04:34.117Z"
   },
   {
    "duration": 28,
    "start_time": "2022-03-09T19:04:34.139Z"
   },
   {
    "duration": 30,
    "start_time": "2022-03-09T19:04:34.169Z"
   },
   {
    "duration": 27,
    "start_time": "2022-03-09T19:04:34.200Z"
   },
   {
    "duration": 154,
    "start_time": "2022-03-09T19:04:34.229Z"
   },
   {
    "duration": 16,
    "start_time": "2022-03-09T19:04:34.385Z"
   },
   {
    "duration": 11,
    "start_time": "2022-03-09T19:04:34.403Z"
   },
   {
    "duration": 32,
    "start_time": "2022-03-09T19:04:34.416Z"
   },
   {
    "duration": 39,
    "start_time": "2022-03-09T19:04:34.449Z"
   },
   {
    "duration": 14,
    "start_time": "2022-03-09T19:04:34.489Z"
   },
   {
    "duration": 15,
    "start_time": "2022-03-09T19:04:34.505Z"
   },
   {
    "duration": 7,
    "start_time": "2022-03-09T19:04:34.522Z"
   },
   {
    "duration": 14,
    "start_time": "2022-03-09T19:04:34.531Z"
   },
   {
    "duration": 475,
    "start_time": "2022-03-09T19:04:34.547Z"
   },
   {
    "duration": 430,
    "start_time": "2022-03-09T19:04:54.378Z"
   },
   {
    "duration": 406,
    "start_time": "2022-03-09T19:05:22.562Z"
   },
   {
    "duration": 12,
    "start_time": "2022-03-09T19:05:46.995Z"
   },
   {
    "duration": 462,
    "start_time": "2022-03-09T19:05:48.193Z"
   },
   {
    "duration": 486,
    "start_time": "2022-03-09T19:43:26.599Z"
   },
   {
    "duration": 547,
    "start_time": "2022-03-09T19:44:04.904Z"
   },
   {
    "duration": 470,
    "start_time": "2022-03-09T19:44:18.049Z"
   },
   {
    "duration": 490,
    "start_time": "2022-03-09T19:44:33.942Z"
   },
   {
    "duration": 454,
    "start_time": "2022-03-09T19:45:02.868Z"
   },
   {
    "duration": 469,
    "start_time": "2022-03-09T19:45:11.541Z"
   },
   {
    "duration": 150,
    "start_time": "2022-03-09T19:51:27.367Z"
   },
   {
    "duration": 188,
    "start_time": "2022-03-09T19:51:34.840Z"
   },
   {
    "duration": 249,
    "start_time": "2022-03-09T19:55:52.385Z"
   },
   {
    "duration": 233,
    "start_time": "2022-03-09T19:57:04.019Z"
   },
   {
    "duration": 1164,
    "start_time": "2022-03-10T08:34:18.069Z"
   },
   {
    "duration": 1523,
    "start_time": "2022-03-10T08:34:19.235Z"
   },
   {
    "duration": 17,
    "start_time": "2022-03-10T08:34:20.760Z"
   },
   {
    "duration": 10,
    "start_time": "2022-03-10T08:34:20.779Z"
   },
   {
    "duration": 17,
    "start_time": "2022-03-10T08:34:20.791Z"
   },
   {
    "duration": 15,
    "start_time": "2022-03-10T08:34:20.810Z"
   },
   {
    "duration": 3,
    "start_time": "2022-03-10T08:34:20.827Z"
   },
   {
    "duration": 155,
    "start_time": "2022-03-10T08:34:20.833Z"
   },
   {
    "duration": 19,
    "start_time": "2022-03-10T08:34:20.990Z"
   },
   {
    "duration": 9,
    "start_time": "2022-03-10T08:34:21.010Z"
   },
   {
    "duration": 11,
    "start_time": "2022-03-10T08:34:21.020Z"
   },
   {
    "duration": 17,
    "start_time": "2022-03-10T08:34:21.033Z"
   },
   {
    "duration": 15,
    "start_time": "2022-03-10T08:34:21.051Z"
   },
   {
    "duration": 44,
    "start_time": "2022-03-10T08:34:21.067Z"
   },
   {
    "duration": 235,
    "start_time": "2022-03-10T08:34:21.112Z"
   },
   {
    "duration": 218,
    "start_time": "2022-03-10T08:34:30.736Z"
   },
   {
    "duration": 203,
    "start_time": "2022-03-10T08:34:43.513Z"
   },
   {
    "duration": 210,
    "start_time": "2022-03-10T08:36:23.933Z"
   },
   {
    "duration": 561,
    "start_time": "2022-03-10T08:36:50.204Z"
   },
   {
    "duration": 675,
    "start_time": "2022-03-10T08:37:01.871Z"
   },
   {
    "duration": 206,
    "start_time": "2022-03-10T08:37:27.948Z"
   },
   {
    "duration": 259,
    "start_time": "2022-03-10T08:37:40.826Z"
   },
   {
    "duration": 209,
    "start_time": "2022-03-10T08:39:26.933Z"
   },
   {
    "duration": 200,
    "start_time": "2022-03-10T08:39:41.430Z"
   },
   {
    "duration": 204,
    "start_time": "2022-03-10T08:39:45.450Z"
   },
   {
    "duration": 198,
    "start_time": "2022-03-10T08:39:57.459Z"
   },
   {
    "duration": 202,
    "start_time": "2022-03-10T08:40:12.990Z"
   },
   {
    "duration": 337,
    "start_time": "2022-03-10T13:19:46.904Z"
   },
   {
    "duration": 1092,
    "start_time": "2022-03-10T13:19:53.751Z"
   },
   {
    "duration": 46,
    "start_time": "2022-03-10T13:19:54.844Z"
   },
   {
    "duration": 20,
    "start_time": "2022-03-10T13:19:54.892Z"
   },
   {
    "duration": 11,
    "start_time": "2022-03-10T13:19:54.915Z"
   },
   {
    "duration": 16,
    "start_time": "2022-03-10T13:19:54.928Z"
   },
   {
    "duration": 17,
    "start_time": "2022-03-10T13:19:54.945Z"
   },
   {
    "duration": 3,
    "start_time": "2022-03-10T13:19:54.964Z"
   },
   {
    "duration": 198,
    "start_time": "2022-03-10T13:19:54.970Z"
   },
   {
    "duration": 12,
    "start_time": "2022-03-10T13:19:55.170Z"
   },
   {
    "duration": 26,
    "start_time": "2022-03-10T13:19:55.184Z"
   },
   {
    "duration": 13,
    "start_time": "2022-03-10T13:19:55.212Z"
   },
   {
    "duration": 18,
    "start_time": "2022-03-10T13:19:55.226Z"
   },
   {
    "duration": 16,
    "start_time": "2022-03-10T13:19:55.246Z"
   },
   {
    "duration": 47,
    "start_time": "2022-03-10T13:19:55.264Z"
   },
   {
    "duration": 226,
    "start_time": "2022-03-10T13:19:55.313Z"
   },
   {
    "duration": 8,
    "start_time": "2022-03-10T13:19:55.540Z"
   },
   {
    "duration": 10,
    "start_time": "2022-03-10T13:25:17.470Z"
   },
   {
    "duration": 10,
    "start_time": "2022-03-10T13:26:19.381Z"
   },
   {
    "duration": 173,
    "start_time": "2022-03-10T13:26:50.129Z"
   },
   {
    "duration": 159,
    "start_time": "2022-03-10T13:27:01.102Z"
   },
   {
    "duration": 152,
    "start_time": "2022-03-10T13:27:06.245Z"
   },
   {
    "duration": 146,
    "start_time": "2022-03-10T13:28:38.922Z"
   },
   {
    "duration": 519,
    "start_time": "2022-03-10T13:32:34.909Z"
   },
   {
    "duration": 770,
    "start_time": "2022-03-10T13:33:46.507Z"
   },
   {
    "duration": 491,
    "start_time": "2022-03-10T13:34:09.998Z"
   },
   {
    "duration": 199,
    "start_time": "2022-03-10T13:36:39.462Z"
   },
   {
    "duration": 456,
    "start_time": "2022-03-10T13:36:46.368Z"
   },
   {
    "duration": 154,
    "start_time": "2022-03-10T13:36:54.360Z"
   },
   {
    "duration": 154,
    "start_time": "2022-03-10T13:37:01.943Z"
   },
   {
    "duration": 542,
    "start_time": "2022-03-10T13:37:21.019Z"
   },
   {
    "duration": 156,
    "start_time": "2022-03-10T13:37:40.446Z"
   },
   {
    "duration": 505,
    "start_time": "2022-03-10T13:38:59.560Z"
   },
   {
    "duration": 145,
    "start_time": "2022-03-10T13:39:29.455Z"
   },
   {
    "duration": 1175,
    "start_time": "2022-03-10T13:40:23.558Z"
   },
   {
    "duration": 886,
    "start_time": "2022-03-10T13:41:33.904Z"
   },
   {
    "duration": 499,
    "start_time": "2022-03-10T13:41:44.909Z"
   },
   {
    "duration": 487,
    "start_time": "2022-03-10T13:42:02.833Z"
   },
   {
    "duration": 149,
    "start_time": "2022-03-10T13:42:47.551Z"
   },
   {
    "duration": 221,
    "start_time": "2022-03-10T13:42:59.123Z"
   },
   {
    "duration": 145,
    "start_time": "2022-03-10T13:43:07.985Z"
   },
   {
    "duration": 144,
    "start_time": "2022-03-10T13:43:28.367Z"
   },
   {
    "duration": 148,
    "start_time": "2022-03-10T13:45:37.481Z"
   },
   {
    "duration": 152,
    "start_time": "2022-03-10T13:45:42.269Z"
   },
   {
    "duration": 151,
    "start_time": "2022-03-10T13:45:49.573Z"
   },
   {
    "duration": 149,
    "start_time": "2022-03-10T13:46:00.393Z"
   },
   {
    "duration": 150,
    "start_time": "2022-03-10T13:46:12.987Z"
   },
   {
    "duration": 153,
    "start_time": "2022-03-10T13:46:25.105Z"
   },
   {
    "duration": 148,
    "start_time": "2022-03-10T13:46:31.077Z"
   },
   {
    "duration": 145,
    "start_time": "2022-03-10T13:46:35.917Z"
   },
   {
    "duration": 146,
    "start_time": "2022-03-10T13:46:51.672Z"
   },
   {
    "duration": 5,
    "start_time": "2022-03-10T13:47:45.726Z"
   },
   {
    "duration": 4,
    "start_time": "2022-03-10T13:47:50.623Z"
   },
   {
    "duration": 4,
    "start_time": "2022-03-10T13:47:58.368Z"
   },
   {
    "duration": 112,
    "start_time": "2022-03-10T13:48:06.009Z"
   },
   {
    "duration": 220,
    "start_time": "2022-03-10T13:48:22.054Z"
   },
   {
    "duration": 146,
    "start_time": "2022-03-10T13:48:49.982Z"
   },
   {
    "duration": 143,
    "start_time": "2022-03-10T13:49:00.700Z"
   },
   {
    "duration": 216,
    "start_time": "2022-03-10T13:49:13.891Z"
   },
   {
    "duration": 144,
    "start_time": "2022-03-10T13:49:24.308Z"
   },
   {
    "duration": 145,
    "start_time": "2022-03-10T13:49:29.712Z"
   },
   {
    "duration": 144,
    "start_time": "2022-03-10T13:49:43.608Z"
   },
   {
    "duration": 461,
    "start_time": "2022-03-10T13:51:39.030Z"
   },
   {
    "duration": 436,
    "start_time": "2022-03-10T13:51:56.503Z"
   },
   {
    "duration": 156,
    "start_time": "2022-03-10T13:52:04.655Z"
   },
   {
    "duration": 144,
    "start_time": "2022-03-10T13:52:16.218Z"
   },
   {
    "duration": 210,
    "start_time": "2022-03-10T13:52:27.755Z"
   },
   {
    "duration": 143,
    "start_time": "2022-03-10T13:52:47.812Z"
   },
   {
    "duration": 143,
    "start_time": "2022-03-10T13:53:59.560Z"
   },
   {
    "duration": 148,
    "start_time": "2022-03-10T13:54:07.198Z"
   },
   {
    "duration": 141,
    "start_time": "2022-03-10T13:54:16.395Z"
   },
   {
    "duration": 143,
    "start_time": "2022-03-10T13:54:27.827Z"
   },
   {
    "duration": 145,
    "start_time": "2022-03-10T13:54:38.053Z"
   },
   {
    "duration": 145,
    "start_time": "2022-03-10T13:54:49.639Z"
   },
   {
    "duration": 158,
    "start_time": "2022-03-10T13:55:01.437Z"
   },
   {
    "duration": 142,
    "start_time": "2022-03-10T13:55:16.797Z"
   },
   {
    "duration": 138,
    "start_time": "2022-03-10T13:56:52.852Z"
   },
   {
    "duration": 515,
    "start_time": "2022-03-10T13:57:48.164Z"
   },
   {
    "duration": 144,
    "start_time": "2022-03-10T13:58:13.915Z"
   },
   {
    "duration": 138,
    "start_time": "2022-03-10T13:59:00.236Z"
   },
   {
    "duration": 137,
    "start_time": "2022-03-10T14:00:35.782Z"
   },
   {
    "duration": 137,
    "start_time": "2022-03-10T14:00:58.198Z"
   },
   {
    "duration": 137,
    "start_time": "2022-03-10T14:01:19.623Z"
   },
   {
    "duration": 135,
    "start_time": "2022-03-10T14:01:53.176Z"
   },
   {
    "duration": 136,
    "start_time": "2022-03-10T14:03:38.562Z"
   },
   {
    "duration": 139,
    "start_time": "2022-03-10T14:04:35.467Z"
   },
   {
    "duration": 135,
    "start_time": "2022-03-10T14:04:59.587Z"
   },
   {
    "duration": 137,
    "start_time": "2022-03-10T14:05:16.267Z"
   },
   {
    "duration": 197,
    "start_time": "2022-03-10T14:05:25.536Z"
   },
   {
    "duration": 156,
    "start_time": "2022-03-10T14:05:58.684Z"
   },
   {
    "duration": 139,
    "start_time": "2022-03-10T14:06:10.679Z"
   },
   {
    "duration": 143,
    "start_time": "2022-03-10T14:06:22.427Z"
   },
   {
    "duration": 141,
    "start_time": "2022-03-10T14:09:07.230Z"
   },
   {
    "duration": 8,
    "start_time": "2022-03-10T14:09:13.668Z"
   },
   {
    "duration": 109,
    "start_time": "2022-03-10T14:14:34.041Z"
   },
   {
    "duration": 17,
    "start_time": "2022-03-10T14:14:41.945Z"
   },
   {
    "duration": 15,
    "start_time": "2022-03-10T14:15:18.930Z"
   },
   {
    "duration": 18,
    "start_time": "2022-03-10T14:16:06.042Z"
   },
   {
    "duration": 16,
    "start_time": "2022-03-10T14:16:36.370Z"
   },
   {
    "duration": 218,
    "start_time": "2022-03-10T14:17:56.443Z"
   },
   {
    "duration": 260,
    "start_time": "2022-03-10T14:18:43.702Z"
   },
   {
    "duration": 274,
    "start_time": "2022-03-10T14:18:50.844Z"
   },
   {
    "duration": 273,
    "start_time": "2022-03-10T14:19:58.207Z"
   },
   {
    "duration": 201,
    "start_time": "2022-03-10T14:24:45.563Z"
   },
   {
    "duration": 187,
    "start_time": "2022-03-10T14:24:57.142Z"
   },
   {
    "duration": 310,
    "start_time": "2022-03-10T14:25:12.340Z"
   },
   {
    "duration": 662,
    "start_time": "2022-03-10T14:25:28.724Z"
   },
   {
    "duration": 248,
    "start_time": "2022-03-10T14:25:38.344Z"
   },
   {
    "duration": 238,
    "start_time": "2022-03-10T14:25:49.959Z"
   },
   {
    "duration": 237,
    "start_time": "2022-03-10T14:25:57.324Z"
   },
   {
    "duration": 278,
    "start_time": "2022-03-10T14:26:10.925Z"
   },
   {
    "duration": 276,
    "start_time": "2022-03-10T14:26:18.058Z"
   },
   {
    "duration": 276,
    "start_time": "2022-03-10T14:26:28.273Z"
   },
   {
    "duration": 275,
    "start_time": "2022-03-10T14:26:45.744Z"
   },
   {
    "duration": 282,
    "start_time": "2022-03-10T14:26:52.506Z"
   },
   {
    "duration": 280,
    "start_time": "2022-03-10T14:27:00.413Z"
   },
   {
    "duration": 370,
    "start_time": "2022-03-10T14:30:03.687Z"
   },
   {
    "duration": 323,
    "start_time": "2022-03-10T14:31:08.132Z"
   },
   {
    "duration": 286,
    "start_time": "2022-03-10T14:33:21.638Z"
   },
   {
    "duration": 283,
    "start_time": "2022-03-10T14:33:26.713Z"
   },
   {
    "duration": 297,
    "start_time": "2022-03-10T14:33:32.043Z"
   },
   {
    "duration": 300,
    "start_time": "2022-03-10T14:34:02.311Z"
   },
   {
    "duration": 294,
    "start_time": "2022-03-10T14:34:19.823Z"
   },
   {
    "duration": 295,
    "start_time": "2022-03-10T14:34:40.726Z"
   },
   {
    "duration": 298,
    "start_time": "2022-03-10T14:34:45.016Z"
   },
   {
    "duration": 300,
    "start_time": "2022-03-10T14:34:51.093Z"
   },
   {
    "duration": 310,
    "start_time": "2022-03-10T14:35:08.618Z"
   },
   {
    "duration": 498,
    "start_time": "2022-03-10T14:37:16.364Z"
   },
   {
    "duration": 308,
    "start_time": "2022-03-10T14:37:35.197Z"
   },
   {
    "duration": 303,
    "start_time": "2022-03-10T14:37:46.677Z"
   },
   {
    "duration": 342,
    "start_time": "2022-03-10T14:37:54.386Z"
   },
   {
    "duration": 309,
    "start_time": "2022-03-10T14:38:14.843Z"
   },
   {
    "duration": 298,
    "start_time": "2022-03-10T14:38:25.494Z"
   },
   {
    "duration": 111,
    "start_time": "2022-03-10T14:44:14.485Z"
   },
   {
    "duration": 301,
    "start_time": "2022-03-10T14:44:20.820Z"
   },
   {
    "duration": 302,
    "start_time": "2022-03-10T14:44:35.283Z"
   },
   {
    "duration": 295,
    "start_time": "2022-03-10T14:44:47.241Z"
   },
   {
    "duration": 396,
    "start_time": "2022-03-10T14:44:55.765Z"
   },
   {
    "duration": 297,
    "start_time": "2022-03-10T14:45:03.075Z"
   },
   {
    "duration": 16,
    "start_time": "2022-03-10T14:48:23.571Z"
   },
   {
    "duration": 378,
    "start_time": "2022-03-10T14:50:28.940Z"
   },
   {
    "duration": 6,
    "start_time": "2022-03-10T14:50:39.083Z"
   },
   {
    "duration": 5,
    "start_time": "2022-03-10T14:53:38.806Z"
   },
   {
    "duration": 9,
    "start_time": "2022-03-10T14:53:44.241Z"
   },
   {
    "duration": 8,
    "start_time": "2022-03-10T14:54:37.270Z"
   },
   {
    "duration": 8,
    "start_time": "2022-03-10T14:55:19.001Z"
   },
   {
    "duration": 8,
    "start_time": "2022-03-10T14:55:32.744Z"
   },
   {
    "duration": 8,
    "start_time": "2022-03-10T14:55:46.354Z"
   },
   {
    "duration": 118,
    "start_time": "2022-03-10T14:57:11.986Z"
   },
   {
    "duration": 306,
    "start_time": "2022-03-10T14:57:17.895Z"
   },
   {
    "duration": 282,
    "start_time": "2022-03-10T14:58:45.707Z"
   },
   {
    "duration": 289,
    "start_time": "2022-03-10T14:59:28.203Z"
   },
   {
    "duration": 279,
    "start_time": "2022-03-10T14:59:42.118Z"
   },
   {
    "duration": 291,
    "start_time": "2022-03-10T15:00:23.885Z"
   },
   {
    "duration": 285,
    "start_time": "2022-03-10T15:00:39.307Z"
   },
   {
    "duration": 291,
    "start_time": "2022-03-10T15:00:58.242Z"
   },
   {
    "duration": 286,
    "start_time": "2022-03-10T15:07:12.858Z"
   },
   {
    "duration": 302,
    "start_time": "2022-03-10T15:07:22.763Z"
   },
   {
    "duration": 643,
    "start_time": "2022-03-10T15:07:35.237Z"
   },
   {
    "duration": 355,
    "start_time": "2022-03-10T15:07:42.638Z"
   },
   {
    "duration": 277,
    "start_time": "2022-03-10T15:08:56.276Z"
   },
   {
    "duration": 578,
    "start_time": "2022-03-10T15:09:34.675Z"
   },
   {
    "duration": 271,
    "start_time": "2022-03-10T15:10:47.770Z"
   },
   {
    "duration": 281,
    "start_time": "2022-03-10T15:13:59.098Z"
   },
   {
    "duration": 532,
    "start_time": "2022-03-10T15:15:00.401Z"
   },
   {
    "duration": 292,
    "start_time": "2022-03-10T15:15:32.220Z"
   },
   {
    "duration": 302,
    "start_time": "2022-03-10T21:33:29.277Z"
   },
   {
    "duration": 1347,
    "start_time": "2022-03-10T21:33:39.170Z"
   },
   {
    "duration": 54,
    "start_time": "2022-03-10T21:33:40.520Z"
   },
   {
    "duration": 26,
    "start_time": "2022-03-10T21:33:40.577Z"
   },
   {
    "duration": 14,
    "start_time": "2022-03-10T21:33:40.606Z"
   },
   {
    "duration": 46,
    "start_time": "2022-03-10T21:33:40.622Z"
   },
   {
    "duration": 23,
    "start_time": "2022-03-10T21:33:40.670Z"
   },
   {
    "duration": 5,
    "start_time": "2022-03-10T21:33:40.695Z"
   },
   {
    "duration": 304,
    "start_time": "2022-03-10T21:33:40.703Z"
   },
   {
    "duration": 15,
    "start_time": "2022-03-10T21:33:41.010Z"
   },
   {
    "duration": 28,
    "start_time": "2022-03-10T21:33:41.027Z"
   },
   {
    "duration": 20,
    "start_time": "2022-03-10T21:33:41.057Z"
   },
   {
    "duration": 25,
    "start_time": "2022-03-10T21:33:41.080Z"
   },
   {
    "duration": 55,
    "start_time": "2022-03-10T21:33:41.108Z"
   },
   {
    "duration": 25,
    "start_time": "2022-03-10T21:33:41.165Z"
   },
   {
    "duration": 389,
    "start_time": "2022-03-10T21:33:41.192Z"
   },
   {
    "duration": 279,
    "start_time": "2022-03-10T21:33:41.583Z"
   },
   {
    "duration": 560,
    "start_time": "2022-03-10T21:33:41.864Z"
   },
   {
    "duration": 883,
    "start_time": "2022-03-10T21:33:42.427Z"
   },
   {
    "duration": 549,
    "start_time": "2022-03-10T21:34:05.642Z"
   },
   {
    "duration": 538,
    "start_time": "2022-03-10T21:34:17.633Z"
   },
   {
    "duration": 564,
    "start_time": "2022-03-10T21:34:31.774Z"
   },
   {
    "duration": 653,
    "start_time": "2022-03-10T21:34:41.941Z"
   },
   {
    "duration": 555,
    "start_time": "2022-03-10T21:34:53.163Z"
   },
   {
    "duration": 536,
    "start_time": "2022-03-10T21:35:57.728Z"
   },
   {
    "duration": 557,
    "start_time": "2022-03-10T21:36:22.652Z"
   },
   {
    "duration": 538,
    "start_time": "2022-03-10T21:37:12.936Z"
   },
   {
    "duration": 548,
    "start_time": "2022-03-10T21:38:01.763Z"
   },
   {
    "duration": 552,
    "start_time": "2022-03-10T21:40:44.862Z"
   },
   {
    "duration": 4,
    "start_time": "2022-03-10T21:53:18.590Z"
   },
   {
    "duration": 54,
    "start_time": "2022-03-10T21:53:18.600Z"
   },
   {
    "duration": 21,
    "start_time": "2022-03-10T21:53:18.657Z"
   },
   {
    "duration": 13,
    "start_time": "2022-03-10T21:53:18.680Z"
   },
   {
    "duration": 57,
    "start_time": "2022-03-10T21:53:18.696Z"
   },
   {
    "duration": 24,
    "start_time": "2022-03-10T21:53:18.755Z"
   },
   {
    "duration": 4,
    "start_time": "2022-03-10T21:53:18.781Z"
   },
   {
    "duration": 300,
    "start_time": "2022-03-10T21:53:18.787Z"
   },
   {
    "duration": 16,
    "start_time": "2022-03-10T21:53:19.090Z"
   },
   {
    "duration": 44,
    "start_time": "2022-03-10T21:53:19.109Z"
   },
   {
    "duration": 21,
    "start_time": "2022-03-10T21:53:19.156Z"
   },
   {
    "duration": 23,
    "start_time": "2022-03-10T21:53:19.179Z"
   },
   {
    "duration": 82,
    "start_time": "2022-03-10T21:53:19.204Z"
   },
   {
    "duration": 22,
    "start_time": "2022-03-10T21:53:27.972Z"
   },
   {
    "duration": 21,
    "start_time": "2022-03-10T21:58:02.045Z"
   },
   {
    "duration": 22,
    "start_time": "2022-03-10T21:58:08.442Z"
   },
   {
    "duration": 22,
    "start_time": "2022-03-10T21:58:19.046Z"
   },
   {
    "duration": 26,
    "start_time": "2022-03-10T21:58:24.167Z"
   },
   {
    "duration": 19,
    "start_time": "2022-03-10T22:00:45.514Z"
   },
   {
    "duration": 5,
    "start_time": "2022-03-10T22:01:09.374Z"
   },
   {
    "duration": 7,
    "start_time": "2022-03-10T22:01:15.592Z"
   },
   {
    "duration": 6,
    "start_time": "2022-03-10T22:01:28.114Z"
   },
   {
    "duration": 18,
    "start_time": "2022-03-10T22:01:28.515Z"
   },
   {
    "duration": 26,
    "start_time": "2022-03-10T22:02:49.572Z"
   },
   {
    "duration": 21,
    "start_time": "2022-03-10T22:04:19.978Z"
   },
   {
    "duration": 88,
    "start_time": "2022-03-10T22:07:14.297Z"
   },
   {
    "duration": 27,
    "start_time": "2022-03-10T22:07:21.770Z"
   },
   {
    "duration": 24,
    "start_time": "2022-03-10T22:08:55.086Z"
   },
   {
    "duration": 1176,
    "start_time": "2022-03-11T11:32:06.755Z"
   },
   {
    "duration": 43,
    "start_time": "2022-03-11T11:32:07.933Z"
   },
   {
    "duration": 21,
    "start_time": "2022-03-11T11:32:07.979Z"
   },
   {
    "duration": 39,
    "start_time": "2022-03-11T11:32:08.002Z"
   },
   {
    "duration": 20,
    "start_time": "2022-03-11T11:32:08.043Z"
   },
   {
    "duration": 23,
    "start_time": "2022-03-11T11:32:08.065Z"
   },
   {
    "duration": 3,
    "start_time": "2022-03-11T11:32:08.091Z"
   },
   {
    "duration": 197,
    "start_time": "2022-03-11T11:32:08.097Z"
   },
   {
    "duration": 15,
    "start_time": "2022-03-11T11:32:08.296Z"
   },
   {
    "duration": 26,
    "start_time": "2022-03-11T11:32:08.313Z"
   },
   {
    "duration": 15,
    "start_time": "2022-03-11T11:32:08.341Z"
   },
   {
    "duration": 21,
    "start_time": "2022-03-11T11:32:08.358Z"
   },
   {
    "duration": 20,
    "start_time": "2022-03-11T11:32:08.381Z"
   },
   {
    "duration": 21,
    "start_time": "2022-03-11T11:32:08.441Z"
   },
   {
    "duration": 268,
    "start_time": "2022-03-11T11:32:08.464Z"
   },
   {
    "duration": 182,
    "start_time": "2022-03-11T11:32:08.738Z"
   },
   {
    "duration": 409,
    "start_time": "2022-03-11T11:32:08.922Z"
   },
   {
    "duration": 380,
    "start_time": "2022-03-11T11:32:09.333Z"
   },
   {
    "duration": 24,
    "start_time": "2022-03-11T11:32:09.715Z"
   },
   {
    "duration": 19,
    "start_time": "2022-03-11T11:32:20.643Z"
   },
   {
    "duration": 15,
    "start_time": "2022-03-11T11:32:45.568Z"
   },
   {
    "duration": 12,
    "start_time": "2022-03-11T11:39:32.818Z"
   },
   {
    "duration": 12,
    "start_time": "2022-03-11T11:39:39.266Z"
   },
   {
    "duration": 17,
    "start_time": "2022-03-11T11:39:59.288Z"
   },
   {
    "duration": 22,
    "start_time": "2022-03-11T11:40:36.137Z"
   },
   {
    "duration": 15,
    "start_time": "2022-03-11T11:40:51.466Z"
   },
   {
    "duration": 16,
    "start_time": "2022-03-11T11:42:22.069Z"
   },
   {
    "duration": 16,
    "start_time": "2022-03-11T11:43:45.689Z"
   },
   {
    "duration": 18,
    "start_time": "2022-03-11T11:44:04.897Z"
   },
   {
    "duration": 19,
    "start_time": "2022-03-11T11:44:13.452Z"
   },
   {
    "duration": 20,
    "start_time": "2022-03-11T11:44:19.044Z"
   },
   {
    "duration": 17,
    "start_time": "2022-03-11T11:44:21.891Z"
   },
   {
    "duration": 12,
    "start_time": "2022-03-11T11:49:18.172Z"
   },
   {
    "duration": 3,
    "start_time": "2022-03-11T11:49:20.992Z"
   },
   {
    "duration": 18,
    "start_time": "2022-03-11T11:49:22.460Z"
   },
   {
    "duration": 5,
    "start_time": "2022-03-11T11:53:57.659Z"
   },
   {
    "duration": 6,
    "start_time": "2022-03-11T11:54:08.658Z"
   },
   {
    "duration": 4,
    "start_time": "2022-03-11T11:54:27.206Z"
   },
   {
    "duration": 6,
    "start_time": "2022-03-11T11:55:31.578Z"
   },
   {
    "duration": 16,
    "start_time": "2022-03-11T12:02:10.422Z"
   },
   {
    "duration": 16,
    "start_time": "2022-03-11T12:02:12.590Z"
   },
   {
    "duration": 10,
    "start_time": "2022-03-11T12:08:45.597Z"
   },
   {
    "duration": 6,
    "start_time": "2022-03-11T12:08:48.062Z"
   },
   {
    "duration": 4,
    "start_time": "2022-03-11T12:08:48.352Z"
   },
   {
    "duration": 16,
    "start_time": "2022-03-11T12:08:48.630Z"
   },
   {
    "duration": 15,
    "start_time": "2022-03-11T12:09:00.471Z"
   },
   {
    "duration": 3,
    "start_time": "2022-03-11T12:09:16.916Z"
   },
   {
    "duration": 42,
    "start_time": "2022-03-11T12:09:16.926Z"
   },
   {
    "duration": 18,
    "start_time": "2022-03-11T12:09:16.969Z"
   },
   {
    "duration": 14,
    "start_time": "2022-03-11T12:09:16.989Z"
   },
   {
    "duration": 39,
    "start_time": "2022-03-11T12:09:17.005Z"
   },
   {
    "duration": 18,
    "start_time": "2022-03-11T12:09:17.046Z"
   },
   {
    "duration": 3,
    "start_time": "2022-03-11T12:09:17.067Z"
   },
   {
    "duration": 188,
    "start_time": "2022-03-11T12:09:17.072Z"
   },
   {
    "duration": 14,
    "start_time": "2022-03-11T12:09:17.262Z"
   },
   {
    "duration": 14,
    "start_time": "2022-03-11T12:09:17.278Z"
   },
   {
    "duration": 15,
    "start_time": "2022-03-11T12:09:17.294Z"
   },
   {
    "duration": 43,
    "start_time": "2022-03-11T12:09:17.311Z"
   },
   {
    "duration": 19,
    "start_time": "2022-03-11T12:09:17.356Z"
   },
   {
    "duration": 20,
    "start_time": "2022-03-11T12:09:17.377Z"
   },
   {
    "duration": 281,
    "start_time": "2022-03-11T12:09:17.400Z"
   },
   {
    "duration": 191,
    "start_time": "2022-03-11T12:09:17.683Z"
   },
   {
    "duration": 384,
    "start_time": "2022-03-11T12:09:17.877Z"
   },
   {
    "duration": 454,
    "start_time": "2022-03-11T12:09:18.263Z"
   },
   {
    "duration": 33,
    "start_time": "2022-03-11T12:09:18.719Z"
   },
   {
    "duration": 11,
    "start_time": "2022-03-11T12:09:18.754Z"
   },
   {
    "duration": 14,
    "start_time": "2022-03-11T12:09:18.766Z"
   },
   {
    "duration": 11,
    "start_time": "2022-03-11T12:10:32.376Z"
   },
   {
    "duration": 14,
    "start_time": "2022-03-11T12:10:33.035Z"
   },
   {
    "duration": 11,
    "start_time": "2022-03-11T12:15:25.682Z"
   },
   {
    "duration": 14,
    "start_time": "2022-03-11T12:15:27.760Z"
   },
   {
    "duration": 10,
    "start_time": "2022-03-11T12:15:54.116Z"
   },
   {
    "duration": 14,
    "start_time": "2022-03-11T12:15:54.577Z"
   },
   {
    "duration": 18,
    "start_time": "2022-03-11T12:31:48.278Z"
   },
   {
    "duration": 19,
    "start_time": "2022-03-11T12:32:30.958Z"
   },
   {
    "duration": 22,
    "start_time": "2022-03-11T12:33:40.476Z"
   },
   {
    "duration": 27,
    "start_time": "2022-03-11T12:35:35.795Z"
   },
   {
    "duration": 18,
    "start_time": "2022-03-11T12:35:57.238Z"
   },
   {
    "duration": 326,
    "start_time": "2022-03-11T12:42:33.517Z"
   },
   {
    "duration": 357,
    "start_time": "2022-03-11T12:43:34.461Z"
   },
   {
    "duration": 25,
    "start_time": "2022-03-11T12:46:25.476Z"
   },
   {
    "duration": 408,
    "start_time": "2022-03-11T12:46:27.176Z"
   },
   {
    "duration": 344,
    "start_time": "2022-03-11T12:51:03.766Z"
   },
   {
    "duration": 359,
    "start_time": "2022-03-11T12:52:08.378Z"
   },
   {
    "duration": 360,
    "start_time": "2022-03-11T12:52:25.997Z"
   },
   {
    "duration": 362,
    "start_time": "2022-03-11T12:53:00.166Z"
   },
   {
    "duration": 395,
    "start_time": "2022-03-11T12:54:38.524Z"
   },
   {
    "duration": 597,
    "start_time": "2022-03-11T12:55:23.668Z"
   },
   {
    "duration": 457,
    "start_time": "2022-03-11T12:55:46.786Z"
   },
   {
    "duration": 410,
    "start_time": "2022-03-11T12:57:47.123Z"
   },
   {
    "duration": 471,
    "start_time": "2022-03-11T12:58:02.420Z"
   },
   {
    "duration": 493,
    "start_time": "2022-03-11T12:59:30.211Z"
   },
   {
    "duration": 415,
    "start_time": "2022-03-11T12:59:36.679Z"
   },
   {
    "duration": 481,
    "start_time": "2022-03-11T12:59:46.352Z"
   },
   {
    "duration": 498,
    "start_time": "2022-03-11T12:59:59.603Z"
   },
   {
    "duration": 62,
    "start_time": "2022-03-11T13:03:04.769Z"
   },
   {
    "duration": 5,
    "start_time": "2022-03-11T13:03:08.635Z"
   },
   {
    "duration": 5,
    "start_time": "2022-03-11T13:03:18.245Z"
   },
   {
    "duration": 5,
    "start_time": "2022-03-11T13:03:28.114Z"
   },
   {
    "duration": 7,
    "start_time": "2022-03-11T13:03:32.131Z"
   },
   {
    "duration": 15,
    "start_time": "2022-03-11T13:04:13.124Z"
   },
   {
    "duration": 232,
    "start_time": "2022-03-11T13:05:24.236Z"
   },
   {
    "duration": 21,
    "start_time": "2022-03-11T13:05:43.061Z"
   },
   {
    "duration": 7,
    "start_time": "2022-03-11T13:06:00.797Z"
   },
   {
    "duration": 223,
    "start_time": "2022-03-11T13:08:29.146Z"
   },
   {
    "duration": 7,
    "start_time": "2022-03-11T13:08:34.756Z"
   },
   {
    "duration": 215,
    "start_time": "2022-03-11T13:08:56.748Z"
   },
   {
    "duration": 7,
    "start_time": "2022-03-11T13:09:06.357Z"
   },
   {
    "duration": 7,
    "start_time": "2022-03-11T13:09:39.741Z"
   },
   {
    "duration": 6,
    "start_time": "2022-03-11T13:10:00.683Z"
   },
   {
    "duration": 64,
    "start_time": "2022-03-11T13:11:01.968Z"
   },
   {
    "duration": 6,
    "start_time": "2022-03-11T13:27:53.482Z"
   },
   {
    "duration": 6,
    "start_time": "2022-03-11T13:28:40.539Z"
   },
   {
    "duration": 19,
    "start_time": "2022-03-11T13:29:17.726Z"
   },
   {
    "duration": 414,
    "start_time": "2022-03-11T13:29:18.792Z"
   },
   {
    "duration": 439,
    "start_time": "2022-03-11T13:29:44.099Z"
   },
   {
    "duration": 459,
    "start_time": "2022-03-11T13:30:41.429Z"
   },
   {
    "duration": 459,
    "start_time": "2022-03-11T13:30:50.057Z"
   },
   {
    "duration": 534,
    "start_time": "2022-03-11T13:31:41.148Z"
   },
   {
    "duration": 19,
    "start_time": "2022-03-11T13:32:43.121Z"
   },
   {
    "duration": 434,
    "start_time": "2022-03-11T13:32:43.651Z"
   },
   {
    "duration": 20,
    "start_time": "2022-03-11T13:33:09.980Z"
   },
   {
    "duration": 456,
    "start_time": "2022-03-11T13:33:10.669Z"
   },
   {
    "duration": 259,
    "start_time": "2022-03-12T08:18:54.543Z"
   },
   {
    "duration": 1256,
    "start_time": "2022-03-12T08:18:59.834Z"
   },
   {
    "duration": 50,
    "start_time": "2022-03-12T08:19:01.093Z"
   },
   {
    "duration": 21,
    "start_time": "2022-03-12T08:19:01.145Z"
   },
   {
    "duration": 22,
    "start_time": "2022-03-12T08:19:01.168Z"
   },
   {
    "duration": 30,
    "start_time": "2022-03-12T08:19:01.192Z"
   },
   {
    "duration": 19,
    "start_time": "2022-03-12T08:19:01.224Z"
   },
   {
    "duration": 18,
    "start_time": "2022-03-12T08:19:01.244Z"
   },
   {
    "duration": 184,
    "start_time": "2022-03-12T08:19:01.266Z"
   },
   {
    "duration": 13,
    "start_time": "2022-03-12T08:19:01.453Z"
   },
   {
    "duration": 42,
    "start_time": "2022-03-12T08:19:01.468Z"
   },
   {
    "duration": 20,
    "start_time": "2022-03-12T08:19:01.512Z"
   },
   {
    "duration": 28,
    "start_time": "2022-03-12T08:19:01.534Z"
   },
   {
    "duration": 39,
    "start_time": "2022-03-12T08:19:01.564Z"
   },
   {
    "duration": 39,
    "start_time": "2022-03-12T08:19:01.605Z"
   },
   {
    "duration": 268,
    "start_time": "2022-03-12T08:19:01.646Z"
   },
   {
    "duration": 191,
    "start_time": "2022-03-12T08:19:01.916Z"
   },
   {
    "duration": 392,
    "start_time": "2022-03-12T08:19:02.109Z"
   },
   {
    "duration": 398,
    "start_time": "2022-03-12T08:19:02.503Z"
   },
   {
    "duration": 22,
    "start_time": "2022-03-12T08:19:02.903Z"
   },
   {
    "duration": 24,
    "start_time": "2022-03-12T08:19:02.927Z"
   },
   {
    "duration": 40,
    "start_time": "2022-03-12T08:19:02.953Z"
   },
   {
    "duration": 465,
    "start_time": "2022-03-12T08:19:02.995Z"
   },
   {
    "duration": 7,
    "start_time": "2022-03-12T08:21:46.367Z"
   },
   {
    "duration": 5,
    "start_time": "2022-03-12T08:21:51.807Z"
   },
   {
    "duration": 5,
    "start_time": "2022-03-12T08:21:59.110Z"
   },
   {
    "duration": 20,
    "start_time": "2022-03-12T08:22:10.621Z"
   },
   {
    "duration": 479,
    "start_time": "2022-03-12T08:22:11.694Z"
   },
   {
    "duration": 19,
    "start_time": "2022-03-12T08:23:24.206Z"
   },
   {
    "duration": 433,
    "start_time": "2022-03-12T08:23:24.789Z"
   },
   {
    "duration": 491,
    "start_time": "2022-03-12T08:28:22.240Z"
   },
   {
    "duration": 406,
    "start_time": "2022-03-12T08:28:27.926Z"
   },
   {
    "duration": 14,
    "start_time": "2022-03-12T08:30:08.374Z"
   },
   {
    "duration": 6,
    "start_time": "2022-03-12T08:31:56.871Z"
   },
   {
    "duration": 71,
    "start_time": "2022-03-12T08:32:07.340Z"
   },
   {
    "duration": 10,
    "start_time": "2022-03-12T08:32:13.979Z"
   },
   {
    "duration": 362,
    "start_time": "2022-03-12T08:32:47.414Z"
   },
   {
    "duration": 229,
    "start_time": "2022-03-12T08:32:52.845Z"
   },
   {
    "duration": 14,
    "start_time": "2022-03-12T08:35:49.083Z"
   },
   {
    "duration": 23,
    "start_time": "2022-03-12T08:42:10.666Z"
   },
   {
    "duration": 364,
    "start_time": "2022-03-12T08:45:29.643Z"
   },
   {
    "duration": 370,
    "start_time": "2022-03-12T08:45:59.826Z"
   },
   {
    "duration": 373,
    "start_time": "2022-03-12T08:46:31.774Z"
   },
   {
    "duration": 370,
    "start_time": "2022-03-12T08:47:13.688Z"
   },
   {
    "duration": 527,
    "start_time": "2022-03-12T08:47:40.460Z"
   },
   {
    "duration": 380,
    "start_time": "2022-03-12T08:48:12.324Z"
   },
   {
    "duration": 362,
    "start_time": "2022-03-12T08:48:46.358Z"
   },
   {
    "duration": 22,
    "start_time": "2022-03-12T08:49:06.362Z"
   },
   {
    "duration": 12,
    "start_time": "2022-03-12T08:50:06.978Z"
   },
   {
    "duration": 337,
    "start_time": "2022-03-12T08:50:23.114Z"
   },
   {
    "duration": 347,
    "start_time": "2022-03-12T08:50:47.438Z"
   },
   {
    "duration": 437,
    "start_time": "2022-03-12T08:52:22.334Z"
   },
   {
    "duration": 336,
    "start_time": "2022-03-12T08:52:45.471Z"
   },
   {
    "duration": 13,
    "start_time": "2022-03-12T08:54:34.965Z"
   },
   {
    "duration": 231,
    "start_time": "2022-03-12T08:54:37.135Z"
   },
   {
    "duration": 247,
    "start_time": "2022-03-12T08:55:15.827Z"
   },
   {
    "duration": 5,
    "start_time": "2022-03-12T08:58:01.820Z"
   },
   {
    "duration": 5,
    "start_time": "2022-03-12T08:58:05.301Z"
   },
   {
    "duration": 8,
    "start_time": "2022-03-12T08:58:17.057Z"
   },
   {
    "duration": 8,
    "start_time": "2022-03-12T08:58:37.500Z"
   },
   {
    "duration": 9,
    "start_time": "2022-03-12T09:03:14.814Z"
   },
   {
    "duration": 8,
    "start_time": "2022-03-12T09:03:18.191Z"
   },
   {
    "duration": 10,
    "start_time": "2022-03-12T09:03:31.095Z"
   },
   {
    "duration": 8,
    "start_time": "2022-03-12T09:03:33.208Z"
   },
   {
    "duration": 10,
    "start_time": "2022-03-12T09:04:10.912Z"
   },
   {
    "duration": 9,
    "start_time": "2022-03-12T09:04:13.958Z"
   },
   {
    "duration": 241,
    "start_time": "2022-03-12T09:04:29.985Z"
   },
   {
    "duration": 234,
    "start_time": "2022-03-12T09:06:50.319Z"
   },
   {
    "duration": 249,
    "start_time": "2022-03-12T09:08:10.363Z"
   },
   {
    "duration": 223,
    "start_time": "2022-03-12T09:08:27.133Z"
   },
   {
    "duration": 230,
    "start_time": "2022-03-12T09:08:40.277Z"
   },
   {
    "duration": 234,
    "start_time": "2022-03-12T09:09:09.664Z"
   },
   {
    "duration": 230,
    "start_time": "2022-03-12T09:09:17.640Z"
   },
   {
    "duration": 307,
    "start_time": "2022-03-12T09:09:22.866Z"
   },
   {
    "duration": 249,
    "start_time": "2022-03-12T09:09:26.859Z"
   },
   {
    "duration": 246,
    "start_time": "2022-03-12T09:09:33.044Z"
   },
   {
    "duration": 274,
    "start_time": "2022-03-12T09:10:41.820Z"
   },
   {
    "duration": 255,
    "start_time": "2022-03-12T09:10:48.390Z"
   },
   {
    "duration": 68,
    "start_time": "2022-03-12T09:10:59.710Z"
   },
   {
    "duration": 254,
    "start_time": "2022-03-12T09:11:05.500Z"
   },
   {
    "duration": 248,
    "start_time": "2022-03-12T09:12:56.564Z"
   },
   {
    "duration": 343,
    "start_time": "2022-03-12T09:14:06.935Z"
   },
   {
    "duration": 358,
    "start_time": "2022-03-12T09:14:17.256Z"
   },
   {
    "duration": 370,
    "start_time": "2022-03-12T09:14:44.553Z"
   },
   {
    "duration": 368,
    "start_time": "2022-03-12T09:15:31.077Z"
   },
   {
    "duration": 388,
    "start_time": "2022-03-12T09:15:36.469Z"
   },
   {
    "duration": 304,
    "start_time": "2022-03-12T09:15:47.916Z"
   },
   {
    "duration": 298,
    "start_time": "2022-03-12T09:16:05.134Z"
   },
   {
    "duration": 296,
    "start_time": "2022-03-12T09:16:21.433Z"
   },
   {
    "duration": 285,
    "start_time": "2022-03-12T09:16:37.007Z"
   },
   {
    "duration": 289,
    "start_time": "2022-03-12T09:16:43.912Z"
   },
   {
    "duration": 287,
    "start_time": "2022-03-12T09:16:59.266Z"
   },
   {
    "duration": 294,
    "start_time": "2022-03-12T09:17:57.341Z"
   },
   {
    "duration": 300,
    "start_time": "2022-03-12T09:18:08.669Z"
   },
   {
    "duration": 7,
    "start_time": "2022-03-12T09:19:57.907Z"
   },
   {
    "duration": 338,
    "start_time": "2022-03-12T09:20:22.266Z"
   },
   {
    "duration": 358,
    "start_time": "2022-03-12T09:20:32.230Z"
   },
   {
    "duration": 393,
    "start_time": "2022-03-12T09:21:04.226Z"
   },
   {
    "duration": 324,
    "start_time": "2022-03-12T09:21:30.930Z"
   },
   {
    "duration": 263,
    "start_time": "2022-03-12T09:21:48.355Z"
   },
   {
    "duration": 275,
    "start_time": "2022-03-12T09:22:11.642Z"
   },
   {
    "duration": 277,
    "start_time": "2022-03-12T09:22:27.120Z"
   },
   {
    "duration": 246,
    "start_time": "2022-03-12T09:22:43.249Z"
   },
   {
    "duration": 251,
    "start_time": "2022-03-12T09:22:57.759Z"
   },
   {
    "duration": 18,
    "start_time": "2022-03-12T09:23:47.450Z"
   },
   {
    "duration": 7,
    "start_time": "2022-03-12T09:23:53.660Z"
   },
   {
    "duration": 24,
    "start_time": "2022-03-12T09:23:55.156Z"
   },
   {
    "duration": 431,
    "start_time": "2022-03-12T09:23:57.556Z"
   },
   {
    "duration": 23,
    "start_time": "2022-03-12T09:24:46.161Z"
   },
   {
    "duration": 319,
    "start_time": "2022-03-12T09:25:16.677Z"
   },
   {
    "duration": 283,
    "start_time": "2022-03-12T09:25:44.385Z"
   },
   {
    "duration": 318,
    "start_time": "2022-03-12T09:26:13.023Z"
   },
   {
    "duration": 359,
    "start_time": "2022-03-12T09:26:32.321Z"
   },
   {
    "duration": 279,
    "start_time": "2022-03-12T09:27:11.290Z"
   },
   {
    "duration": 293,
    "start_time": "2022-03-12T09:27:19.101Z"
   },
   {
    "duration": 410,
    "start_time": "2022-03-12T09:27:36.517Z"
   },
   {
    "duration": 422,
    "start_time": "2022-03-12T09:28:01.383Z"
   },
   {
    "duration": 14,
    "start_time": "2022-03-12T09:33:30.058Z"
   },
   {
    "duration": 197,
    "start_time": "2022-03-12T09:34:37.815Z"
   },
   {
    "duration": 197,
    "start_time": "2022-03-12T09:36:45.134Z"
   },
   {
    "duration": 201,
    "start_time": "2022-03-12T09:36:52.851Z"
   },
   {
    "duration": 392,
    "start_time": "2022-03-12T09:44:20.301Z"
   },
   {
    "duration": 276,
    "start_time": "2022-03-12T09:45:13.297Z"
   },
   {
    "duration": 315,
    "start_time": "2022-03-12T09:49:13.312Z"
   },
   {
    "duration": 290,
    "start_time": "2022-03-12T09:49:25.205Z"
   },
   {
    "duration": 287,
    "start_time": "2022-03-12T09:51:30.414Z"
   },
   {
    "duration": 283,
    "start_time": "2022-03-12T09:51:42.124Z"
   },
   {
    "duration": 273,
    "start_time": "2022-03-12T09:52:17.338Z"
   },
   {
    "duration": 273,
    "start_time": "2022-03-12T09:52:44.742Z"
   },
   {
    "duration": 293,
    "start_time": "2022-03-12T09:53:46.858Z"
   },
   {
    "duration": 291,
    "start_time": "2022-03-12T09:54:04.244Z"
   },
   {
    "duration": 305,
    "start_time": "2022-03-12T10:08:00.792Z"
   },
   {
    "duration": 501,
    "start_time": "2022-03-12T10:17:07.666Z"
   },
   {
    "duration": 510,
    "start_time": "2022-03-12T10:17:35.191Z"
   },
   {
    "duration": 600,
    "start_time": "2022-03-12T10:18:36.538Z"
   },
   {
    "duration": 555,
    "start_time": "2022-03-12T10:19:02.281Z"
   },
   {
    "duration": 542,
    "start_time": "2022-03-12T10:19:15.483Z"
   },
   {
    "duration": 621,
    "start_time": "2022-03-12T10:19:31.994Z"
   },
   {
    "duration": 532,
    "start_time": "2022-03-12T10:19:40.404Z"
   },
   {
    "duration": 76,
    "start_time": "2022-03-12T10:19:46.333Z"
   },
   {
    "duration": 561,
    "start_time": "2022-03-12T10:20:00.713Z"
   },
   {
    "duration": 506,
    "start_time": "2022-03-12T10:20:21.097Z"
   },
   {
    "duration": 317,
    "start_time": "2022-03-12T10:25:56.877Z"
   },
   {
    "duration": 295,
    "start_time": "2022-03-12T10:26:12.683Z"
   },
   {
    "duration": 312,
    "start_time": "2022-03-12T10:26:31.038Z"
   },
   {
    "duration": 23,
    "start_time": "2022-03-12T10:27:40.331Z"
   },
   {
    "duration": 8,
    "start_time": "2022-03-12T10:28:25.565Z"
   },
   {
    "duration": 350,
    "start_time": "2022-03-12T10:29:51.890Z"
   },
   {
    "duration": 16,
    "start_time": "2022-03-12T10:31:25.892Z"
   },
   {
    "duration": 20,
    "start_time": "2022-03-12T10:31:36.717Z"
   },
   {
    "duration": 23,
    "start_time": "2022-03-12T10:32:33.113Z"
   },
   {
    "duration": 27,
    "start_time": "2022-03-12T10:34:42.097Z"
   },
   {
    "duration": 9,
    "start_time": "2022-03-12T10:35:05.239Z"
   },
   {
    "duration": 394,
    "start_time": "2022-03-12T10:36:43.610Z"
   },
   {
    "duration": 502,
    "start_time": "2022-03-12T10:37:32.456Z"
   },
   {
    "duration": 284,
    "start_time": "2022-03-12T10:49:58.394Z"
   },
   {
    "duration": 286,
    "start_time": "2022-03-12T10:50:07.929Z"
   },
   {
    "duration": 386,
    "start_time": "2022-03-12T10:51:55.885Z"
   },
   {
    "duration": 364,
    "start_time": "2022-03-12T10:52:46.081Z"
   },
   {
    "duration": 399,
    "start_time": "2022-03-12T10:53:11.402Z"
   },
   {
    "duration": 357,
    "start_time": "2022-03-12T10:53:39.322Z"
   },
   {
    "duration": 388,
    "start_time": "2022-03-12T10:54:44.798Z"
   },
   {
    "duration": 377,
    "start_time": "2022-03-12T10:55:09.696Z"
   },
   {
    "duration": 364,
    "start_time": "2022-03-12T10:55:22.218Z"
   },
   {
    "duration": 489,
    "start_time": "2022-03-12T10:55:32.725Z"
   },
   {
    "duration": 364,
    "start_time": "2022-03-12T10:55:48.776Z"
   },
   {
    "duration": 368,
    "start_time": "2022-03-12T10:56:53.478Z"
   },
   {
    "duration": 212,
    "start_time": "2022-03-12T12:54:25.220Z"
   },
   {
    "duration": 16,
    "start_time": "2022-03-12T12:54:27.967Z"
   },
   {
    "duration": 232,
    "start_time": "2022-03-12T12:57:28.516Z"
   },
   {
    "duration": 35,
    "start_time": "2022-03-12T12:57:35.951Z"
   },
   {
    "duration": 3,
    "start_time": "2022-03-12T12:58:40.067Z"
   },
   {
    "duration": 55,
    "start_time": "2022-03-12T12:58:40.075Z"
   },
   {
    "duration": 18,
    "start_time": "2022-03-12T12:58:40.132Z"
   },
   {
    "duration": 12,
    "start_time": "2022-03-12T12:58:40.152Z"
   },
   {
    "duration": 45,
    "start_time": "2022-03-12T12:58:40.167Z"
   },
   {
    "duration": 20,
    "start_time": "2022-03-12T12:58:40.214Z"
   },
   {
    "duration": 4,
    "start_time": "2022-03-12T12:58:40.237Z"
   },
   {
    "duration": 220,
    "start_time": "2022-03-12T12:58:40.242Z"
   },
   {
    "duration": 13,
    "start_time": "2022-03-12T12:58:40.465Z"
   },
   {
    "duration": 28,
    "start_time": "2022-03-12T12:58:40.480Z"
   },
   {
    "duration": 15,
    "start_time": "2022-03-12T12:58:40.510Z"
   },
   {
    "duration": 24,
    "start_time": "2022-03-12T12:58:40.527Z"
   },
   {
    "duration": 18,
    "start_time": "2022-03-12T12:58:40.553Z"
   },
   {
    "duration": 47,
    "start_time": "2022-03-12T12:58:40.573Z"
   },
   {
    "duration": 8,
    "start_time": "2022-03-12T12:58:40.623Z"
   },
   {
    "duration": 12,
    "start_time": "2022-03-12T12:58:40.634Z"
   },
   {
    "duration": 330,
    "start_time": "2022-03-12T12:58:40.648Z"
   },
   {
    "duration": 211,
    "start_time": "2022-03-12T12:58:40.980Z"
   },
   {
    "duration": 346,
    "start_time": "2022-03-12T12:58:41.193Z"
   },
   {
    "duration": 298,
    "start_time": "2022-03-12T12:58:41.541Z"
   },
   {
    "duration": 18,
    "start_time": "2022-03-12T12:58:41.842Z"
   },
   {
    "duration": 9,
    "start_time": "2022-03-12T12:58:41.862Z"
   },
   {
    "duration": 55,
    "start_time": "2022-03-12T12:58:41.873Z"
   },
   {
    "duration": 556,
    "start_time": "2022-03-12T12:58:41.932Z"
   },
   {
    "duration": 301,
    "start_time": "2022-03-12T12:58:42.490Z"
   },
   {
    "duration": 396,
    "start_time": "2022-03-12T12:58:42.793Z"
   },
   {
    "duration": 42,
    "start_time": "2022-03-12T12:58:43.190Z"
   },
   {
    "duration": 17,
    "start_time": "2022-03-12T12:58:43.233Z"
   },
   {
    "duration": 1083,
    "start_time": "2022-03-12T13:03:27.519Z"
   },
   {
    "duration": 17,
    "start_time": "2022-03-12T13:03:28.950Z"
   },
   {
    "duration": 32,
    "start_time": "2022-03-12T13:03:35.925Z"
   },
   {
    "duration": 34,
    "start_time": "2022-03-12T13:03:42.640Z"
   },
   {
    "duration": 16,
    "start_time": "2022-03-12T13:03:49.744Z"
   },
   {
    "duration": 28,
    "start_time": "2022-03-12T13:04:02.575Z"
   },
   {
    "duration": 18,
    "start_time": "2022-03-12T13:06:35.004Z"
   },
   {
    "duration": 216,
    "start_time": "2022-03-12T13:06:51.899Z"
   },
   {
    "duration": 15,
    "start_time": "2022-03-12T13:07:00.729Z"
   },
   {
    "duration": 14,
    "start_time": "2022-03-12T13:07:16.034Z"
   },
   {
    "duration": 15,
    "start_time": "2022-03-12T13:07:25.577Z"
   },
   {
    "duration": 86,
    "start_time": "2022-03-12T14:35:34.850Z"
   },
   {
    "duration": 475,
    "start_time": "2022-03-12T14:35:50.927Z"
   },
   {
    "duration": 13,
    "start_time": "2022-03-12T14:36:33.157Z"
   },
   {
    "duration": 926,
    "start_time": "2022-03-12T14:38:32.103Z"
   },
   {
    "duration": 1003,
    "start_time": "2022-03-12T14:39:55.274Z"
   },
   {
    "duration": 13,
    "start_time": "2022-03-12T15:00:04.696Z"
   },
   {
    "duration": 273,
    "start_time": "2022-03-12T15:00:12.218Z"
   },
   {
    "duration": 10,
    "start_time": "2022-03-12T15:00:24.296Z"
   },
   {
    "duration": 14,
    "start_time": "2022-03-12T15:00:31.170Z"
   },
   {
    "duration": 85,
    "start_time": "2022-03-12T15:01:24.473Z"
   },
   {
    "duration": 91,
    "start_time": "2022-03-12T15:01:34.665Z"
   },
   {
    "duration": 18,
    "start_time": "2022-03-12T15:03:18.101Z"
   },
   {
    "duration": 13,
    "start_time": "2022-03-12T15:04:08.607Z"
   },
   {
    "duration": 16,
    "start_time": "2022-03-12T15:04:30.376Z"
   },
   {
    "duration": 215,
    "start_time": "2022-03-12T15:04:40.698Z"
   },
   {
    "duration": 5,
    "start_time": "2022-03-12T15:04:47.060Z"
   },
   {
    "duration": 227,
    "start_time": "2022-03-12T15:06:46.688Z"
   },
   {
    "duration": 215,
    "start_time": "2022-03-12T15:07:12.986Z"
   },
   {
    "duration": 6,
    "start_time": "2022-03-12T15:07:32.236Z"
   },
   {
    "duration": 9,
    "start_time": "2022-03-12T15:07:52.103Z"
   },
   {
    "duration": 14,
    "start_time": "2022-03-12T15:09:23.742Z"
   },
   {
    "duration": 13,
    "start_time": "2022-03-12T15:09:35.870Z"
   },
   {
    "duration": 19,
    "start_time": "2022-03-12T15:12:30.097Z"
   },
   {
    "duration": 16,
    "start_time": "2022-03-12T15:13:01.544Z"
   },
   {
    "duration": 14,
    "start_time": "2022-03-12T15:13:50.797Z"
   },
   {
    "duration": 18,
    "start_time": "2022-03-12T15:15:24.858Z"
   },
   {
    "duration": 17,
    "start_time": "2022-03-12T15:16:08.905Z"
   },
   {
    "duration": 16,
    "start_time": "2022-03-12T15:16:23.737Z"
   },
   {
    "duration": 13,
    "start_time": "2022-03-12T15:16:27.988Z"
   },
   {
    "duration": 16,
    "start_time": "2022-03-12T15:16:49.114Z"
   },
   {
    "duration": 283,
    "start_time": "2022-03-12T20:38:17.187Z"
   },
   {
    "duration": 1623,
    "start_time": "2022-03-12T20:38:22.227Z"
   },
   {
    "duration": 56,
    "start_time": "2022-03-12T20:38:23.853Z"
   },
   {
    "duration": 28,
    "start_time": "2022-03-12T20:38:23.912Z"
   },
   {
    "duration": 16,
    "start_time": "2022-03-12T20:38:23.943Z"
   },
   {
    "duration": 46,
    "start_time": "2022-03-12T20:38:23.962Z"
   },
   {
    "duration": 23,
    "start_time": "2022-03-12T20:38:24.011Z"
   },
   {
    "duration": 9,
    "start_time": "2022-03-12T20:38:24.037Z"
   },
   {
    "duration": 305,
    "start_time": "2022-03-12T20:38:24.050Z"
   },
   {
    "duration": 30,
    "start_time": "2022-03-12T20:38:24.358Z"
   },
   {
    "duration": 21,
    "start_time": "2022-03-12T20:38:24.391Z"
   },
   {
    "duration": 24,
    "start_time": "2022-03-12T20:38:24.415Z"
   },
   {
    "duration": 53,
    "start_time": "2022-03-12T20:38:24.442Z"
   },
   {
    "duration": 24,
    "start_time": "2022-03-12T20:38:24.498Z"
   },
   {
    "duration": 26,
    "start_time": "2022-03-12T20:38:24.525Z"
   },
   {
    "duration": 42,
    "start_time": "2022-03-12T20:38:24.553Z"
   },
   {
    "duration": 18,
    "start_time": "2022-03-12T20:38:24.598Z"
   },
   {
    "duration": 411,
    "start_time": "2022-03-12T20:38:24.618Z"
   },
   {
    "duration": 397,
    "start_time": "2022-03-12T20:38:25.031Z"
   },
   {
    "duration": 453,
    "start_time": "2022-03-12T20:38:25.430Z"
   },
   {
    "duration": 390,
    "start_time": "2022-03-12T20:38:25.887Z"
   },
   {
    "duration": 33,
    "start_time": "2022-03-12T20:38:26.279Z"
   },
   {
    "duration": 9,
    "start_time": "2022-03-12T20:38:26.315Z"
   },
   {
    "duration": 65,
    "start_time": "2022-03-12T20:38:26.331Z"
   },
   {
    "duration": 606,
    "start_time": "2022-03-12T20:38:26.399Z"
   },
   {
    "duration": 452,
    "start_time": "2022-03-12T20:38:27.007Z"
   },
   {
    "duration": 587,
    "start_time": "2022-03-12T20:38:27.461Z"
   },
   {
    "duration": 59,
    "start_time": "2022-03-12T20:38:28.050Z"
   },
   {
    "duration": 33,
    "start_time": "2022-03-12T20:38:28.113Z"
   },
   {
    "duration": 329,
    "start_time": "2022-03-12T20:40:58.509Z"
   },
   {
    "duration": 260,
    "start_time": "2022-03-12T20:41:10.368Z"
   },
   {
    "duration": 380,
    "start_time": "2022-03-12T20:41:14.505Z"
   },
   {
    "duration": 25,
    "start_time": "2022-03-12T20:41:20.846Z"
   },
   {
    "duration": 242,
    "start_time": "2022-03-12T20:42:27.652Z"
   },
   {
    "duration": 23,
    "start_time": "2022-03-12T20:42:55.976Z"
   },
   {
    "duration": 573,
    "start_time": "2022-03-12T20:43:00.522Z"
   },
   {
    "duration": 588,
    "start_time": "2022-03-12T20:43:30.590Z"
   },
   {
    "duration": 710,
    "start_time": "2022-03-12T20:44:31.316Z"
   },
   {
    "duration": 861,
    "start_time": "2022-03-12T20:44:51.119Z"
   },
   {
    "duration": 4,
    "start_time": "2022-03-12T20:46:40.767Z"
   },
   {
    "duration": 7,
    "start_time": "2022-03-12T20:46:47.195Z"
   },
   {
    "duration": 6,
    "start_time": "2022-03-12T20:46:58.071Z"
   },
   {
    "duration": 7,
    "start_time": "2022-03-12T20:47:27.670Z"
   },
   {
    "duration": 906,
    "start_time": "2022-03-12T20:47:46.142Z"
   },
   {
    "duration": 16,
    "start_time": "2022-03-12T20:48:19.898Z"
   },
   {
    "duration": 5,
    "start_time": "2022-03-12T20:48:27.696Z"
   },
   {
    "duration": 6,
    "start_time": "2022-03-12T20:48:36.609Z"
   },
   {
    "duration": 18,
    "start_time": "2022-03-12T20:48:40.375Z"
   },
   {
    "duration": 6,
    "start_time": "2022-03-12T20:48:48.906Z"
   },
   {
    "duration": 12,
    "start_time": "2022-03-12T20:48:52.157Z"
   },
   {
    "duration": 12,
    "start_time": "2022-03-12T20:48:54.177Z"
   },
   {
    "duration": 6,
    "start_time": "2022-03-12T20:49:12.906Z"
   },
   {
    "duration": 22,
    "start_time": "2022-03-12T20:49:22.516Z"
   },
   {
    "duration": 792,
    "start_time": "2022-03-12T20:49:58.938Z"
   },
   {
    "duration": 23,
    "start_time": "2022-03-12T20:50:15.428Z"
   },
   {
    "duration": 18,
    "start_time": "2022-03-12T20:51:39.491Z"
   },
   {
    "duration": 20,
    "start_time": "2022-03-12T20:52:18.458Z"
   },
   {
    "duration": 21,
    "start_time": "2022-03-12T20:52:34.248Z"
   },
   {
    "duration": 22,
    "start_time": "2022-03-12T20:53:30.261Z"
   },
   {
    "duration": 881,
    "start_time": "2022-03-12T20:54:17.131Z"
   },
   {
    "duration": 987,
    "start_time": "2022-03-12T20:56:02.726Z"
   },
   {
    "duration": 1312,
    "start_time": "2022-03-12T20:56:18.549Z"
   },
   {
    "duration": 1321,
    "start_time": "2022-03-12T20:56:29.972Z"
   },
   {
    "duration": 736,
    "start_time": "2022-03-12T20:59:43.944Z"
   },
   {
    "duration": 860,
    "start_time": "2022-03-12T21:00:04.645Z"
   },
   {
    "duration": 773,
    "start_time": "2022-03-12T21:00:20.866Z"
   },
   {
    "duration": 1078,
    "start_time": "2022-03-12T21:02:29.209Z"
   },
   {
    "duration": 1108,
    "start_time": "2022-03-12T21:04:12.118Z"
   },
   {
    "duration": 906,
    "start_time": "2022-03-12T21:17:43.160Z"
   },
   {
    "duration": 764,
    "start_time": "2022-03-12T21:17:44.069Z"
   },
   {
    "duration": 785,
    "start_time": "2022-03-12T21:18:48.491Z"
   },
   {
    "duration": 18,
    "start_time": "2022-03-12T21:21:11.187Z"
   },
   {
    "duration": 12,
    "start_time": "2022-03-12T21:21:26.978Z"
   },
   {
    "duration": 18,
    "start_time": "2022-03-12T21:37:59.282Z"
   },
   {
    "duration": 20,
    "start_time": "2022-03-12T21:38:47.202Z"
   },
   {
    "duration": 15,
    "start_time": "2022-03-12T21:41:37.403Z"
   },
   {
    "duration": 16,
    "start_time": "2022-03-12T21:41:43.197Z"
   },
   {
    "duration": 15,
    "start_time": "2022-03-12T21:43:43.900Z"
   },
   {
    "duration": 18,
    "start_time": "2022-03-12T21:43:57.220Z"
   },
   {
    "duration": 19,
    "start_time": "2022-03-12T21:44:03.597Z"
   },
   {
    "duration": 21,
    "start_time": "2022-03-12T21:44:22.571Z"
   },
   {
    "duration": 22,
    "start_time": "2022-03-12T21:44:48.795Z"
   },
   {
    "duration": 19,
    "start_time": "2022-03-12T21:45:45.224Z"
   },
   {
    "duration": 20,
    "start_time": "2022-03-12T21:46:15.520Z"
   },
   {
    "duration": 17,
    "start_time": "2022-03-12T21:49:14.636Z"
   },
   {
    "duration": 13,
    "start_time": "2022-03-12T21:50:04.255Z"
   },
   {
    "duration": 14,
    "start_time": "2022-03-12T21:50:10.099Z"
   },
   {
    "duration": 10,
    "start_time": "2022-03-12T21:50:32.960Z"
   },
   {
    "duration": 18,
    "start_time": "2022-03-12T21:50:37.952Z"
   },
   {
    "duration": 21,
    "start_time": "2022-03-12T21:50:58.521Z"
   },
   {
    "duration": 12,
    "start_time": "2022-03-12T21:51:05.671Z"
   },
   {
    "duration": 12,
    "start_time": "2022-03-12T21:51:48.996Z"
   },
   {
    "duration": 98,
    "start_time": "2022-03-12T21:52:13.468Z"
   },
   {
    "duration": 14,
    "start_time": "2022-03-12T21:52:18.583Z"
   },
   {
    "duration": 13,
    "start_time": "2022-03-12T21:52:27.020Z"
   },
   {
    "duration": 24,
    "start_time": "2022-03-12T21:55:05.476Z"
   },
   {
    "duration": 7,
    "start_time": "2022-03-12T21:59:27.747Z"
   },
   {
    "duration": 12,
    "start_time": "2022-03-12T21:59:32.819Z"
   },
   {
    "duration": 554,
    "start_time": "2022-03-12T22:00:21.899Z"
   },
   {
    "duration": 8,
    "start_time": "2022-03-12T22:01:37.679Z"
   },
   {
    "duration": 235,
    "start_time": "2022-03-12T22:01:42.592Z"
   },
   {
    "duration": 240,
    "start_time": "2022-03-12T22:01:54.480Z"
   },
   {
    "duration": 4,
    "start_time": "2022-03-12T22:02:06.999Z"
   },
   {
    "duration": 64,
    "start_time": "2022-03-12T22:02:07.008Z"
   },
   {
    "duration": 21,
    "start_time": "2022-03-12T22:02:07.075Z"
   },
   {
    "duration": 20,
    "start_time": "2022-03-12T22:02:07.099Z"
   },
   {
    "duration": 23,
    "start_time": "2022-03-12T22:02:07.122Z"
   },
   {
    "duration": 57,
    "start_time": "2022-03-12T22:02:07.148Z"
   },
   {
    "duration": 4,
    "start_time": "2022-03-12T22:02:07.207Z"
   },
   {
    "duration": 320,
    "start_time": "2022-03-12T22:02:07.213Z"
   },
   {
    "duration": 16,
    "start_time": "2022-03-12T22:02:07.536Z"
   },
   {
    "duration": 36,
    "start_time": "2022-03-12T22:02:07.555Z"
   },
   {
    "duration": 32,
    "start_time": "2022-03-12T22:02:07.593Z"
   },
   {
    "duration": 33,
    "start_time": "2022-03-12T22:02:07.627Z"
   },
   {
    "duration": 28,
    "start_time": "2022-03-12T22:02:07.663Z"
   },
   {
    "duration": 25,
    "start_time": "2022-03-12T22:02:07.693Z"
   },
   {
    "duration": 8,
    "start_time": "2022-03-12T22:02:07.721Z"
   },
   {
    "duration": 24,
    "start_time": "2022-03-12T22:02:07.731Z"
   },
   {
    "duration": 459,
    "start_time": "2022-03-12T22:02:07.758Z"
   },
   {
    "duration": 307,
    "start_time": "2022-03-12T22:02:08.219Z"
   },
   {
    "duration": 520,
    "start_time": "2022-03-12T22:02:08.528Z"
   },
   {
    "duration": 448,
    "start_time": "2022-03-12T22:02:09.050Z"
   },
   {
    "duration": 25,
    "start_time": "2022-03-12T22:02:09.500Z"
   },
   {
    "duration": 7,
    "start_time": "2022-03-12T22:02:09.527Z"
   },
   {
    "duration": 64,
    "start_time": "2022-03-12T22:02:09.536Z"
   },
   {
    "duration": 840,
    "start_time": "2022-03-12T22:02:09.605Z"
   },
   {
    "duration": 459,
    "start_time": "2022-03-12T22:02:10.447Z"
   },
   {
    "duration": 688,
    "start_time": "2022-03-12T22:02:10.909Z"
   },
   {
    "duration": 36,
    "start_time": "2022-03-12T22:02:11.599Z"
   },
   {
    "duration": 58,
    "start_time": "2022-03-12T22:02:11.638Z"
   },
   {
    "duration": 601,
    "start_time": "2022-03-12T22:02:11.698Z"
   },
   {
    "duration": 1178,
    "start_time": "2022-03-12T22:02:12.301Z"
   },
   {
    "duration": 796,
    "start_time": "2022-03-12T22:02:13.482Z"
   },
   {
    "duration": 17,
    "start_time": "2022-03-12T22:02:14.280Z"
   },
   {
    "duration": 14,
    "start_time": "2022-03-12T22:02:14.299Z"
   },
   {
    "duration": 10,
    "start_time": "2022-03-12T22:02:14.315Z"
   },
   {
    "duration": 13,
    "start_time": "2022-03-12T22:02:14.327Z"
   },
   {
    "duration": 23,
    "start_time": "2022-03-12T22:02:37.382Z"
   },
   {
    "duration": 24,
    "start_time": "2022-03-12T22:03:22.705Z"
   },
   {
    "duration": 19,
    "start_time": "2022-03-12T22:03:38.323Z"
   },
   {
    "duration": 13,
    "start_time": "2022-03-12T22:04:37.756Z"
   },
   {
    "duration": 13,
    "start_time": "2022-03-12T22:04:48.243Z"
   },
   {
    "duration": 15,
    "start_time": "2022-03-12T22:05:10.868Z"
   },
   {
    "duration": 14,
    "start_time": "2022-03-12T22:06:39.956Z"
   },
   {
    "duration": 1467,
    "start_time": "2022-03-13T05:47:18.784Z"
   },
   {
    "duration": 53,
    "start_time": "2022-03-13T05:47:20.254Z"
   },
   {
    "duration": 26,
    "start_time": "2022-03-13T05:47:20.310Z"
   },
   {
    "duration": 15,
    "start_time": "2022-03-13T05:47:20.339Z"
   },
   {
    "duration": 48,
    "start_time": "2022-03-13T05:47:20.356Z"
   },
   {
    "duration": 22,
    "start_time": "2022-03-13T05:47:20.406Z"
   },
   {
    "duration": 10,
    "start_time": "2022-03-13T05:47:20.430Z"
   },
   {
    "duration": 305,
    "start_time": "2022-03-13T05:47:20.442Z"
   },
   {
    "duration": 16,
    "start_time": "2022-03-13T05:47:20.751Z"
   },
   {
    "duration": 29,
    "start_time": "2022-03-13T05:47:20.770Z"
   },
   {
    "duration": 19,
    "start_time": "2022-03-13T05:47:20.802Z"
   },
   {
    "duration": 36,
    "start_time": "2022-03-13T05:47:20.824Z"
   },
   {
    "duration": 41,
    "start_time": "2022-03-13T05:47:20.863Z"
   },
   {
    "duration": 26,
    "start_time": "2022-03-13T05:47:20.907Z"
   },
   {
    "duration": 9,
    "start_time": "2022-03-13T05:47:20.936Z"
   },
   {
    "duration": 46,
    "start_time": "2022-03-13T05:47:20.947Z"
   },
   {
    "duration": 398,
    "start_time": "2022-03-13T05:47:20.996Z"
   },
   {
    "duration": 277,
    "start_time": "2022-03-13T05:47:21.398Z"
   },
   {
    "duration": 452,
    "start_time": "2022-03-13T05:47:21.677Z"
   },
   {
    "duration": 397,
    "start_time": "2022-03-13T05:47:22.132Z"
   },
   {
    "duration": 23,
    "start_time": "2022-03-13T05:47:22.531Z"
   },
   {
    "duration": 31,
    "start_time": "2022-03-13T05:47:22.556Z"
   },
   {
    "duration": 29,
    "start_time": "2022-03-13T05:47:22.590Z"
   },
   {
    "duration": 653,
    "start_time": "2022-03-13T05:47:22.621Z"
   },
   {
    "duration": 468,
    "start_time": "2022-03-13T05:47:23.276Z"
   },
   {
    "duration": 604,
    "start_time": "2022-03-13T05:47:23.746Z"
   },
   {
    "duration": 48,
    "start_time": "2022-03-13T05:47:24.357Z"
   },
   {
    "duration": 38,
    "start_time": "2022-03-13T05:47:24.408Z"
   },
   {
    "duration": 666,
    "start_time": "2022-03-13T05:47:24.448Z"
   },
   {
    "duration": 1318,
    "start_time": "2022-03-13T05:47:25.116Z"
   },
   {
    "duration": 758,
    "start_time": "2022-03-13T05:47:26.436Z"
   },
   {
    "duration": 15,
    "start_time": "2022-03-13T05:48:39.228Z"
   },
   {
    "duration": 12,
    "start_time": "2022-03-13T05:48:40.896Z"
   },
   {
    "duration": 13,
    "start_time": "2022-03-13T05:49:50.708Z"
   },
   {
    "duration": 22,
    "start_time": "2022-03-13T05:50:21.628Z"
   },
   {
    "duration": 9,
    "start_time": "2022-03-13T05:52:52.854Z"
   },
   {
    "duration": 20,
    "start_time": "2022-03-13T05:53:35.052Z"
   },
   {
    "duration": 16,
    "start_time": "2022-03-13T05:57:54.311Z"
   },
   {
    "duration": 14,
    "start_time": "2022-03-13T05:58:35.590Z"
   },
   {
    "duration": 12,
    "start_time": "2022-03-13T06:00:33.810Z"
   },
   {
    "duration": 17,
    "start_time": "2022-03-13T06:01:16.269Z"
   },
   {
    "duration": 14,
    "start_time": "2022-03-13T06:02:14.341Z"
   },
   {
    "duration": 15,
    "start_time": "2022-03-13T06:03:34.338Z"
   },
   {
    "duration": 6,
    "start_time": "2022-03-13T06:03:47.698Z"
   },
   {
    "duration": 16,
    "start_time": "2022-03-13T06:03:50.870Z"
   },
   {
    "duration": 18,
    "start_time": "2022-03-13T06:04:50.862Z"
   },
   {
    "duration": 14,
    "start_time": "2022-03-13T06:05:32.515Z"
   },
   {
    "duration": 19,
    "start_time": "2022-03-13T06:11:28.969Z"
   },
   {
    "duration": 15,
    "start_time": "2022-03-13T06:11:59.753Z"
   },
   {
    "duration": 624,
    "start_time": "2022-03-13T06:17:44.989Z"
   },
   {
    "duration": 91,
    "start_time": "2022-03-13T06:19:42.409Z"
   },
   {
    "duration": 7765,
    "start_time": "2022-03-13T06:23:26.569Z"
   },
   {
    "duration": 453,
    "start_time": "2022-03-13T06:24:01.322Z"
   },
   {
    "duration": 324,
    "start_time": "2022-03-13T06:25:16.446Z"
   },
   {
    "duration": 305,
    "start_time": "2022-03-13T06:25:47.689Z"
   },
   {
    "duration": 92,
    "start_time": "2022-03-13T06:26:02.006Z"
   },
   {
    "duration": 412,
    "start_time": "2022-03-13T06:27:16.349Z"
   },
   {
    "duration": 15,
    "start_time": "2022-03-13T06:27:29.349Z"
   },
   {
    "duration": 305,
    "start_time": "2022-03-13T07:21:04.568Z"
   },
   {
    "duration": 1446,
    "start_time": "2022-03-13T07:21:11.699Z"
   },
   {
    "duration": 51,
    "start_time": "2022-03-13T07:21:13.147Z"
   },
   {
    "duration": 25,
    "start_time": "2022-03-13T07:21:13.201Z"
   },
   {
    "duration": 14,
    "start_time": "2022-03-13T07:21:13.229Z"
   },
   {
    "duration": 55,
    "start_time": "2022-03-13T07:21:13.246Z"
   },
   {
    "duration": 24,
    "start_time": "2022-03-13T07:21:13.303Z"
   },
   {
    "duration": 5,
    "start_time": "2022-03-13T07:21:13.329Z"
   },
   {
    "duration": 299,
    "start_time": "2022-03-13T07:21:13.338Z"
   },
   {
    "duration": 16,
    "start_time": "2022-03-13T07:21:13.641Z"
   },
   {
    "duration": 32,
    "start_time": "2022-03-13T07:21:13.660Z"
   },
   {
    "duration": 21,
    "start_time": "2022-03-13T07:21:13.695Z"
   },
   {
    "duration": 25,
    "start_time": "2022-03-13T07:21:13.719Z"
   },
   {
    "duration": 57,
    "start_time": "2022-03-13T07:21:13.746Z"
   },
   {
    "duration": 24,
    "start_time": "2022-03-13T07:21:13.805Z"
   },
   {
    "duration": 9,
    "start_time": "2022-03-13T07:21:13.831Z"
   },
   {
    "duration": 46,
    "start_time": "2022-03-13T07:21:13.842Z"
   },
   {
    "duration": 395,
    "start_time": "2022-03-13T07:21:13.890Z"
   },
   {
    "duration": 266,
    "start_time": "2022-03-13T07:21:14.287Z"
   },
   {
    "duration": 469,
    "start_time": "2022-03-13T07:21:14.555Z"
   },
   {
    "duration": 394,
    "start_time": "2022-03-13T07:21:15.026Z"
   },
   {
    "duration": 25,
    "start_time": "2022-03-13T07:21:15.422Z"
   },
   {
    "duration": 6,
    "start_time": "2022-03-13T07:21:15.450Z"
   },
   {
    "duration": 31,
    "start_time": "2022-03-13T07:21:15.489Z"
   },
   {
    "duration": 653,
    "start_time": "2022-03-13T07:21:15.523Z"
   },
   {
    "duration": 465,
    "start_time": "2022-03-13T07:21:16.179Z"
   },
   {
    "duration": 673,
    "start_time": "2022-03-13T07:21:16.646Z"
   },
   {
    "duration": 37,
    "start_time": "2022-03-13T07:21:17.321Z"
   },
   {
    "duration": 52,
    "start_time": "2022-03-13T07:21:17.361Z"
   },
   {
    "duration": 681,
    "start_time": "2022-03-13T07:21:17.415Z"
   },
   {
    "duration": 1330,
    "start_time": "2022-03-13T07:21:18.098Z"
   },
   {
    "duration": 366,
    "start_time": "2022-03-13T07:21:19.431Z"
   },
   {
    "duration": -1549,
    "start_time": "2022-03-13T07:21:21.348Z"
   },
   {
    "duration": -1558,
    "start_time": "2022-03-13T07:21:21.358Z"
   },
   {
    "duration": -1569,
    "start_time": "2022-03-13T07:21:21.371Z"
   },
   {
    "duration": -1577,
    "start_time": "2022-03-13T07:21:21.380Z"
   },
   {
    "duration": 768,
    "start_time": "2022-03-13T07:22:13.096Z"
   },
   {
    "duration": 17,
    "start_time": "2022-03-13T07:22:20.347Z"
   },
   {
    "duration": 3,
    "start_time": "2022-03-13T07:23:18.180Z"
   },
   {
    "duration": 58,
    "start_time": "2022-03-13T07:23:18.190Z"
   },
   {
    "duration": 39,
    "start_time": "2022-03-13T07:23:18.251Z"
   },
   {
    "duration": 15,
    "start_time": "2022-03-13T07:23:18.293Z"
   },
   {
    "duration": 21,
    "start_time": "2022-03-13T07:23:18.311Z"
   },
   {
    "duration": 57,
    "start_time": "2022-03-13T07:23:18.335Z"
   },
   {
    "duration": 4,
    "start_time": "2022-03-13T07:23:18.395Z"
   },
   {
    "duration": 323,
    "start_time": "2022-03-13T07:23:18.401Z"
   },
   {
    "duration": 16,
    "start_time": "2022-03-13T07:23:18.727Z"
   },
   {
    "duration": 15,
    "start_time": "2022-03-13T07:23:18.747Z"
   },
   {
    "duration": 19,
    "start_time": "2022-03-13T07:23:18.789Z"
   },
   {
    "duration": 24,
    "start_time": "2022-03-13T07:23:18.811Z"
   },
   {
    "duration": 62,
    "start_time": "2022-03-13T07:23:18.838Z"
   },
   {
    "duration": 25,
    "start_time": "2022-03-13T07:23:18.902Z"
   },
   {
    "duration": 9,
    "start_time": "2022-03-13T07:23:18.929Z"
   },
   {
    "duration": 46,
    "start_time": "2022-03-13T07:23:18.941Z"
   },
   {
    "duration": 438,
    "start_time": "2022-03-13T07:23:18.990Z"
   },
   {
    "duration": 301,
    "start_time": "2022-03-13T07:23:19.430Z"
   },
   {
    "duration": 514,
    "start_time": "2022-03-13T07:23:19.734Z"
   },
   {
    "duration": 462,
    "start_time": "2022-03-13T07:23:20.251Z"
   },
   {
    "duration": 25,
    "start_time": "2022-03-13T07:23:20.716Z"
   },
   {
    "duration": 7,
    "start_time": "2022-03-13T07:23:20.743Z"
   },
   {
    "duration": 63,
    "start_time": "2022-03-13T07:23:20.752Z"
   },
   {
    "duration": 882,
    "start_time": "2022-03-13T07:23:20.817Z"
   },
   {
    "duration": 458,
    "start_time": "2022-03-13T07:23:21.701Z"
   },
   {
    "duration": 667,
    "start_time": "2022-03-13T07:23:22.161Z"
   },
   {
    "duration": 57,
    "start_time": "2022-03-13T07:23:22.830Z"
   },
   {
    "duration": 28,
    "start_time": "2022-03-13T07:23:22.892Z"
   },
   {
    "duration": 725,
    "start_time": "2022-03-13T07:23:22.923Z"
   },
   {
    "duration": 792,
    "start_time": "2022-03-13T07:23:23.650Z"
   },
   {
    "duration": 771,
    "start_time": "2022-03-13T07:23:24.445Z"
   },
   {
    "duration": 14,
    "start_time": "2022-03-13T07:23:25.218Z"
   },
   {
    "duration": 16,
    "start_time": "2022-03-13T07:23:25.235Z"
   },
   {
    "duration": 21,
    "start_time": "2022-03-13T07:23:29.167Z"
   },
   {
    "duration": 19,
    "start_time": "2022-03-13T07:24:35.948Z"
   },
   {
    "duration": 262,
    "start_time": "2022-03-13T07:25:06.520Z"
   },
   {
    "duration": 15,
    "start_time": "2022-03-13T07:25:25.620Z"
   },
   {
    "duration": 19,
    "start_time": "2022-03-13T07:26:20.582Z"
   },
   {
    "duration": 16,
    "start_time": "2022-03-13T07:26:32.740Z"
   },
   {
    "duration": 23,
    "start_time": "2022-03-13T07:29:10.036Z"
   },
   {
    "duration": 26,
    "start_time": "2022-03-13T07:29:45.033Z"
   },
   {
    "duration": 22,
    "start_time": "2022-03-13T07:32:05.659Z"
   },
   {
    "duration": 21,
    "start_time": "2022-03-13T07:33:12.807Z"
   },
   {
    "duration": 20,
    "start_time": "2022-03-13T07:34:44.553Z"
   },
   {
    "duration": 24,
    "start_time": "2022-03-13T07:37:32.202Z"
   },
   {
    "duration": 380,
    "start_time": "2022-03-13T07:37:41.209Z"
   },
   {
    "duration": 24,
    "start_time": "2022-03-13T07:38:36.252Z"
   },
   {
    "duration": 35,
    "start_time": "2022-03-13T07:39:10.049Z"
   },
   {
    "duration": 34,
    "start_time": "2022-03-13T07:39:46.150Z"
   },
   {
    "duration": 24,
    "start_time": "2022-03-13T07:40:29.439Z"
   },
   {
    "duration": 24,
    "start_time": "2022-03-13T07:42:17.111Z"
   },
   {
    "duration": 35,
    "start_time": "2022-03-13T07:44:02.925Z"
   },
   {
    "duration": 29,
    "start_time": "2022-03-13T07:46:37.971Z"
   },
   {
    "duration": 29,
    "start_time": "2022-03-13T07:47:03.906Z"
   },
   {
    "duration": 30,
    "start_time": "2022-03-13T07:47:09.310Z"
   },
   {
    "duration": 15,
    "start_time": "2022-03-13T07:47:52.991Z"
   },
   {
    "duration": 18,
    "start_time": "2022-03-13T07:48:05.330Z"
   },
   {
    "duration": 265,
    "start_time": "2022-03-13T07:48:37.410Z"
   },
   {
    "duration": 22,
    "start_time": "2022-03-13T07:48:57.713Z"
   },
   {
    "duration": 16,
    "start_time": "2022-03-13T07:49:05.604Z"
   },
   {
    "duration": 15,
    "start_time": "2022-03-13T07:49:18.417Z"
   },
   {
    "duration": 31,
    "start_time": "2022-03-13T07:49:32.552Z"
   },
   {
    "duration": 86,
    "start_time": "2022-03-13T07:50:04.584Z"
   },
   {
    "duration": 15,
    "start_time": "2022-03-13T07:50:10.176Z"
   },
   {
    "duration": 21,
    "start_time": "2022-03-13T07:50:24.927Z"
   },
   {
    "duration": 16,
    "start_time": "2022-03-13T07:50:45.066Z"
   },
   {
    "duration": 265,
    "start_time": "2022-03-13T07:51:17.045Z"
   },
   {
    "duration": 23,
    "start_time": "2022-03-13T07:51:23.697Z"
   },
   {
    "duration": 21,
    "start_time": "2022-03-13T07:51:35.001Z"
   },
   {
    "duration": 22,
    "start_time": "2022-03-13T07:51:51.596Z"
   },
   {
    "duration": 22,
    "start_time": "2022-03-13T07:52:03.984Z"
   },
   {
    "duration": 16,
    "start_time": "2022-03-13T07:52:36.553Z"
   },
   {
    "duration": 16,
    "start_time": "2022-03-13T07:52:41.033Z"
   },
   {
    "duration": 22,
    "start_time": "2022-03-13T08:55:57.944Z"
   },
   {
    "duration": 266,
    "start_time": "2022-03-13T08:56:19.522Z"
   },
   {
    "duration": 22,
    "start_time": "2022-03-13T08:56:35.423Z"
   },
   {
    "duration": 25,
    "start_time": "2022-03-13T08:58:32.821Z"
   },
   {
    "duration": 17,
    "start_time": "2022-03-13T08:58:49.543Z"
   },
   {
    "duration": 20,
    "start_time": "2022-03-13T08:59:35.609Z"
   },
   {
    "duration": 22,
    "start_time": "2022-03-13T09:05:13.785Z"
   },
   {
    "duration": 19,
    "start_time": "2022-03-13T09:05:24.332Z"
   },
   {
    "duration": 20,
    "start_time": "2022-03-13T09:05:36.493Z"
   },
   {
    "duration": 22,
    "start_time": "2022-03-13T09:11:34.473Z"
   },
   {
    "duration": 23,
    "start_time": "2022-03-13T09:11:45.253Z"
   },
   {
    "duration": 39,
    "start_time": "2022-03-13T09:12:32.473Z"
   },
   {
    "duration": 38,
    "start_time": "2022-03-13T09:12:39.888Z"
   },
   {
    "duration": 311,
    "start_time": "2022-03-13T09:13:49.013Z"
   },
   {
    "duration": 346,
    "start_time": "2022-03-13T09:14:10.673Z"
   },
   {
    "duration": 9,
    "start_time": "2022-03-13T09:14:37.030Z"
   },
   {
    "duration": 370,
    "start_time": "2022-03-13T09:14:51.470Z"
   },
   {
    "duration": 363,
    "start_time": "2022-03-13T09:15:20.975Z"
   },
   {
    "duration": 291,
    "start_time": "2022-03-13T09:53:10.229Z"
   },
   {
    "duration": 254,
    "start_time": "2022-03-13T09:53:21.994Z"
   },
   {
    "duration": 1469,
    "start_time": "2022-03-13T09:53:34.686Z"
   },
   {
    "duration": 58,
    "start_time": "2022-03-13T09:53:36.157Z"
   },
   {
    "duration": 26,
    "start_time": "2022-03-13T09:53:36.218Z"
   },
   {
    "duration": 15,
    "start_time": "2022-03-13T09:53:36.246Z"
   },
   {
    "duration": 45,
    "start_time": "2022-03-13T09:53:36.263Z"
   },
   {
    "duration": 24,
    "start_time": "2022-03-13T09:53:36.310Z"
   },
   {
    "duration": 6,
    "start_time": "2022-03-13T09:53:36.337Z"
   },
   {
    "duration": 325,
    "start_time": "2022-03-13T09:53:36.345Z"
   },
   {
    "duration": 23,
    "start_time": "2022-03-13T09:53:36.674Z"
   },
   {
    "duration": 14,
    "start_time": "2022-03-13T09:53:36.700Z"
   },
   {
    "duration": 29,
    "start_time": "2022-03-13T09:53:36.717Z"
   },
   {
    "duration": 52,
    "start_time": "2022-03-13T09:53:36.749Z"
   },
   {
    "duration": 23,
    "start_time": "2022-03-13T09:53:36.804Z"
   },
   {
    "duration": 24,
    "start_time": "2022-03-13T09:53:36.829Z"
   },
   {
    "duration": 10,
    "start_time": "2022-03-13T09:53:36.888Z"
   },
   {
    "duration": 15,
    "start_time": "2022-03-13T09:53:36.901Z"
   },
   {
    "duration": 420,
    "start_time": "2022-03-13T09:53:36.919Z"
   },
   {
    "duration": 303,
    "start_time": "2022-03-13T09:53:37.342Z"
   },
   {
    "duration": 454,
    "start_time": "2022-03-13T09:53:37.648Z"
   },
   {
    "duration": 393,
    "start_time": "2022-03-13T09:53:38.104Z"
   },
   {
    "duration": 24,
    "start_time": "2022-03-13T09:53:38.500Z"
   },
   {
    "duration": 7,
    "start_time": "2022-03-13T09:53:38.527Z"
   },
   {
    "duration": 64,
    "start_time": "2022-03-13T09:53:38.537Z"
   },
   {
    "duration": 598,
    "start_time": "2022-03-13T09:53:38.604Z"
   },
   {
    "duration": 462,
    "start_time": "2022-03-13T09:53:39.204Z"
   },
   {
    "duration": 669,
    "start_time": "2022-03-13T09:53:39.669Z"
   },
   {
    "duration": 50,
    "start_time": "2022-03-13T09:53:40.343Z"
   },
   {
    "duration": 28,
    "start_time": "2022-03-13T09:53:40.397Z"
   },
   {
    "duration": 676,
    "start_time": "2022-03-13T09:53:40.427Z"
   },
   {
    "duration": 1249,
    "start_time": "2022-03-13T09:53:41.105Z"
   },
   {
    "duration": 772,
    "start_time": "2022-03-13T09:53:42.357Z"
   },
   {
    "duration": 16,
    "start_time": "2022-03-13T09:53:43.132Z"
   },
   {
    "duration": 13,
    "start_time": "2022-03-13T09:53:43.150Z"
   },
   {
    "duration": 19,
    "start_time": "2022-03-13T09:53:43.186Z"
   },
   {
    "duration": 517,
    "start_time": "2022-03-13T09:53:43.207Z"
   },
   {
    "duration": 25,
    "start_time": "2022-03-13T09:54:28.344Z"
   },
   {
    "duration": 25,
    "start_time": "2022-03-13T09:54:38.982Z"
   },
   {
    "duration": 24,
    "start_time": "2022-03-13T09:54:49.495Z"
   },
   {
    "duration": 535,
    "start_time": "2022-03-13T09:55:27.734Z"
   },
   {
    "duration": 428,
    "start_time": "2022-03-13T09:55:41.788Z"
   },
   {
    "duration": 848,
    "start_time": "2022-03-13T09:56:19.354Z"
   },
   {
    "duration": 423,
    "start_time": "2022-03-13T09:56:23.974Z"
   },
   {
    "duration": 394,
    "start_time": "2022-03-13T10:16:46.444Z"
   },
   {
    "duration": 480,
    "start_time": "2022-03-13T10:17:58.079Z"
   },
   {
    "duration": 360,
    "start_time": "2022-03-13T10:19:17.514Z"
   },
   {
    "duration": 374,
    "start_time": "2022-03-13T10:19:30.326Z"
   },
   {
    "duration": 24,
    "start_time": "2022-03-13T10:20:36.313Z"
   },
   {
    "duration": 6,
    "start_time": "2022-03-13T10:21:54.376Z"
   },
   {
    "duration": 20,
    "start_time": "2022-03-13T10:22:07.468Z"
   },
   {
    "duration": 262,
    "start_time": "2022-03-13T10:22:20.188Z"
   },
   {
    "duration": 26,
    "start_time": "2022-03-13T10:25:40.705Z"
   },
   {
    "duration": 21,
    "start_time": "2022-03-13T10:26:11.518Z"
   },
   {
    "duration": 18,
    "start_time": "2022-03-13T10:26:31.725Z"
   },
   {
    "duration": 18,
    "start_time": "2022-03-13T10:27:11.626Z"
   },
   {
    "duration": 19,
    "start_time": "2022-03-13T10:27:49.941Z"
   },
   {
    "duration": 21,
    "start_time": "2022-03-13T10:28:14.689Z"
   },
   {
    "duration": 24,
    "start_time": "2022-03-13T10:34:14.271Z"
   },
   {
    "duration": 462,
    "start_time": "2022-03-13T10:35:07.355Z"
   },
   {
    "duration": 443,
    "start_time": "2022-03-13T10:35:59.891Z"
   },
   {
    "duration": 512,
    "start_time": "2022-03-13T10:36:43.132Z"
   },
   {
    "duration": 624,
    "start_time": "2022-03-13T10:37:08.363Z"
   },
   {
    "duration": 438,
    "start_time": "2022-03-13T10:41:05.474Z"
   },
   {
    "duration": 419,
    "start_time": "2022-03-13T10:41:21.861Z"
   },
   {
    "duration": 563,
    "start_time": "2022-03-13T10:41:32.984Z"
   },
   {
    "duration": 540,
    "start_time": "2022-03-13T10:41:39.963Z"
   },
   {
    "duration": 427,
    "start_time": "2022-03-13T10:41:44.763Z"
   },
   {
    "duration": 10,
    "start_time": "2022-03-13T10:42:09.604Z"
   },
   {
    "duration": 18,
    "start_time": "2022-03-13T10:42:34.803Z"
   },
   {
    "duration": 13,
    "start_time": "2022-03-13T10:44:19.894Z"
   },
   {
    "duration": 350,
    "start_time": "2022-03-13T10:45:21.502Z"
   },
   {
    "duration": 11,
    "start_time": "2022-03-13T10:45:39.417Z"
   },
   {
    "duration": 315,
    "start_time": "2022-03-13T10:46:01.355Z"
   },
   {
    "duration": 96,
    "start_time": "2022-03-13T10:46:16.319Z"
   },
   {
    "duration": 12,
    "start_time": "2022-03-13T10:46:29.732Z"
   },
   {
    "duration": 6320,
    "start_time": "2022-03-13T10:46:42.358Z"
   },
   {
    "duration": 10,
    "start_time": "2022-03-13T10:46:59.798Z"
   },
   {
    "duration": 125,
    "start_time": "2022-03-13T10:47:12.145Z"
   },
   {
    "duration": 85,
    "start_time": "2022-03-13T10:47:36.725Z"
   },
   {
    "duration": 101,
    "start_time": "2022-03-13T10:48:13.379Z"
   },
   {
    "duration": 408,
    "start_time": "2022-03-13T10:48:47.820Z"
   },
   {
    "duration": 438,
    "start_time": "2022-03-13T10:49:48.316Z"
   },
   {
    "duration": 467,
    "start_time": "2022-03-13T10:50:11.369Z"
   },
   {
    "duration": 479,
    "start_time": "2022-03-13T10:50:41.127Z"
   },
   {
    "duration": 92,
    "start_time": "2022-03-13T11:20:52.618Z"
   },
   {
    "duration": 614,
    "start_time": "2022-03-13T11:21:08.725Z"
   },
   {
    "duration": 427,
    "start_time": "2022-03-13T11:21:46.566Z"
   },
   {
    "duration": 10,
    "start_time": "2022-03-13T11:21:57.969Z"
   },
   {
    "duration": 6872,
    "start_time": "2022-03-13T11:22:56.331Z"
   },
   {
    "duration": 5932,
    "start_time": "2022-03-13T11:23:16.836Z"
   },
   {
    "duration": 7107,
    "start_time": "2022-03-13T11:23:55.634Z"
   },
   {
    "duration": 6609,
    "start_time": "2022-03-13T11:24:07.698Z"
   },
   {
    "duration": 7,
    "start_time": "2022-03-13T11:25:23.901Z"
   },
   {
    "duration": 7,
    "start_time": "2022-03-13T11:25:57.842Z"
   },
   {
    "duration": 381,
    "start_time": "2022-03-13T11:26:44.771Z"
   },
   {
    "duration": 11,
    "start_time": "2022-03-13T11:32:28.836Z"
   },
   {
    "duration": 7,
    "start_time": "2022-03-13T11:33:00.776Z"
   },
   {
    "duration": 22,
    "start_time": "2022-03-13T11:33:05.628Z"
   },
   {
    "duration": 247,
    "start_time": "2022-03-13T11:33:44.838Z"
   },
   {
    "duration": 27,
    "start_time": "2022-03-13T11:35:14.505Z"
   },
   {
    "duration": 26,
    "start_time": "2022-03-13T11:35:43.929Z"
   },
   {
    "duration": 237,
    "start_time": "2022-03-13T12:04:03.445Z"
   },
   {
    "duration": 601,
    "start_time": "2022-03-13T12:04:13.131Z"
   },
   {
    "duration": 665,
    "start_time": "2022-03-13T12:06:13.793Z"
   },
   {
    "duration": 619,
    "start_time": "2022-03-13T12:10:12.219Z"
   },
   {
    "duration": 644,
    "start_time": "2022-03-13T12:11:34.298Z"
   },
   {
    "duration": 917,
    "start_time": "2022-03-13T12:13:12.210Z"
   },
   {
    "duration": 673,
    "start_time": "2022-03-13T12:13:29.476Z"
   },
   {
    "duration": 707,
    "start_time": "2022-03-13T12:15:00.160Z"
   },
   {
    "duration": 802,
    "start_time": "2022-03-13T12:15:17.206Z"
   },
   {
    "duration": 715,
    "start_time": "2022-03-13T12:15:29.105Z"
   },
   {
    "duration": 978,
    "start_time": "2022-03-13T12:19:08.808Z"
   },
   {
    "duration": 1224,
    "start_time": "2022-03-13T12:21:58.163Z"
   },
   {
    "duration": 1075,
    "start_time": "2022-03-13T12:23:10.304Z"
   },
   {
    "duration": 1214,
    "start_time": "2022-03-13T12:23:44.319Z"
   },
   {
    "duration": 1191,
    "start_time": "2022-03-13T12:24:32.839Z"
   },
   {
    "duration": 1226,
    "start_time": "2022-03-13T12:51:14.705Z"
   },
   {
    "duration": 1220,
    "start_time": "2022-03-13T12:51:27.471Z"
   },
   {
    "duration": 1236,
    "start_time": "2022-03-13T12:52:14.681Z"
   },
   {
    "duration": 19197,
    "start_time": "2022-03-13T12:52:26.904Z"
   },
   {
    "duration": 1124,
    "start_time": "2022-03-13T12:57:15.713Z"
   },
   {
    "duration": 1032,
    "start_time": "2022-03-13T12:57:55.842Z"
   },
   {
    "duration": 1188,
    "start_time": "2022-03-13T12:58:34.180Z"
   },
   {
    "duration": 1614,
    "start_time": "2022-03-13T13:01:50.611Z"
   },
   {
    "duration": 1080,
    "start_time": "2022-03-13T13:02:05.158Z"
   },
   {
    "duration": 1150,
    "start_time": "2022-03-13T13:02:17.559Z"
   },
   {
    "duration": 1296,
    "start_time": "2022-03-13T13:02:35.235Z"
   },
   {
    "duration": 1119,
    "start_time": "2022-03-13T13:02:42.738Z"
   },
   {
    "duration": 1328,
    "start_time": "2022-03-13T13:03:27.252Z"
   },
   {
    "duration": 23,
    "start_time": "2022-03-13T13:27:32.905Z"
   },
   {
    "duration": 28,
    "start_time": "2022-03-13T13:27:47.209Z"
   },
   {
    "duration": 1606,
    "start_time": "2022-03-13T13:33:48.908Z"
   },
   {
    "duration": 1186,
    "start_time": "2022-03-13T13:33:55.458Z"
   },
   {
    "duration": 1300,
    "start_time": "2022-03-13T13:34:25.239Z"
   },
   {
    "duration": 1171,
    "start_time": "2022-03-13T13:34:53.457Z"
   },
   {
    "duration": 1162,
    "start_time": "2022-03-13T13:58:40.378Z"
   },
   {
    "duration": 1139,
    "start_time": "2022-03-13T13:59:01.502Z"
   },
   {
    "duration": 1336,
    "start_time": "2022-03-13T13:59:32.828Z"
   },
   {
    "duration": 3049,
    "start_time": "2022-03-13T14:00:07.608Z"
   },
   {
    "duration": 1321,
    "start_time": "2022-03-13T14:00:24.048Z"
   },
   {
    "duration": 1107,
    "start_time": "2022-03-13T14:00:41.685Z"
   },
   {
    "duration": 1021,
    "start_time": "2022-03-13T14:00:54.004Z"
   },
   {
    "duration": 1040,
    "start_time": "2022-03-13T14:01:44.134Z"
   },
   {
    "duration": 1115,
    "start_time": "2022-03-13T14:02:08.955Z"
   },
   {
    "duration": 1260,
    "start_time": "2022-03-13T14:02:20.231Z"
   },
   {
    "duration": 1086,
    "start_time": "2022-03-13T14:04:25.443Z"
   },
   {
    "duration": 454,
    "start_time": "2022-03-13T14:06:39.280Z"
   },
   {
    "duration": 23,
    "start_time": "2022-03-13T14:06:52.743Z"
   },
   {
    "duration": 1035,
    "start_time": "2022-03-13T14:28:11.947Z"
   },
   {
    "duration": 1478,
    "start_time": "2022-03-14T06:04:02.646Z"
   },
   {
    "duration": 57,
    "start_time": "2022-03-14T06:04:04.126Z"
   },
   {
    "duration": 28,
    "start_time": "2022-03-14T06:04:04.186Z"
   },
   {
    "duration": 16,
    "start_time": "2022-03-14T06:04:04.217Z"
   },
   {
    "duration": 55,
    "start_time": "2022-03-14T06:04:04.236Z"
   },
   {
    "duration": 23,
    "start_time": "2022-03-14T06:04:04.293Z"
   },
   {
    "duration": 25,
    "start_time": "2022-03-14T06:04:04.318Z"
   },
   {
    "duration": 260,
    "start_time": "2022-03-14T06:04:04.346Z"
   },
   {
    "duration": 15,
    "start_time": "2022-03-14T06:04:04.609Z"
   },
   {
    "duration": 20,
    "start_time": "2022-03-14T06:04:04.626Z"
   },
   {
    "duration": 41,
    "start_time": "2022-03-14T06:04:04.648Z"
   },
   {
    "duration": 24,
    "start_time": "2022-03-14T06:04:04.692Z"
   },
   {
    "duration": 21,
    "start_time": "2022-03-14T06:04:04.719Z"
   },
   {
    "duration": 56,
    "start_time": "2022-03-14T06:04:04.742Z"
   },
   {
    "duration": 8,
    "start_time": "2022-03-14T06:04:04.801Z"
   },
   {
    "duration": 41,
    "start_time": "2022-03-14T06:04:04.811Z"
   },
   {
    "duration": 390,
    "start_time": "2022-03-14T06:04:04.854Z"
   },
   {
    "duration": 258,
    "start_time": "2022-03-14T06:04:05.246Z"
   },
   {
    "duration": 428,
    "start_time": "2022-03-14T06:04:05.507Z"
   },
   {
    "duration": 380,
    "start_time": "2022-03-14T06:04:05.938Z"
   },
   {
    "duration": 31,
    "start_time": "2022-03-14T06:04:06.321Z"
   },
   {
    "duration": 14,
    "start_time": "2022-03-14T06:04:06.355Z"
   },
   {
    "duration": 61,
    "start_time": "2022-03-14T06:04:06.382Z"
   },
   {
    "duration": 616,
    "start_time": "2022-03-14T06:04:06.446Z"
   },
   {
    "duration": 456,
    "start_time": "2022-03-14T06:04:07.065Z"
   },
   {
    "duration": 538,
    "start_time": "2022-03-14T06:04:07.525Z"
   },
   {
    "duration": 43,
    "start_time": "2022-03-14T06:04:08.065Z"
   },
   {
    "duration": 31,
    "start_time": "2022-03-14T06:04:08.110Z"
   },
   {
    "duration": 639,
    "start_time": "2022-03-14T06:04:08.143Z"
   },
   {
    "duration": 1261,
    "start_time": "2022-03-14T06:04:08.784Z"
   },
   {
    "duration": 730,
    "start_time": "2022-03-14T06:04:10.047Z"
   },
   {
    "duration": 15,
    "start_time": "2022-03-14T06:04:10.783Z"
   },
   {
    "duration": 12,
    "start_time": "2022-03-14T06:04:10.800Z"
   },
   {
    "duration": 24,
    "start_time": "2022-03-14T06:04:10.814Z"
   },
   {
    "duration": 385,
    "start_time": "2022-03-14T06:04:10.840Z"
   },
   {
    "duration": 22,
    "start_time": "2022-03-14T06:04:11.227Z"
   },
   {
    "duration": 4,
    "start_time": "2022-03-14T06:40:21.662Z"
   },
   {
    "duration": 11,
    "start_time": "2022-03-14T06:40:42.453Z"
   },
   {
    "duration": 4,
    "start_time": "2022-03-14T07:37:05.662Z"
   },
   {
    "duration": 1381,
    "start_time": "2022-03-14T07:37:57.402Z"
   },
   {
    "duration": 6,
    "start_time": "2022-03-14T07:38:13.695Z"
   },
   {
    "duration": 12,
    "start_time": "2022-03-14T07:38:23.046Z"
   },
   {
    "duration": 5,
    "start_time": "2022-03-14T07:41:15.627Z"
   },
   {
    "duration": 85,
    "start_time": "2022-03-14T07:41:15.635Z"
   },
   {
    "duration": 28,
    "start_time": "2022-03-14T07:41:15.724Z"
   },
   {
    "duration": 42,
    "start_time": "2022-03-14T07:41:15.755Z"
   },
   {
    "duration": 20,
    "start_time": "2022-03-14T07:41:15.800Z"
   },
   {
    "duration": 24,
    "start_time": "2022-03-14T07:41:15.822Z"
   },
   {
    "duration": 33,
    "start_time": "2022-03-14T07:41:15.849Z"
   },
   {
    "duration": 297,
    "start_time": "2022-03-14T07:41:15.885Z"
   },
   {
    "duration": 16,
    "start_time": "2022-03-14T07:41:16.186Z"
   },
   {
    "duration": 15,
    "start_time": "2022-03-14T07:41:16.205Z"
   },
   {
    "duration": 23,
    "start_time": "2022-03-14T07:41:16.223Z"
   },
   {
    "duration": 30,
    "start_time": "2022-03-14T07:41:16.282Z"
   },
   {
    "duration": 28,
    "start_time": "2022-03-14T07:41:16.315Z"
   },
   {
    "duration": 66,
    "start_time": "2022-03-14T07:41:16.346Z"
   },
   {
    "duration": 11,
    "start_time": "2022-03-14T07:41:16.415Z"
   },
   {
    "duration": 19,
    "start_time": "2022-03-14T07:41:16.430Z"
   },
   {
    "duration": 518,
    "start_time": "2022-03-14T07:41:16.483Z"
   },
   {
    "duration": 298,
    "start_time": "2022-03-14T07:41:17.003Z"
   },
   {
    "duration": 910,
    "start_time": "2022-03-14T07:41:17.304Z"
   },
   {
    "duration": 662,
    "start_time": "2022-03-14T07:41:18.217Z"
   },
   {
    "duration": 32,
    "start_time": "2022-03-14T07:41:18.883Z"
   },
   {
    "duration": 9,
    "start_time": "2022-03-14T07:41:18.918Z"
   },
   {
    "duration": 65,
    "start_time": "2022-03-14T07:41:18.930Z"
   },
   {
    "duration": 980,
    "start_time": "2022-03-14T07:41:18.998Z"
   },
   {
    "duration": 751,
    "start_time": "2022-03-14T07:41:19.984Z"
   },
   {
    "duration": 584,
    "start_time": "2022-03-14T07:41:20.738Z"
   },
   {
    "duration": 39,
    "start_time": "2022-03-14T07:41:21.325Z"
   },
   {
    "duration": 51,
    "start_time": "2022-03-14T07:41:21.367Z"
   },
   {
    "duration": 633,
    "start_time": "2022-03-14T07:41:21.421Z"
   },
   {
    "duration": 1265,
    "start_time": "2022-03-14T07:41:22.056Z"
   },
   {
    "duration": 810,
    "start_time": "2022-03-14T07:41:23.323Z"
   },
   {
    "duration": 20,
    "start_time": "2022-03-14T07:41:24.136Z"
   },
   {
    "duration": 37,
    "start_time": "2022-03-14T07:41:24.159Z"
   },
   {
    "duration": 22,
    "start_time": "2022-03-14T07:41:24.199Z"
   },
   {
    "duration": 543,
    "start_time": "2022-03-14T07:41:24.224Z"
   },
   {
    "duration": 36,
    "start_time": "2022-03-14T07:41:24.770Z"
   },
   {
    "duration": 12,
    "start_time": "2022-03-14T07:41:24.809Z"
   },
   {
    "duration": 7,
    "start_time": "2022-03-14T07:41:27.560Z"
   },
   {
    "duration": 11,
    "start_time": "2022-03-14T07:41:28.859Z"
   },
   {
    "duration": 4,
    "start_time": "2022-03-14T07:47:25.045Z"
   },
   {
    "duration": 72,
    "start_time": "2022-03-14T07:47:25.052Z"
   },
   {
    "duration": 21,
    "start_time": "2022-03-14T07:47:25.127Z"
   },
   {
    "duration": 16,
    "start_time": "2022-03-14T07:47:26.674Z"
   },
   {
    "duration": 24,
    "start_time": "2022-03-14T07:47:26.694Z"
   },
   {
    "duration": 24,
    "start_time": "2022-03-14T07:47:26.905Z"
   },
   {
    "duration": 6,
    "start_time": "2022-03-14T07:47:26.932Z"
   },
   {
    "duration": 290,
    "start_time": "2022-03-14T07:47:26.941Z"
   },
   {
    "duration": 16,
    "start_time": "2022-03-14T07:47:27.234Z"
   },
   {
    "duration": 33,
    "start_time": "2022-03-14T07:47:27.253Z"
   },
   {
    "duration": 24,
    "start_time": "2022-03-14T07:47:27.407Z"
   },
   {
    "duration": 23,
    "start_time": "2022-03-14T07:47:27.435Z"
   },
   {
    "duration": 32,
    "start_time": "2022-03-14T07:47:27.461Z"
   },
   {
    "duration": 26,
    "start_time": "2022-03-14T07:47:27.495Z"
   },
   {
    "duration": 10,
    "start_time": "2022-03-14T07:47:27.524Z"
   },
   {
    "duration": 49,
    "start_time": "2022-03-14T07:47:27.538Z"
   },
   {
    "duration": 435,
    "start_time": "2022-03-14T07:47:27.589Z"
   },
   {
    "duration": 398,
    "start_time": "2022-03-14T07:47:28.027Z"
   },
   {
    "duration": 496,
    "start_time": "2022-03-14T07:47:28.429Z"
   },
   {
    "duration": 457,
    "start_time": "2022-03-14T07:47:28.928Z"
   },
   {
    "duration": 23,
    "start_time": "2022-03-14T07:47:29.388Z"
   },
   {
    "duration": 11,
    "start_time": "2022-03-14T07:47:29.414Z"
   },
   {
    "duration": 57,
    "start_time": "2022-03-14T07:47:29.427Z"
   },
   {
    "duration": 739,
    "start_time": "2022-03-14T07:47:29.487Z"
   },
   {
    "duration": 558,
    "start_time": "2022-03-14T07:47:30.228Z"
   },
   {
    "duration": 581,
    "start_time": "2022-03-14T07:47:30.789Z"
   },
   {
    "duration": 41,
    "start_time": "2022-03-14T07:47:31.373Z"
   },
   {
    "duration": 26,
    "start_time": "2022-03-14T07:47:31.416Z"
   },
   {
    "duration": 608,
    "start_time": "2022-03-14T07:47:31.445Z"
   },
   {
    "duration": 1351,
    "start_time": "2022-03-14T07:47:32.055Z"
   },
   {
    "duration": 777,
    "start_time": "2022-03-14T07:47:33.409Z"
   },
   {
    "duration": 16,
    "start_time": "2022-03-14T07:47:34.188Z"
   },
   {
    "duration": 13,
    "start_time": "2022-03-14T07:47:34.207Z"
   },
   {
    "duration": 17,
    "start_time": "2022-03-14T07:47:34.222Z"
   },
   {
    "duration": 428,
    "start_time": "2022-03-14T07:47:34.242Z"
   },
   {
    "duration": 30,
    "start_time": "2022-03-14T07:47:34.672Z"
   },
   {
    "duration": 10,
    "start_time": "2022-03-14T07:47:36.802Z"
   },
   {
    "duration": 1040,
    "start_time": "2022-03-14T07:47:42.847Z"
   },
   {
    "duration": 10,
    "start_time": "2022-03-14T07:47:43.890Z"
   },
   {
    "duration": 439,
    "start_time": "2022-03-14T07:49:17.774Z"
   },
   {
    "duration": 470,
    "start_time": "2022-03-14T08:05:26.973Z"
   },
   {
    "duration": 1499,
    "start_time": "2022-03-14T08:07:59.315Z"
   },
   {
    "duration": 11,
    "start_time": "2022-03-14T08:08:00.852Z"
   },
   {
    "duration": 8,
    "start_time": "2022-03-14T08:08:21.621Z"
   },
   {
    "duration": 12,
    "start_time": "2022-03-14T08:08:22.527Z"
   },
   {
    "duration": 23,
    "start_time": "2022-03-14T08:12:58.422Z"
   },
   {
    "duration": 13,
    "start_time": "2022-03-14T08:13:12.395Z"
   },
   {
    "duration": 20,
    "start_time": "2022-03-14T08:17:52.001Z"
   },
   {
    "duration": 22,
    "start_time": "2022-03-14T08:18:11.724Z"
   },
   {
    "duration": 16,
    "start_time": "2022-03-14T08:18:40.039Z"
   },
   {
    "duration": 4,
    "start_time": "2022-03-14T08:19:21.809Z"
   },
   {
    "duration": 56,
    "start_time": "2022-03-14T08:19:21.820Z"
   },
   {
    "duration": 24,
    "start_time": "2022-03-14T08:19:21.879Z"
   },
   {
    "duration": 14,
    "start_time": "2022-03-14T08:19:21.906Z"
   },
   {
    "duration": 20,
    "start_time": "2022-03-14T08:19:21.923Z"
   },
   {
    "duration": 57,
    "start_time": "2022-03-14T08:19:21.945Z"
   },
   {
    "duration": 4,
    "start_time": "2022-03-14T08:19:22.005Z"
   },
   {
    "duration": 314,
    "start_time": "2022-03-14T08:19:22.011Z"
   },
   {
    "duration": 17,
    "start_time": "2022-03-14T08:19:22.329Z"
   },
   {
    "duration": 32,
    "start_time": "2022-03-14T08:19:22.350Z"
   },
   {
    "duration": 20,
    "start_time": "2022-03-14T08:19:22.385Z"
   },
   {
    "duration": 27,
    "start_time": "2022-03-14T08:19:22.407Z"
   },
   {
    "duration": 65,
    "start_time": "2022-03-14T08:19:22.437Z"
   },
   {
    "duration": 26,
    "start_time": "2022-03-14T08:19:22.505Z"
   },
   {
    "duration": 10,
    "start_time": "2022-03-14T08:19:22.534Z"
   },
   {
    "duration": 47,
    "start_time": "2022-03-14T08:19:22.547Z"
   },
   {
    "duration": 439,
    "start_time": "2022-03-14T08:19:22.597Z"
   },
   {
    "duration": 294,
    "start_time": "2022-03-14T08:19:23.039Z"
   },
   {
    "duration": 500,
    "start_time": "2022-03-14T08:19:23.336Z"
   },
   {
    "duration": 429,
    "start_time": "2022-03-14T08:19:23.839Z"
   },
   {
    "duration": 30,
    "start_time": "2022-03-14T08:19:24.271Z"
   },
   {
    "duration": 7,
    "start_time": "2022-03-14T08:19:24.304Z"
   },
   {
    "duration": 49,
    "start_time": "2022-03-14T08:19:24.313Z"
   },
   {
    "duration": 764,
    "start_time": "2022-03-14T08:19:24.381Z"
   },
   {
    "duration": 528,
    "start_time": "2022-03-14T08:19:25.148Z"
   },
   {
    "duration": 562,
    "start_time": "2022-03-14T08:19:25.678Z"
   },
   {
    "duration": 51,
    "start_time": "2022-03-14T08:19:26.242Z"
   },
   {
    "duration": 28,
    "start_time": "2022-03-14T08:19:26.295Z"
   },
   {
    "duration": 667,
    "start_time": "2022-03-14T08:19:26.326Z"
   },
   {
    "duration": 999,
    "start_time": "2022-03-14T08:19:26.995Z"
   },
   {
    "duration": 1031,
    "start_time": "2022-03-14T08:19:27.997Z"
   },
   {
    "duration": 20,
    "start_time": "2022-03-14T08:19:29.030Z"
   },
   {
    "duration": 37,
    "start_time": "2022-03-14T08:19:29.052Z"
   },
   {
    "duration": 18,
    "start_time": "2022-03-14T08:19:29.092Z"
   },
   {
    "duration": 397,
    "start_time": "2022-03-14T08:19:29.112Z"
   },
   {
    "duration": 22,
    "start_time": "2022-03-14T08:19:29.512Z"
   },
   {
    "duration": 1086,
    "start_time": "2022-03-14T08:19:29.537Z"
   },
   {
    "duration": 439,
    "start_time": "2022-03-14T09:23:22.693Z"
   },
   {
    "duration": 1415,
    "start_time": "2022-03-14T09:23:28.908Z"
   },
   {
    "duration": 60,
    "start_time": "2022-03-14T09:23:30.325Z"
   },
   {
    "duration": 26,
    "start_time": "2022-03-14T09:23:30.388Z"
   },
   {
    "duration": 15,
    "start_time": "2022-03-14T09:23:30.417Z"
   },
   {
    "duration": 53,
    "start_time": "2022-03-14T09:23:30.434Z"
   },
   {
    "duration": 25,
    "start_time": "2022-03-14T09:23:30.490Z"
   },
   {
    "duration": 5,
    "start_time": "2022-03-14T09:23:30.517Z"
   },
   {
    "duration": 292,
    "start_time": "2022-03-14T09:23:30.526Z"
   },
   {
    "duration": 16,
    "start_time": "2022-03-14T09:23:30.820Z"
   },
   {
    "duration": 20,
    "start_time": "2022-03-14T09:23:30.838Z"
   },
   {
    "duration": 36,
    "start_time": "2022-03-14T09:23:30.861Z"
   },
   {
    "duration": 23,
    "start_time": "2022-03-14T09:23:30.900Z"
   },
   {
    "duration": 21,
    "start_time": "2022-03-14T09:23:30.925Z"
   },
   {
    "duration": 55,
    "start_time": "2022-03-14T09:23:30.948Z"
   },
   {
    "duration": 10,
    "start_time": "2022-03-14T09:23:31.006Z"
   },
   {
    "duration": 22,
    "start_time": "2022-03-14T09:23:31.019Z"
   },
   {
    "duration": 413,
    "start_time": "2022-03-14T09:23:31.043Z"
   },
   {
    "duration": 270,
    "start_time": "2022-03-14T09:23:31.458Z"
   },
   {
    "duration": 425,
    "start_time": "2022-03-14T09:23:31.730Z"
   },
   {
    "duration": 398,
    "start_time": "2022-03-14T09:23:32.158Z"
   },
   {
    "duration": 36,
    "start_time": "2022-03-14T09:23:32.558Z"
   },
   {
    "duration": 7,
    "start_time": "2022-03-14T09:23:32.596Z"
   },
   {
    "duration": 32,
    "start_time": "2022-03-14T09:23:32.608Z"
   },
   {
    "duration": 603,
    "start_time": "2022-03-14T09:23:32.643Z"
   },
   {
    "duration": 446,
    "start_time": "2022-03-14T09:23:33.249Z"
   },
   {
    "duration": 559,
    "start_time": "2022-03-14T09:23:33.697Z"
   },
   {
    "duration": 46,
    "start_time": "2022-03-14T09:23:34.258Z"
   },
   {
    "duration": 25,
    "start_time": "2022-03-14T09:23:34.307Z"
   },
   {
    "duration": 654,
    "start_time": "2022-03-14T09:23:34.335Z"
   },
   {
    "duration": 1233,
    "start_time": "2022-03-14T09:23:34.991Z"
   },
   {
    "duration": 734,
    "start_time": "2022-03-14T09:23:36.228Z"
   },
   {
    "duration": 23,
    "start_time": "2022-03-14T09:23:36.965Z"
   },
   {
    "duration": 12,
    "start_time": "2022-03-14T09:23:36.991Z"
   },
   {
    "duration": 20,
    "start_time": "2022-03-14T09:23:37.006Z"
   },
   {
    "duration": 400,
    "start_time": "2022-03-14T09:23:37.029Z"
   },
   {
    "duration": 22,
    "start_time": "2022-03-14T09:23:37.431Z"
   },
   {
    "duration": 1021,
    "start_time": "2022-03-14T09:23:37.456Z"
   },
   {
    "duration": 10,
    "start_time": "2022-03-14T09:23:38.480Z"
   },
   {
    "duration": 1200,
    "start_time": "2022-03-14T09:45:24.504Z"
   },
   {
    "duration": 1546,
    "start_time": "2022-03-14T21:58:53.861Z"
   },
   {
    "duration": 54,
    "start_time": "2022-03-14T21:58:55.410Z"
   },
   {
    "duration": 27,
    "start_time": "2022-03-14T21:58:55.467Z"
   },
   {
    "duration": 16,
    "start_time": "2022-03-14T21:58:55.498Z"
   },
   {
    "duration": 56,
    "start_time": "2022-03-14T21:58:55.517Z"
   },
   {
    "duration": 26,
    "start_time": "2022-03-14T21:58:55.576Z"
   },
   {
    "duration": 5,
    "start_time": "2022-03-14T21:58:55.605Z"
   },
   {
    "duration": 278,
    "start_time": "2022-03-14T21:58:55.652Z"
   },
   {
    "duration": 20,
    "start_time": "2022-03-14T21:58:55.933Z"
   },
   {
    "duration": 15,
    "start_time": "2022-03-14T21:58:55.955Z"
   },
   {
    "duration": 21,
    "start_time": "2022-03-14T21:58:55.973Z"
   },
   {
    "duration": 61,
    "start_time": "2022-03-14T21:58:55.997Z"
   },
   {
    "duration": 23,
    "start_time": "2022-03-14T21:58:56.060Z"
   },
   {
    "duration": 24,
    "start_time": "2022-03-14T21:58:56.085Z"
   },
   {
    "duration": 40,
    "start_time": "2022-03-14T21:58:56.112Z"
   },
   {
    "duration": 14,
    "start_time": "2022-03-14T21:58:56.155Z"
   },
   {
    "duration": 435,
    "start_time": "2022-03-14T21:58:56.172Z"
   },
   {
    "duration": 275,
    "start_time": "2022-03-14T21:58:56.610Z"
   },
   {
    "duration": 444,
    "start_time": "2022-03-14T21:58:56.888Z"
   },
   {
    "duration": 372,
    "start_time": "2022-03-14T21:58:57.335Z"
   },
   {
    "duration": 43,
    "start_time": "2022-03-14T21:58:57.710Z"
   },
   {
    "duration": 8,
    "start_time": "2022-03-14T21:58:57.756Z"
   },
   {
    "duration": 29,
    "start_time": "2022-03-14T21:58:57.769Z"
   },
   {
    "duration": 611,
    "start_time": "2022-03-14T21:58:57.801Z"
   },
   {
    "duration": 447,
    "start_time": "2022-03-14T21:58:58.414Z"
   },
   {
    "duration": 553,
    "start_time": "2022-03-14T21:58:58.864Z"
   },
   {
    "duration": 49,
    "start_time": "2022-03-14T21:58:59.420Z"
   },
   {
    "duration": 26,
    "start_time": "2022-03-14T21:58:59.472Z"
   },
   {
    "duration": 758,
    "start_time": "2022-03-14T21:58:59.500Z"
   },
   {
    "duration": 1909,
    "start_time": "2022-03-14T21:59:00.261Z"
   },
   {
    "duration": 780,
    "start_time": "2022-03-14T21:59:02.173Z"
   },
   {
    "duration": 14,
    "start_time": "2022-03-14T21:59:02.956Z"
   },
   {
    "duration": 12,
    "start_time": "2022-03-14T21:59:02.972Z"
   },
   {
    "duration": 19,
    "start_time": "2022-03-14T21:59:02.986Z"
   },
   {
    "duration": 420,
    "start_time": "2022-03-14T21:59:03.007Z"
   },
   {
    "duration": 30,
    "start_time": "2022-03-14T21:59:03.430Z"
   },
   {
    "duration": 1020,
    "start_time": "2022-03-14T21:59:03.463Z"
   },
   {
    "duration": 2699,
    "start_time": "2022-03-15T11:26:44.377Z"
   },
   {
    "duration": 104,
    "start_time": "2022-03-15T11:26:47.079Z"
   },
   {
    "duration": 80,
    "start_time": "2022-03-15T11:26:47.186Z"
   },
   {
    "duration": 80,
    "start_time": "2022-03-15T11:26:47.268Z"
   },
   {
    "duration": 20,
    "start_time": "2022-03-15T11:26:47.351Z"
   },
   {
    "duration": 85,
    "start_time": "2022-03-15T11:26:47.374Z"
   },
   {
    "duration": 4,
    "start_time": "2022-03-15T11:26:47.462Z"
   },
   {
    "duration": 592,
    "start_time": "2022-03-15T11:26:47.468Z"
   },
   {
    "duration": 15,
    "start_time": "2022-03-15T11:26:48.064Z"
   },
   {
    "duration": 72,
    "start_time": "2022-03-15T11:26:48.082Z"
   },
   {
    "duration": 20,
    "start_time": "2022-03-15T11:26:48.156Z"
   },
   {
    "duration": 25,
    "start_time": "2022-03-15T11:26:48.243Z"
   },
   {
    "duration": 84,
    "start_time": "2022-03-15T11:26:48.271Z"
   },
   {
    "duration": 95,
    "start_time": "2022-03-15T11:26:48.358Z"
   },
   {
    "duration": 9,
    "start_time": "2022-03-15T11:26:48.456Z"
   },
   {
    "duration": 82,
    "start_time": "2022-03-15T11:26:48.467Z"
   },
   {
    "duration": 1094,
    "start_time": "2022-03-15T11:26:48.552Z"
   },
   {
    "duration": 525,
    "start_time": "2022-03-15T11:26:49.648Z"
   },
   {
    "duration": 967,
    "start_time": "2022-03-15T11:26:50.176Z"
   },
   {
    "duration": 812,
    "start_time": "2022-03-15T11:26:51.145Z"
   },
   {
    "duration": 84,
    "start_time": "2022-03-15T11:26:51.960Z"
   },
   {
    "duration": 9,
    "start_time": "2022-03-15T11:26:52.048Z"
   },
   {
    "duration": 92,
    "start_time": "2022-03-15T11:26:52.059Z"
   },
   {
    "duration": 1120,
    "start_time": "2022-03-15T11:26:52.154Z"
   },
   {
    "duration": 982,
    "start_time": "2022-03-15T11:26:53.277Z"
   },
   {
    "duration": 1408,
    "start_time": "2022-03-15T11:26:54.262Z"
   },
   {
    "duration": 101,
    "start_time": "2022-03-15T11:26:55.674Z"
   },
   {
    "duration": 99,
    "start_time": "2022-03-15T11:26:55.779Z"
   },
   {
    "duration": 1316,
    "start_time": "2022-03-15T11:26:55.881Z"
   },
   {
    "duration": 1297,
    "start_time": "2022-03-15T11:26:57.200Z"
   },
   {
    "duration": 1621,
    "start_time": "2022-03-15T11:26:58.544Z"
   },
   {
    "duration": 16,
    "start_time": "2022-03-15T11:27:00.167Z"
   },
   {
    "duration": 60,
    "start_time": "2022-03-15T11:27:00.243Z"
   },
   {
    "duration": 19,
    "start_time": "2022-03-15T11:27:00.344Z"
   },
   {
    "duration": 716,
    "start_time": "2022-03-15T11:27:00.365Z"
   },
   {
    "duration": 76,
    "start_time": "2022-03-15T11:27:01.084Z"
   },
   {
    "duration": 2221,
    "start_time": "2022-03-15T11:27:01.163Z"
   },
   {
    "duration": 1619,
    "start_time": "2022-03-15T16:39:47.340Z"
   },
   {
    "duration": 67,
    "start_time": "2022-03-15T16:39:48.961Z"
   },
   {
    "duration": 28,
    "start_time": "2022-03-15T16:39:49.031Z"
   },
   {
    "duration": 57,
    "start_time": "2022-03-15T16:39:49.062Z"
   },
   {
    "duration": 23,
    "start_time": "2022-03-15T16:39:49.122Z"
   },
   {
    "duration": 41,
    "start_time": "2022-03-15T16:39:49.148Z"
   },
   {
    "duration": 6,
    "start_time": "2022-03-15T16:39:49.196Z"
   },
   {
    "duration": 298,
    "start_time": "2022-03-15T16:39:49.207Z"
   },
   {
    "duration": 15,
    "start_time": "2022-03-15T16:39:49.509Z"
   },
   {
    "duration": 16,
    "start_time": "2022-03-15T16:39:49.526Z"
   },
   {
    "duration": 53,
    "start_time": "2022-03-15T16:39:49.545Z"
   },
   {
    "duration": 29,
    "start_time": "2022-03-15T16:39:49.602Z"
   },
   {
    "duration": 22,
    "start_time": "2022-03-15T16:39:49.633Z"
   },
   {
    "duration": 48,
    "start_time": "2022-03-15T16:39:49.657Z"
   },
   {
    "duration": 10,
    "start_time": "2022-03-15T16:39:49.708Z"
   },
   {
    "duration": 15,
    "start_time": "2022-03-15T16:39:49.720Z"
   },
   {
    "duration": 444,
    "start_time": "2022-03-15T16:39:49.738Z"
   },
   {
    "duration": 286,
    "start_time": "2022-03-15T16:39:50.187Z"
   },
   {
    "duration": 460,
    "start_time": "2022-03-15T16:39:50.475Z"
   },
   {
    "duration": 406,
    "start_time": "2022-03-15T16:39:50.938Z"
   },
   {
    "duration": 49,
    "start_time": "2022-03-15T16:39:51.347Z"
   },
   {
    "duration": 8,
    "start_time": "2022-03-15T16:39:51.399Z"
   },
   {
    "duration": 35,
    "start_time": "2022-03-15T16:39:51.412Z"
   },
   {
    "duration": 681,
    "start_time": "2022-03-15T16:39:51.451Z"
   },
   {
    "duration": 515,
    "start_time": "2022-03-15T16:39:52.135Z"
   },
   {
    "duration": 649,
    "start_time": "2022-03-15T16:39:52.653Z"
   },
   {
    "duration": 41,
    "start_time": "2022-03-15T16:39:53.306Z"
   },
   {
    "duration": 57,
    "start_time": "2022-03-15T16:39:53.349Z"
   },
   {
    "duration": 769,
    "start_time": "2022-03-15T16:39:53.409Z"
   },
   {
    "duration": 1191,
    "start_time": "2022-03-15T16:39:54.183Z"
   },
   {
    "duration": 1782,
    "start_time": "2022-03-15T20:00:41.578Z"
   },
   {
    "duration": 70,
    "start_time": "2022-03-15T20:00:43.363Z"
   },
   {
    "duration": 236,
    "start_time": "2022-03-15T20:00:43.436Z"
   },
   {
    "duration": 151,
    "start_time": "2022-03-15T20:00:43.676Z"
   },
   {
    "duration": 284,
    "start_time": "2022-03-15T20:00:43.830Z"
   },
   {
    "duration": 448,
    "start_time": "2022-03-15T20:00:44.116Z"
   },
   {
    "duration": 490,
    "start_time": "2022-03-15T20:00:44.566Z"
   },
   {
    "duration": 596,
    "start_time": "2022-03-15T20:00:45.060Z"
   },
   {
    "duration": 109,
    "start_time": "2022-03-15T20:00:45.660Z"
   },
   {
    "duration": 707,
    "start_time": "2022-03-15T20:00:45.771Z"
   },
   {
    "duration": 780,
    "start_time": "2022-03-15T20:00:46.480Z"
   },
   {
    "duration": 302,
    "start_time": "2022-03-15T20:00:47.263Z"
   },
   {
    "duration": 117,
    "start_time": "2022-03-15T20:00:47.568Z"
   },
   {
    "duration": 274,
    "start_time": "2022-03-15T20:00:47.687Z"
   },
   {
    "duration": 206,
    "start_time": "2022-03-15T20:00:47.963Z"
   },
   {
    "duration": 698,
    "start_time": "2022-03-15T20:00:48.172Z"
   },
   {
    "duration": 730,
    "start_time": "2022-03-15T20:00:48.872Z"
   },
   {
    "duration": 331,
    "start_time": "2022-03-15T20:00:49.605Z"
   },
   {
    "duration": 880,
    "start_time": "2022-03-15T20:00:49.939Z"
   },
   {
    "duration": 401,
    "start_time": "2022-03-15T20:00:50.822Z"
   },
   {
    "duration": 151,
    "start_time": "2022-03-15T20:00:51.225Z"
   },
   {
    "duration": 372,
    "start_time": "2022-03-15T20:00:51.378Z"
   },
   {
    "duration": 616,
    "start_time": "2022-03-15T20:00:51.757Z"
   },
   {
    "duration": 898,
    "start_time": "2022-03-15T20:00:52.376Z"
   },
   {
    "duration": 480,
    "start_time": "2022-03-15T20:00:53.276Z"
   },
   {
    "duration": 1037,
    "start_time": "2022-03-15T20:00:53.759Z"
   },
   {
    "duration": 38,
    "start_time": "2022-03-15T20:00:54.799Z"
   },
   {
    "duration": 407,
    "start_time": "2022-03-15T20:00:54.840Z"
   },
   {
    "duration": 1573,
    "start_time": "2022-03-15T20:00:55.249Z"
   },
   {
    "duration": 1202,
    "start_time": "2022-03-15T20:00:56.825Z"
   },
   {
    "duration": 21,
    "start_time": "2022-03-15T20:01:00.143Z"
   },
   {
    "duration": 15,
    "start_time": "2022-03-15T20:03:29.002Z"
   },
   {
    "duration": 16,
    "start_time": "2022-03-15T20:08:48.586Z"
   },
   {
    "duration": 21,
    "start_time": "2022-03-15T20:13:43.302Z"
   },
   {
    "duration": 14,
    "start_time": "2022-03-15T20:14:03.623Z"
   },
   {
    "duration": 16,
    "start_time": "2022-03-15T20:15:01.754Z"
   },
   {
    "duration": 21,
    "start_time": "2022-03-15T20:15:25.169Z"
   },
   {
    "duration": 13,
    "start_time": "2022-03-15T20:15:42.649Z"
   },
   {
    "duration": 15,
    "start_time": "2022-03-15T20:15:57.309Z"
   },
   {
    "duration": 12,
    "start_time": "2022-03-15T20:17:28.199Z"
   },
   {
    "duration": 13,
    "start_time": "2022-03-15T20:18:38.447Z"
   },
   {
    "duration": 14,
    "start_time": "2022-03-15T20:18:44.843Z"
   },
   {
    "duration": 1413,
    "start_time": "2022-03-16T07:09:17.078Z"
   },
   {
    "duration": 57,
    "start_time": "2022-03-16T07:09:18.494Z"
   },
   {
    "duration": 36,
    "start_time": "2022-03-16T07:09:18.554Z"
   },
   {
    "duration": 14,
    "start_time": "2022-03-16T07:09:18.593Z"
   },
   {
    "duration": 24,
    "start_time": "2022-03-16T07:09:18.609Z"
   },
   {
    "duration": 52,
    "start_time": "2022-03-16T07:09:18.636Z"
   },
   {
    "duration": 4,
    "start_time": "2022-03-16T07:09:18.691Z"
   },
   {
    "duration": 297,
    "start_time": "2022-03-16T07:09:18.697Z"
   },
   {
    "duration": 17,
    "start_time": "2022-03-16T07:09:18.998Z"
   },
   {
    "duration": 15,
    "start_time": "2022-03-16T07:09:19.018Z"
   },
   {
    "duration": 53,
    "start_time": "2022-03-16T07:09:19.036Z"
   },
   {
    "duration": 27,
    "start_time": "2022-03-16T07:09:19.091Z"
   },
   {
    "duration": 22,
    "start_time": "2022-03-16T07:09:19.120Z"
   },
   {
    "duration": 55,
    "start_time": "2022-03-16T07:09:19.144Z"
   },
   {
    "duration": 10,
    "start_time": "2022-03-16T07:09:19.201Z"
   },
   {
    "duration": 13,
    "start_time": "2022-03-16T07:09:19.214Z"
   },
   {
    "duration": 429,
    "start_time": "2022-03-16T07:09:19.230Z"
   },
   {
    "duration": 277,
    "start_time": "2022-03-16T07:09:19.661Z"
   },
   {
    "duration": 464,
    "start_time": "2022-03-16T07:09:19.940Z"
   },
   {
    "duration": 396,
    "start_time": "2022-03-16T07:09:20.406Z"
   },
   {
    "duration": 23,
    "start_time": "2022-03-16T07:09:20.804Z"
   },
   {
    "duration": 7,
    "start_time": "2022-03-16T07:09:20.829Z"
   },
   {
    "duration": 65,
    "start_time": "2022-03-16T07:09:20.838Z"
   },
   {
    "duration": 591,
    "start_time": "2022-03-16T07:09:20.905Z"
   },
   {
    "duration": 453,
    "start_time": "2022-03-16T07:09:21.499Z"
   },
   {
    "duration": 558,
    "start_time": "2022-03-16T07:09:21.954Z"
   },
   {
    "duration": 36,
    "start_time": "2022-03-16T07:09:22.517Z"
   },
   {
    "duration": 49,
    "start_time": "2022-03-16T07:09:22.556Z"
   },
   {
    "duration": 688,
    "start_time": "2022-03-16T07:09:22.607Z"
   },
   {
    "duration": 1202,
    "start_time": "2022-03-16T07:09:23.298Z"
   },
   {
    "duration": 14,
    "start_time": "2022-03-16T07:09:24.503Z"
   },
   {
    "duration": 801,
    "start_time": "2022-03-16T07:09:24.520Z"
   },
   {
    "duration": 21,
    "start_time": "2022-03-16T07:09:25.324Z"
   },
   {
    "duration": 42,
    "start_time": "2022-03-16T07:09:25.348Z"
   },
   {
    "duration": 28,
    "start_time": "2022-03-16T07:09:25.393Z"
   },
   {
    "duration": 582,
    "start_time": "2022-03-16T07:09:25.424Z"
   },
   {
    "duration": 24,
    "start_time": "2022-03-16T07:09:26.009Z"
   },
   {
    "duration": 1084,
    "start_time": "2022-03-16T07:09:26.035Z"
   },
   {
    "duration": 26,
    "start_time": "2022-03-16T07:10:32.489Z"
   },
   {
    "duration": 84,
    "start_time": "2022-03-16T07:11:04.713Z"
   },
   {
    "duration": 1132,
    "start_time": "2022-03-16T11:45:18.479Z"
   },
   {
    "duration": 43,
    "start_time": "2022-03-16T11:45:19.613Z"
   },
   {
    "duration": 19,
    "start_time": "2022-03-16T11:45:19.658Z"
   },
   {
    "duration": 12,
    "start_time": "2022-03-16T11:45:19.679Z"
   },
   {
    "duration": 17,
    "start_time": "2022-03-16T11:45:19.692Z"
   },
   {
    "duration": 16,
    "start_time": "2022-03-16T11:45:19.711Z"
   },
   {
    "duration": 3,
    "start_time": "2022-03-16T11:45:19.759Z"
   },
   {
    "duration": 173,
    "start_time": "2022-03-16T11:45:19.764Z"
   },
   {
    "duration": 20,
    "start_time": "2022-03-16T11:45:19.939Z"
   },
   {
    "duration": 10,
    "start_time": "2022-03-16T11:45:19.961Z"
   },
   {
    "duration": 12,
    "start_time": "2022-03-16T11:45:19.973Z"
   },
   {
    "duration": 27,
    "start_time": "2022-03-16T11:45:19.987Z"
   },
   {
    "duration": 19,
    "start_time": "2022-03-16T11:45:20.015Z"
   },
   {
    "duration": 40,
    "start_time": "2022-03-16T11:45:20.035Z"
   },
   {
    "duration": 7,
    "start_time": "2022-03-16T11:45:20.077Z"
   },
   {
    "duration": 10,
    "start_time": "2022-03-16T11:45:20.086Z"
   },
   {
    "duration": 331,
    "start_time": "2022-03-16T11:45:20.097Z"
   },
   {
    "duration": 194,
    "start_time": "2022-03-16T11:45:20.430Z"
   },
   {
    "duration": 313,
    "start_time": "2022-03-16T11:45:20.626Z"
   },
   {
    "duration": 272,
    "start_time": "2022-03-16T11:45:20.941Z"
   },
   {
    "duration": 16,
    "start_time": "2022-03-16T11:45:52.343Z"
   },
   {
    "duration": 210,
    "start_time": "2022-03-16T11:46:24.198Z"
   },
   {
    "duration": 360,
    "start_time": "2022-03-16T11:46:43.939Z"
   },
   {
    "duration": 415,
    "start_time": "2022-03-16T11:47:11.185Z"
   },
   {
    "duration": 511,
    "start_time": "2022-03-16T11:47:26.852Z"
   },
   {
    "duration": 342,
    "start_time": "2022-03-16T11:49:49.276Z"
   },
   {
    "duration": 474,
    "start_time": "2022-03-16T11:49:59.152Z"
   },
   {
    "duration": 281,
    "start_time": "2022-03-16T11:50:19.809Z"
   },
   {
    "duration": 487,
    "start_time": "2022-03-16T11:50:33.020Z"
   },
   {
    "duration": 680,
    "start_time": "2022-03-16T11:52:11.894Z"
   },
   {
    "duration": 687,
    "start_time": "2022-03-16T11:55:03.060Z"
   },
   {
    "duration": 739,
    "start_time": "2022-03-16T11:55:09.633Z"
   }
  ],
  "kernelspec": {
   "display_name": "Python 3 (ipykernel)",
   "language": "python",
   "name": "python3"
  },
  "language_info": {
   "codemirror_mode": {
    "name": "ipython",
    "version": 3
   },
   "file_extension": ".py",
   "mimetype": "text/x-python",
   "name": "python",
   "nbconvert_exporter": "python",
   "pygments_lexer": "ipython3",
   "version": "3.9.7"
  },
  "toc": {
   "base_numbering": 1,
   "nav_menu": {},
   "number_sections": true,
   "sideBar": true,
   "skip_h1_title": true,
   "title_cell": "Table of Contents",
   "title_sidebar": "Contents",
   "toc_cell": false,
   "toc_position": {},
   "toc_section_display": true,
   "toc_window_display": true
  }
 },
 "nbformat": 4,
 "nbformat_minor": 2
}
